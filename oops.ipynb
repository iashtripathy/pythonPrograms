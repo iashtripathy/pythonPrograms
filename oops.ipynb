{
 "cells": [
  {
   "cell_type": "code",
   "execution_count": 55,
   "metadata": {},
   "outputs": [
    {
     "name": "stdout",
     "output_type": "stream",
     "text": [
      "50\n",
      "New\n",
      "New\n"
     ]
    }
   ],
   "source": [
    "x = 50\n",
    "def func():\n",
    "    global x\n",
    "    print(x)\n",
    "    x = \"New\"\n",
    "    print(x)\n",
    "func()\n",
    "print(x)"
   ]
  },
  {
   "cell_type": "code",
   "execution_count": 17,
   "metadata": {},
   "outputs": [
    {
     "name": "stdout",
     "output_type": "stream",
     "text": [
      "labrador newLabrador\n",
      "labrador newLabrador\n",
      "doggy\n",
      "doggy\n"
     ]
    },
    {
     "data": {
      "text/plain": [
       "['__class__',\n",
       " '__delattr__',\n",
       " '__dict__',\n",
       " '__dir__',\n",
       " '__doc__',\n",
       " '__eq__',\n",
       " '__format__',\n",
       " '__ge__',\n",
       " '__getattribute__',\n",
       " '__gt__',\n",
       " '__hash__',\n",
       " '__init__',\n",
       " '__init_subclass__',\n",
       " '__le__',\n",
       " '__lt__',\n",
       " '__module__',\n",
       " '__ne__',\n",
       " '__new__',\n",
       " '__reduce__',\n",
       " '__reduce_ex__',\n",
       " '__repr__',\n",
       " '__setattr__',\n",
       " '__sizeof__',\n",
       " '__str__',\n",
       " '__subclasshook__',\n",
       " '__weakref__',\n",
       " 'breed',\n",
       " 'display',\n",
       " 'myname',\n",
       " 'newBreed',\n",
       " 'newFunc']"
      ]
     },
     "execution_count": 17,
     "metadata": {},
     "output_type": "execute_result"
    }
   ],
   "source": [
    "class dog():\n",
    "    myname = 'doggy'      #class variable\n",
    "    def __init__(self,breed):\n",
    "        self.breed = breed      \n",
    "    def newFunc(self,newBreed):\n",
    "        self.newBreed = newBreed\n",
    "        #print('myName',myname)\n",
    "    def display(self):\n",
    "        print(self.breed,self.newBreed)\n",
    "#breed,newBreed are instance variables\n",
    "dogObj = dog('labrador')\n",
    "dogObj.newFunc('newLabrador')\n",
    "dogObj.display()\n",
    "print(dogObj.breed,dogObj.newBreed)\n",
    "print(dogObj.myname)\n",
    "print(dog.myname)\n",
    "dir(dogObj)\n",
    "#dir() returns a list of all the members in the specified object."
   ]
  },
  {
   "cell_type": "code",
   "execution_count": 20,
   "metadata": {},
   "outputs": [
    {
     "name": "stdout",
     "output_type": "stream",
     "text": [
      "3\n"
     ]
    },
    {
     "data": {
      "text/plain": [
       "54"
      ]
     },
     "execution_count": 20,
     "metadata": {},
     "output_type": "execute_result"
    }
   ],
   "source": [
    "class New():\n",
    "    def __init__(self,length):\n",
    "        print('New is called {}'.format(length))\n",
    "class Square(New):\n",
    "    def __init__(self, length):\n",
    "        self.length = length\n",
    "    def area(self):\n",
    "        return self.length*self.length\n",
    "\n",
    "class Cube(Square):\n",
    "    def surface_area(self):\n",
    "        print(self.length)\n",
    "        face_area = super().area()\n",
    "        return face_area * 6\n",
    "\n",
    "    def volume(self):\n",
    "        face_area = super().area()\n",
    "        return face_area * self.length\n",
    "cube = Cube(3)\n",
    "cube.surface_area()"
   ]
  },
  {
   "cell_type": "code",
   "execution_count": 29,
   "metadata": {},
   "outputs": [
    {
     "ename": "AttributeError",
     "evalue": "'RightPyramid' object has no attribute 'height'",
     "output_type": "error",
     "traceback": [
      "\u001b[0;31m---------------------------------------------------------------------------\u001b[0m",
      "\u001b[0;31mAttributeError\u001b[0m                            Traceback (most recent call last)",
      "\u001b[0;32m<ipython-input-29-6be487c5308b>\u001b[0m in \u001b[0;36m<module>\u001b[0;34m\u001b[0m\n\u001b[1;32m     35\u001b[0m \u001b[0;34m\u001b[0m\u001b[0m\n\u001b[1;32m     36\u001b[0m \u001b[0mpyramid\u001b[0m \u001b[0;34m=\u001b[0m \u001b[0mRightPyramid\u001b[0m\u001b[0;34m(\u001b[0m\u001b[0;36m2\u001b[0m\u001b[0;34m,\u001b[0m \u001b[0;36m4\u001b[0m\u001b[0;34m)\u001b[0m\u001b[0;34m\u001b[0m\u001b[0;34m\u001b[0m\u001b[0m\n\u001b[0;32m---> 37\u001b[0;31m \u001b[0mpyramid\u001b[0m\u001b[0;34m.\u001b[0m\u001b[0marea\u001b[0m\u001b[0;34m(\u001b[0m\u001b[0;34m)\u001b[0m\u001b[0;34m\u001b[0m\u001b[0;34m\u001b[0m\u001b[0m\n\u001b[0m",
      "\u001b[0;32m<ipython-input-29-6be487c5308b>\u001b[0m in \u001b[0;36marea\u001b[0;34m(self)\u001b[0m\n\u001b[1;32m     30\u001b[0m \u001b[0;34m\u001b[0m\u001b[0m\n\u001b[1;32m     31\u001b[0m     \u001b[0;32mdef\u001b[0m \u001b[0marea\u001b[0m\u001b[0;34m(\u001b[0m\u001b[0mself\u001b[0m\u001b[0;34m)\u001b[0m\u001b[0;34m:\u001b[0m\u001b[0;34m\u001b[0m\u001b[0;34m\u001b[0m\u001b[0m\n\u001b[0;32m---> 32\u001b[0;31m         \u001b[0mbase_area\u001b[0m \u001b[0;34m=\u001b[0m \u001b[0msuper\u001b[0m\u001b[0;34m(\u001b[0m\u001b[0;34m)\u001b[0m\u001b[0;34m.\u001b[0m\u001b[0marea\u001b[0m\u001b[0;34m(\u001b[0m\u001b[0;34m)\u001b[0m\u001b[0;34m\u001b[0m\u001b[0;34m\u001b[0m\u001b[0m\n\u001b[0m\u001b[1;32m     33\u001b[0m         \u001b[0mperimeter\u001b[0m \u001b[0;34m=\u001b[0m \u001b[0msuper\u001b[0m\u001b[0;34m(\u001b[0m\u001b[0;34m)\u001b[0m\u001b[0;34m.\u001b[0m\u001b[0mperimeter\u001b[0m\u001b[0;34m(\u001b[0m\u001b[0;34m)\u001b[0m\u001b[0;34m\u001b[0m\u001b[0;34m\u001b[0m\u001b[0m\n\u001b[1;32m     34\u001b[0m         \u001b[0;32mreturn\u001b[0m \u001b[0;36m0.5\u001b[0m \u001b[0;34m*\u001b[0m \u001b[0mperimeter\u001b[0m \u001b[0;34m*\u001b[0m \u001b[0mself\u001b[0m\u001b[0;34m.\u001b[0m\u001b[0mslant_height\u001b[0m \u001b[0;34m+\u001b[0m \u001b[0mbase_area\u001b[0m\u001b[0;34m\u001b[0m\u001b[0;34m\u001b[0m\u001b[0m\n",
      "\u001b[0;32m<ipython-input-29-6be487c5308b>\u001b[0m in \u001b[0;36marea\u001b[0;34m(self)\u001b[0m\n\u001b[1;32m     22\u001b[0m \u001b[0;34m\u001b[0m\u001b[0m\n\u001b[1;32m     23\u001b[0m     \u001b[0;32mdef\u001b[0m \u001b[0marea\u001b[0m\u001b[0;34m(\u001b[0m\u001b[0mself\u001b[0m\u001b[0;34m)\u001b[0m\u001b[0;34m:\u001b[0m\u001b[0;34m\u001b[0m\u001b[0;34m\u001b[0m\u001b[0m\n\u001b[0;32m---> 24\u001b[0;31m         \u001b[0;32mreturn\u001b[0m \u001b[0;36m0.5\u001b[0m \u001b[0;34m*\u001b[0m \u001b[0mself\u001b[0m\u001b[0;34m.\u001b[0m\u001b[0mbase\u001b[0m \u001b[0;34m*\u001b[0m \u001b[0mself\u001b[0m\u001b[0;34m.\u001b[0m\u001b[0mheight\u001b[0m\u001b[0;34m\u001b[0m\u001b[0;34m\u001b[0m\u001b[0m\n\u001b[0m\u001b[1;32m     25\u001b[0m \u001b[0;34m\u001b[0m\u001b[0m\n\u001b[1;32m     26\u001b[0m \u001b[0;32mclass\u001b[0m \u001b[0mRightPyramid\u001b[0m\u001b[0;34m(\u001b[0m\u001b[0mTriangle\u001b[0m\u001b[0;34m,\u001b[0m \u001b[0mSquare\u001b[0m\u001b[0;34m)\u001b[0m\u001b[0;34m:\u001b[0m\u001b[0;34m\u001b[0m\u001b[0;34m\u001b[0m\u001b[0m\n",
      "\u001b[0;31mAttributeError\u001b[0m: 'RightPyramid' object has no attribute 'height'"
     ]
    }
   ],
   "source": [
    "class Rectangle:\n",
    "    def __init__(self, length, width):\n",
    "        self.length = length\n",
    "        self.width = width\n",
    "\n",
    "    def area(self):\n",
    "        return self.length * self.width\n",
    "\n",
    "    def perimeter(self):\n",
    "        return 2 * self.length + 2 * self.width\n",
    "\n",
    "\n",
    "class Square(Rectangle):\n",
    "    def __init__(self, length):\n",
    "        super().__init__(length, length)\n",
    "\n",
    "class Triangle:\n",
    "    def __init__(self, base, height):\n",
    "        self.base = base\n",
    "       # print(height)\n",
    "        self.height = height\n",
    "\n",
    "    def area(self):\n",
    "        return 0.5 * self.base * self.height\n",
    "\n",
    "class RightPyramid(Triangle, Square):\n",
    "    def __init__(self, base, slant_height):\n",
    "        self.base = base\n",
    "        self.slant_height = slant_height\n",
    "\n",
    "    def area(self):\n",
    "        base_area = super().area()\n",
    "        perimeter = super().perimeter()\n",
    "        return 0.5 * perimeter * self.slant_height + base_area\n",
    "\n",
    "pyramid = RightPyramid(2, 4)\n",
    "pyramid.area()"
   ]
  },
  {
   "cell_type": "code",
   "execution_count": 30,
   "metadata": {},
   "outputs": [
    {
     "data": {
      "text/plain": [
       "(__main__.RightPyramid,\n",
       " __main__.Triangle,\n",
       " __main__.Square,\n",
       " __main__.Rectangle,\n",
       " object)"
      ]
     },
     "execution_count": 30,
     "metadata": {},
     "output_type": "execute_result"
    }
   ],
   "source": [
    "RightPyramid.__mro__"
   ]
  },
  {
   "cell_type": "code",
   "execution_count": 1,
   "metadata": {},
   "outputs": [
    {
     "name": "stdout",
     "output_type": "stream",
     "text": [
      "Name not found\n",
      "demo\n",
      "Program done\n"
     ]
    }
   ],
   "source": [
    "def demo(num1,num2):\n",
    "    try:\n",
    "        if(num1==2):\n",
    "            num3=num1/num2\n",
    "        else:\n",
    "            num3 = num3/num2\n",
    "        print(\"Number divided\")\n",
    "    except NameError:\n",
    "        print(\"Name not found\")\n",
    "    except TypeError:\n",
    "        print(\"Invalid Type\")\n",
    "    except ZeroDivisionError:\n",
    "        print(\"Division by zero\")\n",
    "try:\n",
    "    demo('2',0)\n",
    "    print(\"demo\")\n",
    "except:\n",
    "    print(\"Error occured\")\n",
    "finally:\n",
    "    print(\"Program done\")"
   ]
  },
  {
   "cell_type": "code",
   "execution_count": 11,
   "metadata": {},
   "outputs": [
    {
     "name": "stdout",
     "output_type": "stream",
     "text": [
      "23 23\n",
      "23\n",
      "6\n"
     ]
    }
   ],
   "source": [
    "values = [\"823\",\"863\"]\n",
    "num = values[0][0:]\n",
    "#print(values[0][0])\n",
    "#print(num>=values[0][0:])\n",
    "#print(type(num))\n",
    "incr= 0 \n",
    "for row in range(0,len(values)):\n",
    "    for column in range(0,len(values[row])):\n",
    "        incr = incr+1\n",
    "        if(num>values[row][column:]):\n",
    "            num = values[row][column:]\n",
    "            print(num,values[row][column:])\n",
    "print(num)\n",
    "print(incr)"
   ]
  },
  {
   "cell_type": "code",
   "execution_count": 24,
   "metadata": {},
   "outputs": [
    {
     "name": "stdout",
     "output_type": "stream",
     "text": [
      "<__main__.Base object at 0x7fd028384b10>\n",
      "GeeksforGeeks\n",
      "<super: <class 'Derived'>, <Derived object>>\n",
      "<__main__.Derived object at 0x7fd02952d350>\n",
      "Calling private member of base class: \n"
     ]
    }
   ],
   "source": [
    "# Python program to \n",
    "# demonstrate private members \n",
    "# Creating a Base class \n",
    "class Base: \n",
    "    def __init__(self):\n",
    "        print(self)\n",
    "        self.a = \"GeeksforGeeks\"\n",
    "        self.__c = \"GeeksforGeeks\"\n",
    "\n",
    "# Creating a derived class \n",
    "class Derived(Base): \n",
    "    def __init__(self): \n",
    "        # Calling constructor of \n",
    "        # Base class \n",
    "        #Base.__init__(self) \n",
    "        print(super())\n",
    "        super().__init__()\n",
    "        print(\"Calling private member of base class: \") \n",
    "        #print(self.__a) \n",
    "# Driver code \n",
    "obj1 = Base()\n",
    "print(obj1.a)\n",
    "obj2 = Derived()\n",
    "\n",
    "# Uncommenting print(obj1.c) will \n",
    "# raise an AttributeError \n",
    "\n",
    "# Uncommenting obj2 = Derived() will \n",
    "# also raise an AtrributeError as \n",
    "# private member of base class \n",
    "# is called inside derived class \n"
   ]
  },
  {
   "cell_type": "code",
   "execution_count": 59,
   "metadata": {},
   "outputs": [
    {
     "name": "stdout",
     "output_type": "stream",
     "text": [
      "21\n",
      "22\n",
      "23\n"
     ]
    }
   ],
   "source": [
    "class Robot(object):\n",
    "    def __init__(self):\n",
    "        self._variable = 21\n",
    "        self.__version = 22\n",
    "\n",
    "    def getVersion(self):\n",
    "        print(self.__version)\n",
    "\n",
    "    def setVersion(self, version):\n",
    "        self.__version = version\n",
    "\n",
    "obj = Robot()\n",
    "print(obj._variable)\n",
    "#print(obj.__version)\n",
    "obj.getVersion()\n",
    "obj.setVersion(23)\n",
    "obj.getVersion()\n",
    "#print(obj.__version)\n",
    "#print(Robot.__version)"
   ]
  },
  {
   "cell_type": "code",
   "execution_count": 33,
   "metadata": {},
   "outputs": [
    {
     "name": "stdout",
     "output_type": "stream",
     "text": [
      "3\n",
      "571\n"
     ]
    }
   ],
   "source": [
    "class student:\n",
    "    def __init__(self,userName,rollNo):\n",
    "        self.__name = userName\n",
    "        _sec = 2\n",
    "        #__name private member\n",
    "        self._roll = rollNo\n",
    "        #_roll is protected memeber can be accessed by derived classes\n",
    "class studentName(student):\n",
    "    _sec = 3\n",
    "    def __init__(self,name):\n",
    "        student.__init__(self,name,571)\n",
    "        print(self._sec)\n",
    "obj1 = studentName('iash')\n",
    "print(obj1._roll)"
   ]
  },
  {
   "cell_type": "code",
   "execution_count": 39,
   "metadata": {},
   "outputs": [
    {
     "data": {
      "text/plain": [
       "True"
      ]
     },
     "execution_count": 39,
     "metadata": {},
     "output_type": "execute_result"
    }
   ],
   "source": [
    "#The below class has 3 reference variables\n",
    "class Team:\n",
    "    counter = 0\n",
    "    def __init__(self):\n",
    "        self.no = 11\n",
    "        self.coach = None\n",
    "t1 = Team()\n",
    "t2 = Team()\n",
    "t3 = t2\n",
    "t2 = t1\n",
    "t2 = Team()\n",
    "t1 = t3"
   ]
  },
  {
   "cell_type": "code",
   "execution_count": 44,
   "metadata": {},
   "outputs": [
    {
     "name": "stdout",
     "output_type": "stream",
     "text": [
      "10\n",
      "12\n"
     ]
    }
   ],
   "source": [
    "from queue import Queue\n",
    "inputQueue = Queue(5)\n",
    "inputQueue.put(10)\n",
    "inputQueue.put(12)\n",
    "inputQueue.put(14)\n",
    "inputQueue.put(16)\n",
    "inputQueue.put(18)\n",
    "print(inputQueue.get())\n",
    "print(inputQueue.get())"
   ]
  },
  {
   "cell_type": "code",
   "execution_count": 46,
   "metadata": {},
   "outputs": [
    {
     "name": "stdout",
     "output_type": "stream",
     "text": [
      "Red\n"
     ]
    }
   ],
   "source": [
    "class Glove:\n",
    "    def __init__(self,color):\n",
    "        self.__color = color\n",
    "    def get_color(self):\n",
    "        return self.__color\n",
    "    def set_color(self,color):\n",
    "        self.__color = color\n",
    "class Minion:\n",
    "    def __init__(self,glove):\n",
    "        self.__glove = glove\n",
    "        self.__color = \"Yellow\"\n",
    "    def get_glove(self):\n",
    "        return self._glove\n",
    "bg = Glove(\"Black\")\n",
    "rg = Glove(\"Red\")\n",
    "bob = Minion(bg)\n",
    "bg.set_color(rg.get_color())\n",
    "print(bg.get_color())"
   ]
  },
  {
   "cell_type": "code",
   "execution_count": 47,
   "metadata": {},
   "outputs": [
    {
     "name": "stdout",
     "output_type": "stream",
     "text": [
      "Invalid Length - inside class\n",
      "Inside the class\n",
      "Outside the class\n"
     ]
    }
   ],
   "source": [
    "class InvalidLengthException(Exception):\n",
    "    pass\n",
    "class Mobile:\n",
    "    def __init__(self,mob_no):\n",
    "        self.__mob_no = mob_no\n",
    "    def validate_mobile_number(self):\n",
    "        try:\n",
    "            if(len(self.__mob_no)!=10):\n",
    "                raise InvalidLengthException\n",
    "            else:\n",
    "                print(\"Valid Mobile Number\")\n",
    "        except InvalidLengthException:\n",
    "            print(\"Invalid Length - inside class\")\n",
    "        print(\"Inside the class\")\n",
    "mob = Mobile(\"987665\")\n",
    "try:\n",
    "    mob.validate_mobile_number()\n",
    "    print(\"Outside the class\")\n",
    "except InvalidLengthException:\n",
    "    print(\"Invalid Length - outside class\")"
   ]
  },
  {
   "cell_type": "code",
   "execution_count": 75,
   "metadata": {},
   "outputs": [
    {
     "name": "stdout",
     "output_type": "stream",
     "text": [
      "inside object init\n",
      "inside object init\n",
      "The favourite game of Chaplin is catch\n",
      "Pet eats the desired food: Fish\n",
      "cat eats the desired food: Fish\n"
     ]
    }
   ],
   "source": [
    "cclass pet:\n",
    "    def __init__(self,name,preferred_food):\n",
    "        self.name = name\n",
    "        self.preferred_food = preferred_food\n",
    "        #super().__init__()\n",
    "    def eats_food(self):\n",
    "        print(\"Pet eats the desired food:\",self.preferred_food)\n",
    "class cat(pet):\n",
    "    def __init__(self,name,preferred_food,game):\n",
    "        super().__init__(name,preferred_food)\n",
    "        self.game = game\n",
    "    def eats_food(self):\n",
    "        super().eats_food()\n",
    "        print(\"cat eats the desired food:\",self.preferred_food)\n",
    "    def favourite_game(self):\n",
    "        print(\"The favourite game of\",self.name,\"is\",self.game)\n",
    "        self.eats_food()\n",
    "p = pet(\"Reena\",\"Bone\")\n",
    "c = cat(\"Chaplin\",\"Fish\",\"catch\")\n",
    "c.favourite_game()"
   ]
  },
  {
   "cell_type": "code",
   "execution_count": 60,
   "metadata": {},
   "outputs": [
    {
     "name": "stdout",
     "output_type": "stream",
     "text": [
      "1\n",
      "2\n",
      "3\n"
     ]
    }
   ],
   "source": [
    "val = 123\n",
    "for item in str(val):\n",
    "    print(item)"
   ]
  },
  {
   "cell_type": "code",
   "execution_count": 69,
   "metadata": {},
   "outputs": [
    {
     "name": "stdout",
     "output_type": "stream",
     "text": [
      "Name error ocurred\n",
      "Finally in function\n",
      "Function executed successfully\n",
      "Try handled\n",
      "Finally in main\n"
     ]
    }
   ],
   "source": [
    "#Note:In which ever line error ocurred the execution jumps out of \n",
    "#that try block.All other statements inside that try block doesnt\n",
    "#execute further\n",
    "def procedural(val):\n",
    "    try:\n",
    "        sum1 = 0\n",
    "        for item in str(val):\n",
    "            sum1 = sum1+int(item_val)    #error occurs here\n",
    "        print(\"Inside try of procedural\") #this doesnt execute\n",
    "    except TypeError:\n",
    "        print(\"Type error occured\")\n",
    "    except NameError:\n",
    "        print(\"Name error ocurred\")\n",
    "    #finally indicates end of try except\n",
    "    #if the error is not handled before finally block the next lines\n",
    "    #after finally block dosesnt execute\n",
    "    #if the error is handled before finally block then the next lines\n",
    "    #lines after the finally block executes successfully\n",
    "    #Try removing NameError above and see the result\n",
    "    finally:\n",
    "        print(\"Finally in function\")\n",
    "    print(\"Function executed successfully\")\n",
    "try:\n",
    "    procedural(792)\n",
    "    print(\"Try handled\")\n",
    "except ValueError:\n",
    "    print(\"Value error ocurred\")\n",
    "except NameError:\n",
    "    print(\"Name error ocurred\")\n",
    "finally:\n",
    "    print(\"Finally in main\")"
   ]
  },
  {
   "cell_type": "code",
   "execution_count": 80,
   "metadata": {},
   "outputs": [
    {
     "name": "stdout",
     "output_type": "stream",
     "text": [
      "False\n"
     ]
    }
   ],
   "source": [
    "#class object:\n",
    "#    def __init__(self):\n",
    "#        print(\"Inside init of object\")\n",
    "class a:\n",
    "    a = 10\n",
    "#obj = a()\n",
    "print(issubclass(a,object))\n",
    "#The same code in any other python compiler gives True\n",
    "#The result should be true because every class is derived from\n",
    "#main class which is object"
   ]
  },
  {
   "cell_type": "code",
   "execution_count": 88,
   "metadata": {},
   "outputs": [
    {
     "name": "stdout",
     "output_type": "stream",
     "text": [
      "(3, 4, 5)\n",
      "9\n",
      "16\n",
      "25\n",
      "0 0 1 4 (3, 4, 5)\n"
     ]
    }
   ],
   "source": [
    "def func(val1,val2,val3=10,val4=3,*val5):\n",
    "    print(val5)\n",
    "    val4+=2\n",
    "    val2 = val1*val4\n",
    "    for val in val5:\n",
    "        val = val*val\n",
    "        print(val)\n",
    "    print(val1,val2,val3,val4,val5)\n",
    "func(0,0,1,2,3,4,5)"
   ]
  },
  {
   "cell_type": "code",
   "execution_count": null,
   "metadata": {},
   "outputs": [],
   "source": []
  }
 ],
 "metadata": {
  "kernelspec": {
   "display_name": "Python 3",
   "language": "python",
   "name": "python3"
  },
  "language_info": {
   "codemirror_mode": {
    "name": "ipython",
    "version": 3
   },
   "file_extension": ".py",
   "mimetype": "text/x-python",
   "name": "python",
   "nbconvert_exporter": "python",
   "pygments_lexer": "ipython3",
   "version": "3.7.5rc1"
  }
 },
 "nbformat": 4,
 "nbformat_minor": 2
}
