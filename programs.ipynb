{
 "cells": [
  {
   "cell_type": "code",
   "execution_count": 55,
   "metadata": {},
   "outputs": [
    {
     "name": "stdout",
     "output_type": "stream",
     "text": [
      "{0, 10, 5} {0, 10, 5}\n",
      "False False\n",
      "False\n"
     ]
    }
   ],
   "source": [
    "#check if the coordinates form a square or not\n",
    "coordinates1 = [[0,1],[1,0],[-1,0],[0,-1]]\n",
    "coordinates = [[0,5],[5,10],[5,0],[10,5]]\n",
    "def isSquare(coordinates):\n",
    "    x = set()\n",
    "    y = set()\n",
    "    for coordinate in coordinates:\n",
    "        if coordinate[0] not in x:\n",
    "            x.add(coordinate[0])\n",
    "        if coordinate[1] not in y:\n",
    "            y.add(coordinate[1])\n",
    "    side1 = len(x) == 2\n",
    "    side2 = len(y) == 2\n",
    "    print(x,y)\n",
    "    print(side1,side2)\n",
    "    return side1 and side2\n",
    "print(isSquare(coordinates))"
   ]
  },
  {
   "cell_type": "code",
   "execution_count": 19,
   "metadata": {},
   "outputs": [
    {
     "name": "stdout",
     "output_type": "stream",
     "text": [
      "Max Subsequence sum= 20\n",
      "Max subarrayn sum= 16\n"
     ]
    }
   ],
   "source": [
    "#find the max subarray sum and max subsequence sum\n",
    "\n",
    "def maxSubarray(arr):\n",
    "    sum1=0;\n",
    "    sum2=0; #holds max subsequence sum\n",
    "    max1=0; #holds max subarray sum \n",
    "    count1=0; #for checking whether entire array contains negative numbers \n",
    "    for j in range(0,len(arr)):\n",
    "            if(arr[j]<0):\n",
    "                count1+=1;\n",
    "    #print(count1);\n",
    "    for i in range(0,len(arr)):\n",
    "        #if all elements are negative maxSubarraySum =max(arr) and maxSubsequenceSum = max(arr)\n",
    "        if(count1==len(arr)):\n",
    "            max1=max(arr);\n",
    "            sum2=max(arr);\n",
    "        else:\n",
    "            #subsequence sum takes only positive numbers not necessarily continuous\n",
    "            if(arr[i]>0):\n",
    "                sum2+=arr[i];\n",
    "            #[3,-2,6]:in this case since 3+(-2)>0 hence we can consider 3,-2,6 in the max subarray sum  \n",
    "            if(sum1+arr[i]>0):\n",
    "                sum1+=arr[i];\n",
    "            else:\n",
    "            #[3,-4,6]:in this case 3+(-4)<0 hence we start finding maxSubarray sum from 6 i.e by making sum1=0 and exclusing 3,-4 in the subarray sum    \n",
    "                sum1=0;\n",
    "            if(sum1>max1):\n",
    "                max1=sum1;\n",
    "    result=[max1,sum2];\n",
    "    return result;\n",
    "\n",
    "arr = [-1,2,3,-4,5,10]\n",
    "result = maxSubarray(arr)\n",
    "print(\"Max Subsequence sum=\",result[1])\n",
    "print(\"Max subarrayn sum=\",result[0])"
   ]
  },
  {
   "cell_type": "code",
   "execution_count": 21,
   "metadata": {},
   "outputs": [
    {
     "name": "stdout",
     "output_type": "stream",
     "text": [
      "24\n"
     ]
    }
   ],
   "source": [
    "#Max product value wrong code\n",
    "#arr[i]>maxValue and \n",
    "def maxProduct(arr):\n",
    "    maxValue = arr[0]\n",
    "    product = maxValue\n",
    "    for i in range(1,len(arr)):\n",
    "        product = product*arr[i] \n",
    "        if(product > maxValue):\n",
    "            maxValue = product\n",
    "        elif((maxValue>0 and arr[i]>0)):\n",
    "            maxValue = maxValue * arr[i]\n",
    "        elif(arr[i]>maxValue):\n",
    "            maxValue = arr[i]\n",
    "    return maxValue    \n",
    "arr1 = [-1,-4,-3,-6,-7,-2,-5]\n",
    "arr2 = [-4,1,3,2]\n",
    "arr3 = [-4,1,3,2,-1,-7]\n",
    "arr = [1,-4,3,-6,7,0]\n",
    "print(maxProduct(arr3))"
   ]
  },
  {
   "cell_type": "code",
   "execution_count": 3,
   "metadata": {},
   "outputs": [
    {
     "name": "stdout",
     "output_type": "stream",
     "text": [
      "16\n"
     ]
    }
   ],
   "source": [
    "#max subarray sum\n",
    "def max_sum_subarray(a, n):\n",
    "    f = a[0]\n",
    "    ans = f\n",
    "    for i in range(1,n):\n",
    "        f = max(a[i], f + a[i])\n",
    "        ans = max(ans, f)\n",
    "        #print(ans,end=\" \")\n",
    "    return ans\n",
    "arr = [-1,2,3,-4,5,10]\n",
    "arr1 = [11,-10]\n",
    "print(max_sum_subarray(arr,len(arr)))"
   ]
  },
  {
   "cell_type": "code",
   "execution_count": 81,
   "metadata": {},
   "outputs": [
    {
     "name": "stdout",
     "output_type": "stream",
     "text": [
      "42\n"
     ]
    }
   ],
   "source": [
    "def maxProduct(a,n):\n",
    "    f = a[0]\n",
    "    z = 1\n",
    "    ans = f\n",
    "    currentMax = 0\n",
    "    maxx = a[0]\n",
    "    for i in range(1,n):\n",
    "        if(f==0):\n",
    "            f=1\n",
    "        f = f*a[i]\n",
    "        maxx = max(a[i],maxx)\n",
    "        z = z*a[i]\n",
    "        if(z>currentMax):\n",
    "            currentMax = z\n",
    "        ans = max(f,maxx,ans,currentMax)\n",
    "    return ans\n",
    "arr = [1,-4,3,-6,7,0]\n",
    "arr1 = [-8,-4,-3,-6,-7,-2,-5]\n",
    "arr2 = [-4,1,3,2]\n",
    "arr3 = [-4,1,3,2,-1,-7]\n",
    "arr4 = [-1,0,3,3,-2,4,-5]\n",
    "arr5 = [-1,-4,-3,0]\n",
    "arr6 = [-5,0]\n",
    "arr7 = [0,-9]\n",
    "arr8 = [1,-3,5,6,9]\n",
    "print(maxProduct(arr3,len(arr3)))"
   ]
  },
  {
   "cell_type": "code",
   "execution_count": 14,
   "metadata": {},
   "outputs": [
    {
     "name": "stdout",
     "output_type": "stream",
     "text": [
      "42\n"
     ]
    }
   ],
   "source": [
    "#max subarray product correct code\n",
    "#at every iteration we keep localMaxValue,localMinValue until ith iteration and the final maxProduct at the end of every ith iteration\n",
    "def maxProduct(arr,n):\n",
    "    maxx = arr[0]  #local maximum value\n",
    "    minn = arr[0]  #local minimum value\n",
    "    result = arr[0] #maxProduct value\n",
    "    for i in range(1,n):\n",
    "        if(arr[i]<0):\n",
    "            temp = maxx\n",
    "            maxx = max(arr[i],minn*arr[i])\n",
    "            minn = min(arr[i],temp*arr[i])\n",
    "        else:\n",
    "            maxx = max(arr[i],maxx*arr[i])\n",
    "            minn = min(arr[i],minn*arr[i])\n",
    "            \n",
    "        result = max(maxx,result)\n",
    "    return result\n",
    "\n",
    "arr = [1,-4,3,-6,7,0]\n",
    "arr1 = [-8,-4,-3,-6,-7,-2,-5]\n",
    "arr2 = [-4,1,3,2]\n",
    "arr3 = [-4,1,3,2,-1,-7]\n",
    "arr4 = [-1,0,3,3,-2,4,-5]\n",
    "arr5 = [-1,-4,-3,0]\n",
    "arr6 = [-5,0]\n",
    "arr7 = [0,-9]\n",
    "arr8 = [1,-3,5,6,9]\n",
    "print(maxProduct(arr3,len(arr3)))"
   ]
  },
  {
   "cell_type": "code",
   "execution_count": 77,
   "metadata": {},
   "outputs": [
    {
     "name": "stdout",
     "output_type": "stream",
     "text": [
      "42\n"
     ]
    }
   ],
   "source": [
    "def maxProduct(a,n):\n",
    "    currentMax = a[0]\n",
    "    currentMin = a[0]\n",
    "    finalMax = a[0]\n",
    "    for i in range(1,n):\n",
    "        temp = currentMax;\n",
    "        currentMax = max(max(currentMax * a[i],currentMin * a[i]),a[i])\n",
    "        currentMin = min(min(temp * a[i],currentMin * a[i]),a[i])\n",
    "        if(currentMax > finalMax):\n",
    "            finalMax = currentMax \n",
    "    return finalMax\n",
    "arr = [1,-4,3,-6,7,0]\n",
    "arr1 = [-8,-4,-3,-6,-7,-2,-5]\n",
    "arr2 = [-4,1,3,2]\n",
    "arr3 = [-4,1,3,2,-1,-7]\n",
    "arr4 = [-1,0,3,3,-2,4,-5]\n",
    "arr5 = [-1,-4,-3,0]\n",
    "arr6 = [-5,0]\n",
    "arr7 = [0,-9]\n",
    "arr8 = [1,-3,5,6,9]\n",
    "print(maxProduct(arr3,len(arr3)))"
   ]
  },
  {
   "cell_type": "code",
   "execution_count": 17,
   "metadata": {},
   "outputs": [
    {
     "name": "stdout",
     "output_type": "stream",
     "text": [
      "5\n"
     ]
    }
   ],
   "source": [
    "#longest increasing subsequence\n",
    "#   j  i\n",
    "#  10 20 9 33 21 50 41 60\n",
    "#result is : 10,20,33,50,61 or 10,20,33,41,60 i.e:5\n",
    "def lis(a,n,newArr):\n",
    "    for i in range(1,n):\n",
    "        for j in range(0,i):\n",
    "            if(a[i]>a[j]):\n",
    "                newArr[i] = max(newArr[j]+1,newArr[i])\n",
    "                #print(newArr[i])\n",
    "    newArr.sort(reverse=True)\n",
    "    return newArr[0]\n",
    "\n",
    "arr1 = [10,22,9,33]\n",
    "arr = [10,22,9,33,21,50,41,60]\n",
    "newArr = [1,1,1,1,1,1,1,1]\n",
    "newArr1 = [1,1,1,1]\n",
    "print(lis(arr,len(arr),newArr))                "
   ]
  },
  {
   "cell_type": "code",
   "execution_count": 35,
   "metadata": {},
   "outputs": [
    {
     "name": "stdout",
     "output_type": "stream",
     "text": [
      "{1, 11234, 1123, 2, 3, 34, 4, 234, 11, 12, 112, 1234, 23, 123}\n",
      "[1, 11, 112, 1123, 11234, 1, 12, 123, 1234, 2, 23, 234, 3, 34, 4]\n",
      "Max subArray Sum: 11\n",
      "Max SubArray Product: 24\n"
     ]
    }
   ],
   "source": [
    "#generate all subArrays using recursion and find max subArray sum and maxSubarray product\n",
    "#[1,2,3]:here [1,3] is not the sub array of [1,2,3] since 1,3 is not continuous\n",
    "count = 0\n",
    "maxSum=0\n",
    "maxProduct = 0\n",
    "myset = set()\n",
    "l = []\n",
    "def allSubArrays(arr,start,end):\n",
    "    global maxSum\n",
    "    global maxProduct\n",
    "    #print(end)\n",
    "    s = \"\"\n",
    "    if(start==len(arr)):\n",
    "        return\n",
    "    elif(end==len(arr)+1):\n",
    "        ++count\n",
    "        allSubArrays(arr,start+1,count+1)\n",
    "        return\n",
    "    elif(start < end):\n",
    "        #print(\"here\")\n",
    "        summ=0\n",
    "        product = 1\n",
    "        #print(\"[\",end=\"\")\n",
    "        for i in range(start,end):\n",
    "            summ = summ+arr[i]\n",
    "            product = product * arr[i]\n",
    "            #print(summ)\n",
    "            #myset.add(arr[i])\n",
    "            s = s+str(arr[i])\n",
    "            #print(arr[i],end=\"\")\n",
    "        l.append(int(s))\n",
    "        myset.add(int(s))\n",
    "        #print(l)\n",
    "        if(summ>maxSum):\n",
    "            maxSum=summ\n",
    "        if(product>maxProduct):\n",
    "            maxProduct=product\n",
    "        #print(\"]\")\n",
    "        #print(maxi)\n",
    "        allSubArrays(arr,start,end+1)\n",
    "    else:\n",
    "        allSubArrays(arr,start,end+1)\n",
    "arr = [1,1,2,3,4]\n",
    "arr1 = [3,2,0,-1]\n",
    "arr2 = [-8,-4,-3,-6,-7,-2,-5]\n",
    "arr3 = [-4,1,3,2]\n",
    "arr4 = [-4,1,3,2,-1,-7]\n",
    "arr5 = [1,-4,3,-6,7,0]\n",
    "allSubArrays(arr,0,0)\n",
    "print(myset);\n",
    "print(l)\n",
    "print(\"Max subArray Sum:\",maxSum)\n",
    "print(\"Max SubArray Product:\",maxProduct)"
   ]
  },
  {
   "cell_type": "code",
   "execution_count": 148,
   "metadata": {},
   "outputs": [
    {
     "name": "stdout",
     "output_type": "stream",
     "text": [
      "[[1, 3, 4, 5, 7]]\n"
     ]
    }
   ],
   "source": [
    "my ={4,3,1,5,7,1}\n",
    "l = []\n",
    "l.append(list(my))\n",
    "print(l)"
   ]
  },
  {
   "cell_type": "code",
   "execution_count": 152,
   "metadata": {},
   "outputs": [
    {
     "name": "stdout",
     "output_type": "stream",
     "text": [
      "['ins', 'si', 'ns', 's', 'k', 'insi', 'kin', 'kins', 'in', 'n', 'kinsi', 'nsi', 'i', 'ki']\n",
      "14\n",
      "Max subArray Sum: 0\n",
      "Max SubArray Product: 0\n"
     ]
    }
   ],
   "source": [
    "count = 0\n",
    "maxSum=0\n",
    "maxProduct = 0\n",
    "myset = set()\n",
    "l = []\n",
    "def allSubArrays(arr,start,end):\n",
    "    global maxSum\n",
    "    global maxProduct\n",
    "    global l\n",
    "    #print(end)\n",
    "    s = \"\"\n",
    "    if(start==len(arr)):\n",
    "        return\n",
    "    elif(end==len(arr)+1):\n",
    "        #++count\n",
    "        allSubArrays(arr,start+1,count+1)\n",
    "        return\n",
    "    elif(start < end):\n",
    "        #print(\"here\")\n",
    "        #summ=0\n",
    "        #product = 1\n",
    "        #print(\"[\",end=\"\")\n",
    "        for i in range(start,end):\n",
    "            #summ = summ+arr[i]\n",
    "            #product = product * arr[i]\n",
    "            #print(summ)\n",
    "            #myset.add(arr[i])\n",
    "            s = s+arr[i]\n",
    "            #print(arr[i],end=\"\")\n",
    "        #l.append(s)\n",
    "        myset.add(s)\n",
    "        l = list(myset)\n",
    "        #l.append(myset)\n",
    "        #print(l)\n",
    "        \n",
    "        allSubArrays(arr,start,end+1)\n",
    "    else:\n",
    "        allSubArrays(arr,start,end+1)\n",
    "    \n",
    "arrr = []\n",
    "s=\"ghaqjdrmnegmrlrlfpjmnnngpwalzknsencuzwsnhfltwohdgbmvfuwtquosrnyerucntxxkfqehjqygcarxogvcfkljzbzutxphpyykapncjfclnhndzxghelyvzpylazhuutmcquusexzbhsfsmbnlvnlemzvfqbfzwquairhpylnbvyhiyamztlhfchhbwrqddmuzsprfdwuqqchcpeakkexackwwzihkfenwzwckynymgqydvjtovaoezkjjurylqcuonsujycziobnfnmuwnoxcdtahpituykvgpyyshvukrstcbmnsqtjseflwywnslmvnqrtnzkyaddkjamrezprqgoenzsdryygbkeahfiduozpwkrgmatszaxmwodsqiocvagbvxyqotpaujnqvqgjmfxnxhfbwqjpgodlxdrxpjpmzeabpgqrzpxomniknjkdiwtfgyvwvekrnoupwkcbtmpcfamzrghgrznuedkybmfwctdghcfawajlxfkzhdamuygjbcwnyglkjlfmpxfdtovkqbshhrfrnyjrgxgiozsuuncnwofkqzsypwgeikpfbhryhpszegdfajzvqlwwqlnvdtdiuckcvvosrdweohnmawqonjbxyjjhlccuteeshfrxxdhzgakwjqbymnaeudcmibsytyajsgdpfvrutcpglzxdevenevmkgalcrpknuvcrnkuboennhyzirfwvtozzijujsckbxqpocakzrbwgpqgjjmsrtwmvhwyraukbuxfvebeylfpipzwjdzlmgslbtwzataxgqpasrssnfwndldwkdutdqcmcpyanrbdsxrvcvpsywjambtbzlcrvzesuhvyvwwuwwdznigxjxknfajpknqutfvvqynkpvkzgypasevrpxofbymdzcitoqolwqegocuyqsexhumzmckzuuwkamolbltlifongpvkcnrnnuplftqbxpdnegdqlymftqyrxcnzmu\"\n",
    "for i in range(0,len(s)):\n",
    "    arrr.append(s[i])\n",
    "#print(l)\n",
    "arr0 = ['a','b','c','d','e']\n",
    "arr = ['k','i','n','s','i']\n",
    "arr1 = [3,2,0,-1]\n",
    "arr2 = [-8,-4,-3,-6,-7,-2,-5]\n",
    "arr3 = [-4,1,3,2]\n",
    "arr4 = [-4,1,3,2,-1,-7]\n",
    "arr5 = [1,-4,3,-6,7,0]\n",
    "allSubArrays(arr,0,0)\n",
    "#print(myset);\n",
    "print(l)\n",
    "print(len(l))\n",
    "print(\"Max subArray Sum:\",maxSum)\n",
    "print(\"Max SubArray Product:\",maxProduct)"
   ]
  },
  {
   "cell_type": "code",
   "execution_count": 30,
   "metadata": {},
   "outputs": [
    {
     "name": "stdout",
     "output_type": "stream",
     "text": [
      "[]\n",
      "[2]\n",
      "[3]\n",
      "[32]\n",
      "[1]\n",
      "[12]\n",
      "[13]\n",
      "[132]\n",
      "['000', '001', '010', '011', '100', '101', '110', '111']\n"
     ]
    }
   ],
   "source": [
    "#generate the power set of a set\n",
    "def powerSet(a,n):\n",
    "    b = []\n",
    "    for x in range(0,pow(2,n)):\n",
    "        b.append(bin(x))\n",
    "    for i in range(0,len(b)):\n",
    "        b[i] = b[i][2::]\n",
    "        length = len(b[i])\n",
    "        b[i] = '0'*(3-length) + b[i]\n",
    "        print(\"[\",end=\"\")\n",
    "        for j in range(0,len(b[i])):\n",
    "            #print(b[j])\n",
    "            if(b[i][j]=='1'):\n",
    "                print(a[j],end=\"\")\n",
    "        print(\"]\")\n",
    "    print(b)\n",
    "arr = [1,3,2]\n",
    "powerSet(arr,len(arr))"
   ]
  },
  {
   "cell_type": "code",
   "execution_count": 15,
   "metadata": {},
   "outputs": [
    {
     "name": "stdout",
     "output_type": "stream",
     "text": [
      "9 8 7 6 5 4 3 2 1 "
     ]
    }
   ],
   "source": [
    "for x in range(9,0,-1):\n",
    "    print(x,end=\" \")"
   ]
  },
  {
   "cell_type": "code",
   "execution_count": 41,
   "metadata": {},
   "outputs": [
    {
     "name": "stdout",
     "output_type": "stream",
     "text": [
      "maxPerimeter: 3 sides: [1, 1, 1]\n"
     ]
    }
   ],
   "source": [
    "#max perimeter sum subarray\n",
    "def maxPerimeterSumSubarray(arr,n):\n",
    "    flag = 0\n",
    "    ls = []\n",
    "    maxPerimeter = 0\n",
    "    for i in range(2,n):\n",
    "        if(arr[i]+arr[i-1]>arr[i-2] and arr[i]+arr[i-2]>arr[i-1] and arr[i-1]+arr[i-2]>arr[i]):\n",
    "            flag = 1\n",
    "            perimeter = arr[i]+arr[i-1]+arr[i-2]\n",
    "            if(perimeter > maxPerimeter):\n",
    "                maxPerimeter = perimeter\n",
    "                ls.clear()\n",
    "                ls.append(arr[i-2])\n",
    "                ls.append(arr[i-1])\n",
    "                ls.append(arr[i])\n",
    "    if(flag == 0):\n",
    "        return (0,-1)\n",
    "    else:\n",
    "        return (maxPerimeter,ls)\n",
    "arr = [1,2,3,4,5,10]\n",
    "arr1 = [1,1,1,3,3]\n",
    "arr2 = [1,1,1,2,3,5]\n",
    "arr3 = [1,2,3]\n",
    "result = maxPerimeterSumSubarray(arr2,len(arr2))\n",
    "print(\"maxPerimeter:\",result[0],\"sides:\",result[1])"
   ]
  },
  {
   "cell_type": "code",
   "execution_count": 32,
   "metadata": {},
   "outputs": [
    {
     "name": "stdout",
     "output_type": "stream",
     "text": [
      "[3, 2]\n"
     ]
    }
   ],
   "source": [
    "x= []\n",
    "x.append(3)\n",
    "x.append(2)\n",
    "print(x)"
   ]
  },
  {
   "cell_type": "code",
   "execution_count": 33,
   "metadata": {},
   "outputs": [],
   "source": [
    "x.sort()"
   ]
  },
  {
   "cell_type": "code",
   "execution_count": 34,
   "metadata": {},
   "outputs": [
    {
     "data": {
      "text/plain": [
       "[2, 3]"
      ]
     },
     "execution_count": 34,
     "metadata": {},
     "output_type": "execute_result"
    }
   ],
   "source": [
    "x"
   ]
  },
  {
   "cell_type": "code",
   "execution_count": 66,
   "metadata": {},
   "outputs": [
    {
     "name": "stdout",
     "output_type": "stream",
     "text": [
      "24\n"
     ]
    }
   ],
   "source": [
    "#candies greedy problem taken from hacker rank\n",
    "def candies(arr,n,b):\n",
    "    for i in range(1,n):   #looping from left to right\n",
    "        if(arr[i]>arr[i-1]):\n",
    "            b[i] = b[i-1] + 1\n",
    "    for i in range(n-2,-1,-1): #looping from right to left\n",
    "        if(arr[i]>arr[i+1] and b[i]<=b[i+1]):\n",
    "            b[i] = b[i+1] + 1\n",
    "    return sum(b)\n",
    "arr = [1,2,4,3,9,8,7,6,5,10]\n",
    "b = [1,1,1,1,1,1,1,1,1,1]\n",
    "arr1 = [4,6,4,5,6,2]\n",
    "b1 = [1,1,1,1,1,1]\n",
    "arr2 = [2,4,2,6,1,7,8,9,2,1]\n",
    "b3 = [1,1,1,1,1,1,1,1,1,1]\n",
    "c = []\n",
    "c = candies(arr,len(arr),b)\n",
    "print(sum(c))"
   ]
  },
  {
   "cell_type": "code",
   "execution_count": 67,
   "metadata": {},
   "outputs": [
    {
     "name": "stdout",
     "output_type": "stream",
     "text": [
      "[1, 5]\n"
     ]
    }
   ],
   "source": [
    "#return first subarray indices from left whose sum equals to summ\n",
    "#idea:keep on adding elements from left(f holds sum) and if f>summ then keep on deleting elements from left until k==j-1(j-1 current position)\n",
    "def equalSum(a, n, summ):\n",
    "    f = a[0]\n",
    "    k=0\n",
    "    for j in range(1,n+1):\n",
    "        while(f>summ and k<j-1):\n",
    "            f = f-a[k]\n",
    "            k=k+1\n",
    "        if(f==summ):\n",
    "            return [k+1,j]\n",
    "        if(j<n):\n",
    "            f = f+a[j]\n",
    "    return [-1]\n",
    "arr = [1,2,3,4,5,6,7,8,9,10]\n",
    "print(equalSum(arr,len(arr),15))"
   ]
  },
  {
   "cell_type": "code",
   "execution_count": 40,
   "metadata": {},
   "outputs": [
    {
     "name": "stdout",
     "output_type": "stream",
     "text": [
      "3\n"
     ]
    }
   ],
   "source": [
    "#count no of subarrays whose sum equals to summ\n",
    "def equalSum(a, n, summ):\n",
    "    f = a[0]\n",
    "    k=0\n",
    "    count = 0\n",
    "    for j in range(1,n+1):\n",
    "        while(f>summ and k<j-1):\n",
    "            f = f-a[k]\n",
    "            k=k+1\n",
    "        if(f==summ):\n",
    "            count = count+1\n",
    "            #return [k+1,j]\n",
    "        if(j<n):\n",
    "            f = f+a[j]\n",
    "    if(count==0):\n",
    "        return [-1]\n",
    "    else:\n",
    "        return count\n",
    "arr = [1,2,10,3,7,2,1,20]\n",
    "print(equalSum(arr,len(arr),10))"
   ]
  },
  {
   "cell_type": "code",
   "execution_count": 75,
   "metadata": {},
   "outputs": [
    {
     "name": "stdout",
     "output_type": "stream",
     "text": [
      "12\n",
      "1\n"
     ]
    }
   ],
   "source": [
    "#equal dynammic programming hackerrank\n",
    "#https://www.hackerrank.com/challenges/equal/problem\n",
    "def equal(a,n):\n",
    "    maxx = a[0]\n",
    "    minOperations = 0\n",
    "    for i in range(1,n):\n",
    "        if(a[i]>maxx):\n",
    "            maxx = a[i]\n",
    "    print(maxx)\n",
    "    for i in range(n-1,-1,-1):\n",
    "        count = 0\n",
    "        if(a[i]==maxx):\n",
    "            continue\n",
    "        else:\n",
    "            while(a[i]!=maxx):\n",
    "                if(a[i]+5>maxx):\n",
    "                    if(a[i]+2>maxx):\n",
    "                        a[i] = a[i]+1\n",
    "                    else:\n",
    "                        a[i] = a[i]+2\n",
    "                else:\n",
    "                    a[i] = a[i] + 5\n",
    "                count = count+1\n",
    "        minOperations = max(minOperations,count)\n",
    "    return minOperations\n",
    "arr = [2,2,3,7]\n",
    "arr1 = [10,7,12]\n",
    "print(equal(arr1,len(arr1)))"
   ]
  },
  {
   "cell_type": "code",
   "execution_count": 10,
   "metadata": {},
   "outputs": [
    {
     "name": "stdout",
     "output_type": "stream",
     "text": [
      "i=:1:5:1   i=:2:5:6   i=:3:6:10   \n",
      "Max sum is 10\n"
     ]
    }
   ],
   "source": [
    "#https://www.geeksforgeeks.org/maximum-sum-such-that-no-two-elements-are-adjacent/\n",
    "#Maximum sum such that no two elements are adjacent\n",
    "'''\n",
    "incl = max sum including previous element\n",
    "excl = max sum excluding previous element\n",
    "idea:\n",
    "find 1,2 at every i value\n",
    "1.Find Max sum excluding current element\n",
    "  If current element is excluded we have two cases ie; \n",
    "     i)either include the previous element\n",
    "        here calculate: incl\n",
    "     ii)not include the previous element\n",
    "        here calculate: excl\n",
    "2.Find Max sum including current element\n",
    "  If current element is included we have one case ie:\n",
    "     i)we cannot include previous element since selected elements should not be adjacent\n",
    "        hence here we calculate: excl\n",
    "So for each iteration i from 1 we find incl,excl,excl\n",
    "'''\n",
    "def maxNonAdjacentSum(arr):\n",
    "    incl = 0\n",
    "    excl = arr[0]\n",
    "    for i in range(1,len(arr)):\n",
    "        temp = incl\n",
    "        incl = max(incl,excl)\n",
    "        excl = temp\n",
    "        excl = excl + arr[i]\n",
    "        print(\"i=\",i,incl,excl,end=\"   \",sep=\":\")\n",
    "    return max(incl,excl)\n",
    "arr = [0,1,0,-10,7]\n",
    "arr1 = [5,1,1,5]\n",
    "result = maxNonAdjacentSum(arr1)\n",
    "print(end=\"\\n\")\n",
    "print(\"Max sum is\",result) "
   ]
  },
  {
   "cell_type": "code",
   "execution_count": 37,
   "metadata": {},
   "outputs": [
    {
     "name": "stdout",
     "output_type": "stream",
     "text": [
      "32\n"
     ]
    }
   ],
   "source": [
    "def maxi(n):\n",
    "    if(n==12):\n",
    "        return 13\n",
    "    elif n%12!=0 and n<12:\n",
    "        return n\n",
    "    else:\n",
    "        return(maxi(int(n/2))+maxi(int(n/3))+maxi(int(n/4)))\n",
    "    #return result\n",
    "print(maxi(30))"
   ]
  },
  {
   "cell_type": "code",
   "execution_count": 51,
   "metadata": {},
   "outputs": [
    {
     "name": "stdout",
     "output_type": "stream",
     "text": [
      "0b1101\n",
      "1101\n",
      "1101\n"
     ]
    }
   ],
   "source": [
    "x = bin(13)\n",
    "print(x)\n",
    "print(x[2::])\n",
    "x = x[2::]\n",
    "print(x)"
   ]
  },
  {
   "cell_type": "code",
   "execution_count": 68,
   "metadata": {},
   "outputs": [
    {
     "name": "stdout",
     "output_type": "stream",
     "text": [
      "5\n"
     ]
    }
   ],
   "source": [
    "#square of a number using binary serach technique\n",
    "def squareroot(start,end,n):\n",
    "    while(start<=end):\n",
    "        mid = int((start+end)/2)\n",
    "        if(mid*mid == n):\n",
    "            return mid\n",
    "        elif(mid*mid<n):\n",
    "            start = mid+1\n",
    "            result = mid\n",
    "        else:\n",
    "            end = mid-1\n",
    "    return result\n",
    "n=25\n",
    "print(squareroot(0,int(n/2),n))"
   ]
  },
  {
   "cell_type": "code",
   "execution_count": 9,
   "metadata": {},
   "outputs": [
    {
     "name": "stdout",
     "output_type": "stream",
     "text": [
      "False\n"
     ]
    }
   ],
   "source": [
    "#https://leetcode.com/problems/jump-game/\n",
    "'''\n",
    "idea:\n",
    "i:  0       1       2       3       4       5\n",
    "    4       0       3       3       0       0\n",
    "if we start with i=0 then we can reach a maximum distance of 4 it means starting at i=0 we can go throught \n",
    "i=0,1,2,3,4\n",
    "On reaching i=1 the maximum distance we can travel is still 4 that is obtained from i=0 because at i=1 value is 0.\n",
    "so max(1+0,4) = 4\n",
    "On reaching i=2 tyhe maximum distance we can cover is max(i+arr[i],earlierMaxDistance) i.e:max(2+3,4)=5 this is so\n",
    "because using i=0 value i.e:4 we can reach i=2 and now using value at i=2 ie 3 we can reach till i=2+3=>5\n",
    "''' \n",
    "def jumpGame(arr):\n",
    "    i = 0\n",
    "    reach = 0\n",
    "    while(i<len(arr) and i<=reach):\n",
    "        #i<=reach is the important step\n",
    "        reach = max(i+arr[i],reach)\n",
    "        #print(reach)\n",
    "        i=i+1\n",
    "        if(reach>=len(arr)-1):\n",
    "            return True\n",
    "    return False\n",
    "arr = [4,0,3,0,0,0,1,0]\n",
    "arr1 = [4,0,3,3,0,0]\n",
    "print(jumpGame(arr))"
   ]
  },
  {
   "cell_type": "code",
   "execution_count": 3,
   "metadata": {},
   "outputs": [
    {
     "name": "stdout",
     "output_type": "stream",
     "text": [
      "True\n"
     ]
    }
   ],
   "source": [
    "print(True)"
   ]
  },
  {
   "cell_type": "code",
   "execution_count": 3,
   "metadata": {},
   "outputs": [
    {
     "name": "stdout",
     "output_type": "stream",
     "text": [
      "3\n"
     ]
    }
   ],
   "source": [
    "#steps problem recursive solution\n",
    "def steps(n):\n",
    "    if(n==0):\n",
    "        return 1\n",
    "    elif(n<0):\n",
    "        return 0\n",
    "    else:\n",
    "        return steps(n-1) + steps(n-2)\n",
    "print(steps(3))"
   ]
  },
  {
   "cell_type": "code",
   "execution_count": 14,
   "metadata": {},
   "outputs": [
    {
     "name": "stdout",
     "output_type": "stream",
     "text": [
      "5\n"
     ]
    }
   ],
   "source": [
    "#steps problem dp solution\n",
    "#n denotes number of steps\n",
    "#this problem considers at max a man can jump 2 steps\n",
    "dp = [0,0,0,0,0]\n",
    "def steps(n):\n",
    "    dp[0] = 1\n",
    "    for i in range(1,n+1):\n",
    "        if(i-1 < 0):\n",
    "            dp[i] = 0 + dp[i-2]\n",
    "        elif(i-2 < 0):\n",
    "            dp[i] = dp[i-1] + 0\n",
    "        elif(i-1<0 and i-2<0):\n",
    "            dp[i] = 0\n",
    "        else:\n",
    "            dp[i] = dp[i-1] + dp[i-2]\n",
    "    return dp[n]\n",
    "print(steps(4))"
   ]
  },
  {
   "cell_type": "code",
   "execution_count": 40,
   "metadata": {},
   "outputs": [
    {
     "name": "stdout",
     "output_type": "stream",
     "text": [
      "4\n"
     ]
    }
   ],
   "source": [
    "s = {1,1,2,5,4}\n",
    "l = list(s)\n",
    "print(len(l))"
   ]
  },
  {
   "cell_type": "code",
   "execution_count": 41,
   "metadata": {},
   "outputs": [
    {
     "name": "stdout",
     "output_type": "stream",
     "text": [
      "1234\n"
     ]
    }
   ],
   "source": [
    "#!/bin/python3\n",
    "\n",
    "import math\n",
    "import os\n",
    "import random\n",
    "import re\n",
    "import sys\n",
    "\n",
    "\n",
    "\n",
    "#\n",
    "# Complete the 'substringCalculator' function below.\n",
    "#\n",
    "# The function is expected to return a LONG_INTEGER.\n",
    "# The function accepts STRING s as parameter.\n",
    "#\n",
    "count = 0\n",
    "#maxSum=0\n",
    "#maxProduct = 0\n",
    "myset = set()\n",
    "l = []\n",
    "def allSubArrays(arr,start,end):\n",
    "    #global maxSum\n",
    "    #global maxProduct\n",
    "    #print(end)\n",
    "    s = \"\"\n",
    "    if(start==len(arr)):\n",
    "        return\n",
    "    elif(end==len(arr)+1):\n",
    "        ++count\n",
    "        allSubArrays(arr,start+1,count+1)\n",
    "        return\n",
    "    elif(start < end):\n",
    "        #print(\"here\")\n",
    "        #summ=0\n",
    "        #product = 1\n",
    "        #print(\"[\",end=\"\")\n",
    "        for i in range(start,end):\n",
    "            #summ = summ+arr[i]\n",
    "            #product = product * arr[i]\n",
    "            #print(summ)\n",
    "            #myset.add(arr[i])\n",
    "            s = s+str(arr[i])\n",
    "            #print(arr[i],end=\"\")\n",
    "        #l.append(int(s))\n",
    "        myset.add(int(s))\n",
    "        #print(l)\n",
    "        #if(summ>maxSum):\n",
    "        #    maxSum=summ\n",
    "        #if(product>maxProduct):\n",
    "        #   maxProduct=product\n",
    "        #print(\"]\")\n",
    "        #print(maxi)\n",
    "        allSubArrays(arr,start,end+1)\n",
    "    else:\n",
    "        allSubArrays(arr,start,end+1)\n",
    "\n",
    "def substringCalculator(s):\n",
    "    allSubArrays(s,0,0)\n",
    "    l = list(myset)\n",
    "    return len(l)\n",
    "\n",
    "    # Write your code here\n",
    "\n",
    "if __name__ == '__main__':\n",
    "    #fptr = open(os.environ['OUTPUT_PATH'], 'w')\n",
    "\n",
    "    s = input()\n",
    "\n",
    "    result = substringCalculator(s)\n",
    "\n",
    "    #fptr.write(str(result) + '\\n')\n",
    "\n",
    "    \n",
    "    #fptr.close()"
   ]
  },
  {
   "cell_type": "code",
   "execution_count": 42,
   "metadata": {},
   "outputs": [
    {
     "name": "stdout",
     "output_type": "stream",
     "text": [
      "1\n"
     ]
    }
   ],
   "source": [
    "print(1)"
   ]
  },
  {
   "cell_type": "code",
   "execution_count": 47,
   "metadata": {},
   "outputs": [
    {
     "name": "stdout",
     "output_type": "stream",
     "text": [
      "['k', 'i', 'h', 'i']\n"
     ]
    }
   ],
   "source": [
    "s = \"kihi\"\n",
    "arr = []\n",
    "for i in range(0,len(s)):\n",
    "    arr.append(s[i])\n",
    "print(arr)"
   ]
  },
  {
   "cell_type": "code",
   "execution_count": 98,
   "metadata": {},
   "outputs": [
    {
     "name": "stdout",
     "output_type": "stream",
     "text": [
      "{'ins', 'si', 'ns', 's', 'k', 'insi', 'kin', 'kins', 'in', 'n', 'kinsi', 'nsi', 'i', 'ki'}\n",
      "['k', 'ki', 'kin', 'kins', 'kinsi', 'i', 'in', 'ins', 'insi', 'n', 'ns', 'nsi', 's', 'si', 'i']\n",
      "Max subArray Sum: 0\n",
      "Max SubArray Product: 0\n"
     ]
    }
   ],
   "source": [
    "myset = set()\n",
    "l = []\n",
    "def allSubArrays(arr,start,end):\n",
    "    s = \"\"\n",
    "    if(start==len(arr)):\n",
    "        return\n",
    "    elif(end==len(arr)+1):\n",
    "        ++count\n",
    "        allSubArrays(arr,start+1,count+1)\n",
    "        return\n",
    "    elif(start < end):\n",
    "        for i in range(start,end):\n",
    "            s = s+arr[i]\n",
    "        l.append(s)\n",
    "        myset.add(s)\n",
    "        allSubArrays(arr,start,end+1)\n",
    "    else:\n",
    "        allSubArrays(arr,start,end+1)\n",
    "arr = ['k','i','n','s','i']\n",
    "arr1 = [3,2,0,-1]\n",
    "arr2 = [-8,-4,-3,-6,-7,-2,-5]\n",
    "arr3 = [-4,1,3,2]\n",
    "arr4 = [-4,1,3,2,-1,-7]\n",
    "arr5 = [1,-4,3,-6,7,0]\n",
    "allSubArrays(arr,0,0)\n",
    "print(myset);\n",
    "print(l)\n",
    "print(\"Max subArray Sum:\",maxSum)\n",
    "print(\"Max SubArray Product:\",maxProduct)"
   ]
  },
  {
   "cell_type": "code",
   "execution_count": 90,
   "metadata": {},
   "outputs": [
    {
     "name": "stdout",
     "output_type": "stream",
     "text": [
      "82\n",
      "24\n",
      "2\n"
     ]
    }
   ],
   "source": [
    "def segment(size,arr):\n",
    "    l =[]\n",
    "    l1 =[]\n",
    "    final = []\n",
    "    for i in range(0,len(arr)-size+1):\n",
    "        l2 =[]\n",
    "        s = \"\"\n",
    "        for i in range(i,i+size):\n",
    "            s = s+str(arr[i])\n",
    "        print(s)\n",
    "        \n",
    "        for i in range(0,len(s)):\n",
    "            l2.append(int(s[i]))\n",
    "        l.append(l2)\n",
    "        \n",
    "    for i in range(len(l)):\n",
    "        final.append(min(l[i]))\n",
    "        #print(l1)\n",
    "    #print(l)\n",
    "    #print(final)\n",
    "    return max(final)\n",
    "    #print(l1[0])\n",
    "arr = [8,2,4]\n",
    "print(segment(2,arr))"
   ]
  },
  {
   "cell_type": "code",
   "execution_count": 101,
   "metadata": {},
   "outputs": [
    {
     "name": "stdout",
     "output_type": "stream",
     "text": [
      "[2, 4]\n"
     ]
    },
    {
     "ename": "TypeError",
     "evalue": "'int' object is not iterable",
     "output_type": "error",
     "traceback": [
      "\u001b[0;31m---------------------------------------------------------------------------\u001b[0m",
      "\u001b[0;31mTypeError\u001b[0m                                 Traceback (most recent call last)",
      "\u001b[0;32m<ipython-input-101-f052998065e2>\u001b[0m in \u001b[0;36m<module>\u001b[0;34m\u001b[0m\n\u001b[1;32m     20\u001b[0m     \u001b[0;31m#print(l1[0])\u001b[0m\u001b[0;34m\u001b[0m\u001b[0;34m\u001b[0m\u001b[0;34m\u001b[0m\u001b[0m\n\u001b[1;32m     21\u001b[0m \u001b[0marr\u001b[0m \u001b[0;34m=\u001b[0m \u001b[0;34m[\u001b[0m\u001b[0;36m8\u001b[0m\u001b[0;34m,\u001b[0m\u001b[0;36m2\u001b[0m\u001b[0;34m,\u001b[0m\u001b[0;36m4\u001b[0m\u001b[0;34m]\u001b[0m\u001b[0;34m\u001b[0m\u001b[0;34m\u001b[0m\u001b[0m\n\u001b[0;32m---> 22\u001b[0;31m \u001b[0mprint\u001b[0m\u001b[0;34m(\u001b[0m\u001b[0msegment\u001b[0m\u001b[0;34m(\u001b[0m\u001b[0;36m2\u001b[0m\u001b[0;34m,\u001b[0m\u001b[0marr\u001b[0m\u001b[0;34m)\u001b[0m\u001b[0;34m)\u001b[0m\u001b[0;34m\u001b[0m\u001b[0;34m\u001b[0m\u001b[0m\n\u001b[0m",
      "\u001b[0;32m<ipython-input-101-f052998065e2>\u001b[0m in \u001b[0;36msegment\u001b[0;34m(size, arr)\u001b[0m\n\u001b[1;32m      8\u001b[0m         \u001b[0;31m#l1.append(arr[i:i+size])\u001b[0m\u001b[0;34m\u001b[0m\u001b[0;34m\u001b[0m\u001b[0;34m\u001b[0m\u001b[0m\n\u001b[1;32m      9\u001b[0m     \u001b[0;32mfor\u001b[0m \u001b[0mi\u001b[0m \u001b[0;32min\u001b[0m \u001b[0mrange\u001b[0m\u001b[0;34m(\u001b[0m\u001b[0;36m0\u001b[0m\u001b[0;34m,\u001b[0m\u001b[0mlen\u001b[0m\u001b[0;34m(\u001b[0m\u001b[0ml1\u001b[0m\u001b[0;34m)\u001b[0m\u001b[0;34m)\u001b[0m\u001b[0;34m:\u001b[0m\u001b[0;34m\u001b[0m\u001b[0;34m\u001b[0m\u001b[0m\n\u001b[0;32m---> 10\u001b[0;31m         \u001b[0mfinal\u001b[0m \u001b[0;34m=\u001b[0m \u001b[0mlist\u001b[0m\u001b[0;34m(\u001b[0m\u001b[0mmin\u001b[0m\u001b[0;34m(\u001b[0m\u001b[0ml1\u001b[0m\u001b[0;34m[\u001b[0m\u001b[0mi\u001b[0m\u001b[0;34m]\u001b[0m\u001b[0;34m)\u001b[0m\u001b[0;34m)\u001b[0m\u001b[0;34m\u001b[0m\u001b[0;34m\u001b[0m\u001b[0m\n\u001b[0m\u001b[1;32m     11\u001b[0m         \u001b[0;31m#final.append(min(l1[i]))\u001b[0m\u001b[0;34m\u001b[0m\u001b[0;34m\u001b[0m\u001b[0;34m\u001b[0m\u001b[0m\n\u001b[1;32m     12\u001b[0m     \u001b[0mprint\u001b[0m\u001b[0;34m(\u001b[0m\u001b[0ml1\u001b[0m\u001b[0;34m)\u001b[0m\u001b[0;34m\u001b[0m\u001b[0;34m\u001b[0m\u001b[0m\n",
      "\u001b[0;31mTypeError\u001b[0m: 'int' object is not iterable"
     ]
    }
   ],
   "source": [
    "def segment(size,arr):\n",
    "    l =[]\n",
    "    #l1 =[]\n",
    "    #final = []\n",
    "    for i in range(0,len(arr)-size+1):\n",
    "        l1 = arr[i:i+size]\n",
    "    print(l1)\n",
    "        #l1.append(arr[i:i+size])\n",
    "    for i in range(0,len(l1)):\n",
    "        final = list(min(l1[i]))\n",
    "        #final.append(min(l1[i]))\n",
    "    print(l1)\n",
    "    return max(final)\n",
    "    #for i in range(len(l)):\n",
    "     #   final.append(min(l[i]))\n",
    "        #print(l1)\n",
    "    #print(l)\n",
    "    #print(final)\n",
    "    #return max(final)\n",
    "    #print(l1[0])\n",
    "arr = [8,2,4]\n",
    "print(segment(2,arr))"
   ]
  },
  {
   "cell_type": "code",
   "execution_count": 97,
   "metadata": {},
   "outputs": [
    {
     "name": "stdout",
     "output_type": "stream",
     "text": [
      "[153.93804002591, 113.09733552924001, 12.56637061436]\n",
      "21.9911\n"
     ]
    }
   ],
   "source": [
    "def largestSegment(radius,segments):\n",
    "    l = radius\n",
    "    l1 = []\n",
    "    pi = 3.14159265359\n",
    "    maxx = 0\n",
    "    s = 0\n",
    "    #print(l)\n",
    "    for i in range(0,len(l)):\n",
    "        if(radius[i]!=1):\n",
    "            result = pi*l[i]*l[i]\n",
    "            l1.append(result)\n",
    "    minn = min(l1)\n",
    "    l1.sort(reverse=True)\n",
    "    #print(minn)\n",
    "    print(l1)\n",
    "    for i in range(0,len(l1)):\n",
    "        n = l1[i]\n",
    "        #print(\"n\",n)\n",
    "        while(i!=len(l1)-1 and n>=l1[i+1]):\n",
    "            count = 0\n",
    "            for j in range(i,-1,-1):\n",
    "                count = count+(int(l1[j]/n))\n",
    "                #print(count)\n",
    "            #print(count)\n",
    "            if(count == segments):\n",
    "                s = 1\n",
    "                maxx = round(n,4)\n",
    "                #print(n)\n",
    "                break\n",
    "            elif(count < segments):\n",
    "                n = n - 0.00001\n",
    "        if(s==1):\n",
    "            break\n",
    "    #print(l2)\n",
    "    return str(maxx)\n",
    "arr = [1,1,1,2,2,3]\n",
    "arr1 = [3,4,3,3]\n",
    "arr2 = [2,6,7]\n",
    "print(largestSegment(arr2,12))"
   ]
  },
  {
   "cell_type": "code",
   "execution_count": 10,
   "metadata": {},
   "outputs": [
    {
     "name": "stdout",
     "output_type": "stream",
     "text": [
      "0\n",
      "0\n",
      "0\n",
      "0\n",
      "0\n",
      "4\n"
     ]
    }
   ],
   "source": [
    "l1 = [8,3,1]\n",
    "segments = 2\n",
    "for i in range(0,len(l1)):\n",
    "    n = l1[i]\n",
    "    #print(\"n\",n)\n",
    "    while(i!=len(l1)-1 and n>=l1[i+1]):\n",
    "        count = 0\n",
    "        for j in range(i,-1,-1):\n",
    "            print(j)\n",
    "            #print(\"arr[j]\",l1[j])\n",
    "            count = count+(int(l1[j]/n))\n",
    "        #print(count)\n",
    "        if(count == segments):\n",
    "            s=1\n",
    "            print(n)\n",
    "            break\n",
    "        elif(count < segments):\n",
    "            n = n - 1\n",
    "    if(s==1):\n",
    "        break\n"
   ]
  },
  {
   "cell_type": "code",
   "execution_count": 94,
   "metadata": {},
   "outputs": [
    {
     "name": "stdout",
     "output_type": "stream",
     "text": [
      "-1\n"
     ]
    }
   ],
   "source": [
    "def findSmallestDivisor(s,t):\n",
    "    newString = \"\"\n",
    "    count = 0\n",
    "    start = t[0]\n",
    "    end = len(t)\n",
    "    inside = 0\n",
    "    holdString = \"\"\n",
    "    if(start!=s[0]):\n",
    "        return -1\n",
    "    for i in range(0,len(t)):\n",
    "        if(t[i]==s[i]):\n",
    "            holdString = holdString+t[i]\n",
    "        else:\n",
    "            return -1\n",
    "    for i in range(1,len(t)):\n",
    "        if(start == t[i]):\n",
    "            end = i\n",
    "            break;\n",
    "    for i in range(0,end):\n",
    "        if(t[i]==s[i]):\n",
    "            count = count+1\n",
    "            newString = newString+t[i]\n",
    "        else:\n",
    "            return -1\n",
    "    v= 0 \n",
    "    u = 0\n",
    "    w = 0\n",
    "    x = 0\n",
    "    j = 1\n",
    "    i = 1\n",
    "    m = 1\n",
    "    while(u<len(t)):\n",
    "        kk = newString*i\n",
    "        u = len(kk)\n",
    "        if(kk == t):\n",
    "            inside = 1\n",
    "        else:\n",
    "            i = i+1\n",
    "    if(inside != 1):\n",
    "        #print(\"holdString\",holdString)\n",
    "        while(x<len(t)):\n",
    "            kf = holdString * m\n",
    "            x = len(kf)\n",
    "            if(kf == t):\n",
    "                #print(\"kf\",kf)\n",
    "                inside =1\n",
    "            else:\n",
    "                m = m+1\n",
    "        #print(\"inside\",inside)\n",
    "        while(w<len(s) and inside == 1):\n",
    "            kl = holdString * j\n",
    "            w = len(kl)\n",
    "            #print(\"kl\",kl)\n",
    "            if(kl == s):\n",
    "                return len(holdString)\n",
    "            else:\n",
    "                j = j+1\n",
    "        if(inside != 1):\n",
    "            return -1\n",
    "    else:\n",
    "        i = 1\n",
    "        while(v<len(s)):\n",
    "            k = newString*i\n",
    "            v = len(k)\n",
    "            if(k == s):\n",
    "                return len(newString)\n",
    "            else:\n",
    "                i = i+1\n",
    "    return -1\n",
    "        \n",
    "s = \"bcdbcdbcdbcd\"\n",
    "t = \"bcdbcd\"\n",
    "s1 = \"lrbblrbb\"\n",
    "t1 = \"lrbb\"\n",
    "s2 = \"lllllll\"\n",
    "t2 = \"llll\"\n",
    "s3 = \"lopi\"\n",
    "t3 = \"lo\"\n",
    "s4 = \"abcabc\"\n",
    "t4 = \"de\"\n",
    "\n",
    "s5 = \"abcabcabcabcabcabcabcabcabcabcabcabcabcabcabcabcabcabcabcabcabcabcabcabcabcabcabcabcabcabcabcabcabca\"\n",
    "t5 = \"abcabc\"\n",
    "\n",
    "s6 = \"abcabcabcabc\"\n",
    "t6 = \"abcbcd\"\n",
    "\n",
    "s7 = \"bcdbacbcdbac\"\n",
    "t7 = \"bcdbac\"\n",
    "\n",
    "s8 = \"bcdabcdbcdabcdbcdabcdbcdabcd\"\n",
    "t8 = \"bcdabcda\"\n",
    "print(findSmallestDivisor(s8,t8))       "
   ]
  },
  {
   "cell_type": "code",
   "execution_count": 31,
   "metadata": {},
   "outputs": [
    {
     "data": {
      "text/plain": [
       "'abcabc'"
      ]
     },
     "execution_count": 31,
     "metadata": {},
     "output_type": "execute_result"
    }
   ],
   "source": [
    "s = \"abc\"\n",
    "s*2"
   ]
  },
  {
   "cell_type": "code",
   "execution_count": 35,
   "metadata": {},
   "outputs": [
    {
     "name": "stdout",
     "output_type": "stream",
     "text": [
      "{'a'}\n",
      "1\n",
      "Wow\n"
     ]
    }
   ],
   "source": [
    "l = 'aaaa'\n",
    "print(set(l))\n",
    "print(len(list(set(l))))\n",
    "if('a'== list(set(l))[0] and len(list(set(l)))==1):\n",
    "    print(\"Wow\")"
   ]
  },
  {
   "cell_type": "code",
   "execution_count": 67,
   "metadata": {},
   "outputs": [
    {
     "name": "stdout",
     "output_type": "stream",
     "text": [
      "2\n"
     ]
    }
   ],
   "source": [
    "s7 = \"bcdbacbcdbac\"\n",
    "t7 = \"bcdbac\"\n",
    "print(s7.count(t7))"
   ]
  },
  {
   "cell_type": "code",
   "execution_count": 6,
   "metadata": {},
   "outputs": [
    {
     "name": "stdout",
     "output_type": "stream",
     "text": [
      "[1.384, 0.6962, 286.0, -0.6, 1.5673, -0.7366, 0.1303, 0.764, 0.2026, -0.6364]\n",
      "objects [161, 104, 1, 125]\n",
      "count 391\n",
      "745\n"
     ]
    }
   ],
   "source": [
    "def selectStock(saving, currentValue, futureValue):\n",
    "    weight = []\n",
    "    objects = []\n",
    "    inc = 0\n",
    "    for i in range(0,len(currentValue)):\n",
    "        weight.append(round(futureValue[i]/currentValue[i],4))\n",
    "    print(weight)\n",
    "    for i in range(0,len(weight)):\n",
    "        if(weight[i]<1):\n",
    "            inc = inc +1\n",
    "    if(inc == len(weight)):\n",
    "        return 0\n",
    "    final = []\n",
    "    for i in range(0,len(currentValue)+1):\n",
    "        new = []\n",
    "        for j in range(0,saving+1):\n",
    "            new.append(0)\n",
    "        final.append(new)\n",
    "    \n",
    "    #print(final)\n",
    "    count = 0\n",
    "    for i in range(0,len(currentValue)+1):\n",
    "        for j in range(0,saving+1):\n",
    "            if(i==0 or j==0):\n",
    "                final[i][j] = 0\n",
    "            elif(currentValue[i-1]<=j):\n",
    "                #count = count + j\n",
    "                final[i][j] = max(futureValue[i-1]+final[i-1][j-currentValue[i-1]],final[i-1][j])\n",
    "            else:\n",
    "                final[i][j] = final[i-1][j]\n",
    "    #print(final)\n",
    "    result = final[len(currentValue)][saving]\n",
    "    res = final[len(currentValue)][saving]\n",
    "\n",
    "    w = saving\n",
    "    for i in range(len(currentValue),0,-1):\n",
    "        if(result<=0):\n",
    "            break\n",
    "        if(result == final[i-1][w]):\n",
    "            continue\n",
    "        else:\n",
    "            count = count + currentValue[i-1]\n",
    "            objects.append(currentValue[i-1])\n",
    "            result = result - futureValue[i-1]\n",
    "            w = w - currentValue[i-1]\n",
    "    print(\"objects\",objects)\n",
    "    print(\"count\",count)\n",
    "    \n",
    "    return res\n",
    "    #return final[len(currentValue)][saving]-count\n",
    "                                                              \n",
    "saving = 250\n",
    "cV = [175,133,109,210,97]\n",
    "fV = [200,125,128,228,133]\n",
    "saving1 = 500\n",
    "cV1 = [150,199,200,168,153]\n",
    "fV1 = [140,175,199,121,111]\n",
    "saving2 = 449\n",
    "cV2 = [125,158,1,210,104,243,238,161,227,264]\n",
    "profits = [173,110,286,-126,163,-179,31,123,46,-168]\n",
    "fV2 = [298,268,287,84,267,64,269,284,273,96]\n",
    "\n",
    "\n",
    "print(selectStock(saving2,cV2,profits))"
   ]
  },
  {
   "cell_type": "code",
   "execution_count": 114,
   "metadata": {},
   "outputs": [
    {
     "name": "stdout",
     "output_type": "stream",
     "text": [
      "[[0, 0, 0], [0, 0, 0], [0, 0, 0]]\n",
      "[[0, 0, 0], [0, 0, 0], [0, 0, 0]]\n"
     ]
    }
   ],
   "source": [
    "final = []\n",
    "for i in range(0,3):\n",
    "    new = []\n",
    "    for j in range(0,3):\n",
    "        new.append(0)\n",
    "    final.append(new)\n",
    "print(final)\n",
    "result = final\n",
    "print(result)"
   ]
  },
  {
   "cell_type": "code",
   "execution_count": 102,
   "metadata": {},
   "outputs": [
    {
     "name": "stdout",
     "output_type": "stream",
     "text": [
      "[[0, 0, 0, 0, 0, 0, 0, 0], [0, 1, 0, 1, 0, 0, 0, 1], [0, 1, 0, 1, 0, 0, 0, 1], [0, 1, 0, 1, 2, 0, 0, 1], [0, 1, 0, 1, 2, 0, 0, 1], [0, 1, 0, 1, 2, 0, 3, 1], [0, 1, 0, 1, 2, 3, 3, 1]]\n",
      "adh\n",
      "3\n"
     ]
    }
   ],
   "source": [
    "def lcsDp(str1,str2):\n",
    "    smallStr = len(str2)\n",
    "    bigStr = len(str1)\n",
    "    final=[]\n",
    "    for i in range(0,smallStr+1):\n",
    "        new=[]\n",
    "        for j in range(0,bigStr+1):\n",
    "            new.append(0)\n",
    "        final.append(new)\n",
    "    #print(final)\n",
    "    \n",
    "    for i in range(0,smallStr+1):\n",
    "        for j in range(0,bigStr+1):\n",
    "            #print(\"i,j\",i,j)\n",
    "            if(i==0 or j==0):\n",
    "                final[i][j] = 0\n",
    "            elif(str2[i-1] != str1[j-1]):\n",
    "                final[i][j] = final[i-1][j]\n",
    "            elif(str2[i-1] == str1[j-1]):\n",
    "                final[i][j] = max(final[i-1][0:j])+1\n",
    "    print(final)\n",
    "    \n",
    "    #for finding the longest subsequence \n",
    "    k=1\n",
    "    subsequenceStr = \"\"\n",
    "    b = \"\"\n",
    "    previousK = 0 \n",
    "    #to remember the k value before updating it  as  k = k+1\n",
    "    for j in range(1,bigStr+1):\n",
    "        if(final[smallStr][j]==k):\n",
    "            subsequenceStr = subsequenceStr + str1[j-1]\n",
    "            previousK = k\n",
    "            k = k+1\n",
    "        elif(k-1!=0 and final[smallStr][j]== previousK):\n",
    "            #b = subsequenceStr[len(subsequenceStr)-1]\n",
    "            #print(b)\n",
    "            subsequenceStr = subsequenceStr[0:len(subsequenceStr)-1] + str1[j-1]\n",
    "    print(subsequenceStr)\n",
    "    return max(final[smallStr][0:bigStr+1])\n",
    "str1 = \"abcdefghij\"\n",
    "strr1 = \"ecdgi\"\n",
    "str2 = \"abcd\"\n",
    "strr2 = \"bd\"\n",
    "str3 = \"abcdgh\"\n",
    "strr3 = \"aedfhg\"\n",
    "str4 = \"abadgha\"\n",
    "strr4 = \"aedfhg\"\n",
    "str5 = \"gekek\"\n",
    "strr5 = \"geek\"\n",
    "print(lcsDp(str4,strr4))"
   ]
  },
  {
   "cell_type": "code",
   "execution_count": 45,
   "metadata": {},
   "outputs": [
    {
     "name": "stdout",
     "output_type": "stream",
     "text": [
      "abce\n"
     ]
    }
   ],
   "source": [
    "a = \"abcd\"\n",
    "a = a[0:3]+\"e\"\n",
    "print(a)"
   ]
  },
  {
   "cell_type": "code",
   "execution_count": 50,
   "metadata": {},
   "outputs": [
    {
     "name": "stdout",
     "output_type": "stream",
     "text": [
      "adg\n"
     ]
    }
   ],
   "source": [
    "def func(s,str1,arr,k,r,i):\n",
    "    if(i==len(str1)):\n",
    "        print(s)\n",
    "    elif(arr[i] == k):\n",
    "        s = s+str1[i]\n",
    "        func(s,str1,arr,k+1,i,i+1)\n",
    "    elif(k-1!=0 and arr[i]==k-1):\n",
    "        if(arr[r]!=arr[i]):\n",
    "            s = s[0:len(s)-1]+str1[i]\n",
    "            func(s,str1,arr,k,i,i+1)\n",
    "        else:\n",
    "            func(s,str1,arr,k,r,i+1)\n",
    "    else:\n",
    "        func(s,str1,arr,k,r,i+1)\n",
    "\n",
    "str1 = \"abadgh\"\n",
    "arr = [1,0,1,2,3,3]\n",
    "s=\"\"\n",
    "func(s,str1,arr,1,0,0)"
   ]
  },
  {
   "cell_type": "code",
   "execution_count": 82,
   "metadata": {},
   "outputs": [
    {
     "name": "stdout",
     "output_type": "stream",
     "text": [
      "[1, 2, 3, 4, 5, 6, 8] \n",
      " 7 th ugly number is: 8\n"
     ]
    }
   ],
   "source": [
    "#Finding the nth ugly number\n",
    "#ugly number is a number that is divisible by 2 or 3 or 5 only\n",
    "# note: 1 is added by default\n",
    "def uglyNumbers(n):\n",
    "    l = [1]\n",
    "    x=1\n",
    "    y=1\n",
    "    z=1\n",
    "    s=0   #to track whether multiple of 2 or 3 or 5 is included at each iteration\n",
    "    i=1\n",
    "    while(i<n):                   #O(n)\n",
    "        minn = min(2*x,3*y,5*z)\n",
    "        if(minn/2 == x):\n",
    "            x = x+1\n",
    "            s=1\n",
    "        elif(minn/3 == y):\n",
    "            y = y+1\n",
    "            s=2\n",
    "        elif(minn/5 == z):\n",
    "            z = z+1\n",
    "            s=3\n",
    "        #print(\"i\",i)\n",
    "\n",
    "        if(l[i-1]!=minn):    #to avoid repeated elements ie:2*3 = 6  and 3*2 = 6  (In this case only one 6 is to be considered)\n",
    "            l.append(minn)\n",
    "            i = i+1          #only increment if the element is added\n",
    "        #print(l)\n",
    "    return [l,minn]\n",
    "#overall complexity:  Time complexity is: O(n)\n",
    "#                     Space complexity:   O(n)\n",
    "n = 7\n",
    "arr = uglyNumbers(n)\n",
    "print(arr[0],\"\\n\",n,\"th ugly number is:\",arr[1])"
   ]
  },
  {
   "cell_type": "code",
   "execution_count": 103,
   "metadata": {},
   "outputs": [],
   "source": [
    "#edit diatance \n",
    "#https://www.geeksforgeeks.org/edit-distance-dp-5/\n",
    "#Find the longest common subsequence length\n",
    "#let lcsLength = 4\n",
    "#let str1 = gekek str2 = geek\n",
    "#To find the editing distance do len(str1) - lecLength"
   ]
  },
  {
   "cell_type": "code",
   "execution_count": 107,
   "metadata": {},
   "outputs": [
    {
     "name": "stdout",
     "output_type": "stream",
     "text": [
      "5\n",
      "23\n",
      "119\n"
     ]
    }
   ],
   "source": [
    "#1,2 = > 1+2+(1*2)\n",
    "#1,2,3 = > 1+2+3+(1*2)+(1*3)+(2*3)+(1*2*3)\n",
    "def subsetsPattern(arr):\n",
    "    a = arr[0]\n",
    "    b = arr[1]\n",
    "    x = a+b+(a*b)\n",
    "    #return x\n",
    "    for i in range(2,len(arr)):\n",
    "        print(x)\n",
    "        x = x+arr[i]+(x*arr[i])\n",
    "    return x\n",
    "arr = [1,2,3,4]\n",
    "print(subsetsPattern(arr))"
   ]
  },
  {
   "cell_type": "code",
   "execution_count": 116,
   "metadata": {},
   "outputs": [
    {
     "name": "stdout",
     "output_type": "stream",
     "text": [
      "1 2\n",
      "2 0\n",
      "4 3\n",
      "5 1\n"
     ]
    }
   ],
   "source": [
    "#-------------------------------------very important--------------------------------------------------\n",
    "#sort values along with its index\n",
    "d = {2:0,5:1,1:2,4:3}\n",
    "for i in sorted(d):\n",
    "    print(i,d[i])"
   ]
  },
  {
   "cell_type": "code",
   "execution_count": 122,
   "metadata": {},
   "outputs": [
    {
     "name": "stdout",
     "output_type": "stream",
     "text": [
      "210 1\n",
      "310 0\n",
      "{310: 0, 210: 1}\n"
     ]
    }
   ],
   "source": [
    "def binaryStorage(arr):\n",
    "    d = {}\n",
    "    for i in range(0,len(arr)):\n",
    "        #print(arr[i])\n",
    "        d[arr[i][0]] = i\n",
    "    for i in sorted(d):\n",
    "        print(i,d[i])\n",
    "    print(d)\n",
    "arr = [[0,1,2],[3,1,0]]\n",
    "arr1 = [[310],[210]]\n",
    "binaryStorage(arr1)"
   ]
  },
  {
   "cell_type": "code",
   "execution_count": 171,
   "metadata": {},
   "outputs": [
    {
     "name": "stdout",
     "output_type": "stream",
     "text": [
      "[2, 3]\n"
     ]
    }
   ],
   "source": [
    "#given an array and k value we have to find the minimum of all subarrays of length k\n",
    "#if arr =   2     8     4     3     5\n",
    "# [2,8,4,3],[8,4,3,3]     max = [2,3]\n",
    "#The time complexity of this prolem can be further reduced to O(n) if we use --------Deque--------\n",
    "def serialSegments(arr,k):\n",
    "    l = []\n",
    "    n = len(arr)\n",
    "    x = arr[0:k] #O(k)\n",
    "    x.sort() # O(klog k)\n",
    "    minn1 = x[0]\n",
    "    minn2 = x[1]\n",
    "    l.append(minn1)\n",
    "    for i in range(k,n): #O(n)\n",
    "        x = []\n",
    "        x = arr[i-(k-1):i+1]\n",
    "        x.sort()  #O(klog k)\n",
    "        minn1 = x[0]\n",
    "        minn2 = x[1]\n",
    "        l.append(minn1)\n",
    "    print(l)\n",
    "    #overall complexity = (n*k)log k\n",
    "arr = [2,8,4,3,5]\n",
    "arr1 = [2,3,8,4,5]\n",
    "arr2 = [8,1,4,5,2]\n",
    "arr3 = [1,2,3,4,5]\n",
    "serialSegments(arr,4)"
   ]
  },
  {
   "cell_type": "code",
   "execution_count": 90,
   "metadata": {},
   "outputs": [
    {
     "name": "stdout",
     "output_type": "stream",
     "text": [
      "1\n",
      "84 47\n",
      "765 992 1 521 220 380 729 969 184 887 104 641 909 378 724 582 387 583 241 294 159 198 653 369 418 692 36 901 516 623 703 971 304 394 491 525 464 219 183 648 796 287 979 395 356 702 667 743 976 908 728 134 106 380 193 214 71 920 114 587 543 817 248 537 901 739 752 364 649 626 702 444 913 681 529 959 72 196 392 738 103 119 872 900\n",
      "\n",
      "\n",
      "\n",
      "992 992 979 979 979 979 979 979 979 979 979 979 979 979 979 979 979 979 979 979 979 979 979 979 979 979 979 979 979 979 979 979 979 979 979 979 979 979 \n"
     ]
    },
    {
     "data": {
      "text/plain": [
       "'\\narr = \"765 992 1 521 220 380 729 969 184 887 104 641 909 378 724 582 387 583 241 294 159 198 653 369 418 692 36 901 516 623 703 971 304 394 491 525 464 219 183 648 796 287 979 395 356 702 667 743 976 908 728 134 106 380 193 214 71 920 114 587 543 817 248 537 901 739 752 364 649 626 702 444 913 681 529 959 72 196 392 738 103 119 872 900\"\\narr = list(map(int,arr.split(\" \")))\\narr1 = [2,5,1,4,1,3,2,1,3]\\nn = len(arr)\\nk = 47\\n#print(arr)\\nfindMax(arr,n,k)\\n'"
      ]
     },
     "execution_count": 90,
     "metadata": {},
     "output_type": "execute_result"
    }
   ],
   "source": [
    "#finding maximum element in every window of size k\n",
    "#concept used is deque\n",
    "#time complexity is O(n)\n",
    "def findMax(arr,n,k):\n",
    "    # k : window size\n",
    "    #print(\"\\n\\n\")\n",
    "    #print(arr[0:47])\n",
    "    l = []\n",
    "    #l.append(arr[0])\n",
    "    l.append(0)\n",
    "    index = 0\n",
    "    lengthL = len(l)-1\n",
    "    for i in range(1,k-1):\n",
    "        if(arr[i]>=arr[l[lengthL]]):\n",
    "            while(lengthL>=0 and arr[l[lengthL]]<=arr[i]):\n",
    "                l.remove(l[lengthL])\n",
    "                lengthL = len(l)-1\n",
    "            #l.remove(l[i-1])\n",
    "            l.append(i)\n",
    "        else:\n",
    "            l.append(i)\n",
    "        lengthL = len(l)-1\n",
    "        if(len(l) == 1):\n",
    "            index = i\n",
    "\n",
    "    #print(\"l--\",l)\n",
    "    for i in range(k-1,n):\n",
    "        #print(i,l)\n",
    "        #print(\"index at \",i,\"is:\",index,l)\n",
    "        if(arr[i]>=arr[l[lengthL]]):\n",
    "            #j = lengthL\n",
    "            while(lengthL>=0 and arr[l[lengthL]]<=arr[i]):\n",
    "                l.remove(l[lengthL])\n",
    "                lengthL = len(l)-1\n",
    "            #l.remove(l[i-1])\n",
    "            l.append(i)\n",
    "        else:\n",
    "            l.append(i)\n",
    "        lengthL = len(l)-1\n",
    "        if(len(l)==1):\n",
    "            index = i\n",
    "\n",
    "        if((i+1)-l[0] <= k):\n",
    "            print(arr[l[0]],end=\" \")\n",
    "        else:\n",
    "            l.remove(l[0])\n",
    "            lengthL = len(l)-1\n",
    "            print(arr[l[0]],end=\" \")\n",
    "        \n",
    "\n",
    "if __name__ == '__main__':\n",
    "    #fptr = open(os.environ['OUTPUT_PATH'], 'w')\n",
    "\n",
    "    t = int(input())\n",
    "    while(t):\n",
    "        a = list(map(int,input().rstrip().split()))\n",
    "        arr = list(map(int,input().rstrip().split()))\n",
    "        print(end=\"\\n\\n\\n\")\n",
    "        findMax(arr,len(arr),a[1])\n",
    "        print(end=\"\\n\")\n",
    "        t = t-1\n",
    "\n",
    "'''\n",
    "arr = \"765 992 1 521 220 380 729 969 184 887 104 641 909 378 724 582 387 583 241 294 159 198 653 369 418 692 36 901 516 623 703 971 304 394 491 525 464 219 183 648 796 287 979 395 356 702 667 743 976 908 728 134 106 380 193 214 71 920 114 587 543 817 248 537 901 739 752 364 649 626 702 444 913 681 529 959 72 196 392 738 103 119 872 900\"\n",
    "arr = list(map(int,arr.split(\" \")))\n",
    "arr1 = [2,5,1,4,1,3,2,1,3]\n",
    "n = len(arr)\n",
    "k = 47\n",
    "#print(arr)\n",
    "findMax(arr,n,k)\n",
    "'''"
   ]
  },
  {
   "cell_type": "code",
   "execution_count": 93,
   "metadata": {},
   "outputs": [
    {
     "name": "stdout",
     "output_type": "stream",
     "text": [
      "3 4 5 6 7\n",
      "[3, 4]\n"
     ]
    }
   ],
   "source": [
    "a = [int(i) for i in input().strip().split()[0:2]]\n",
    "print(a)"
   ]
  },
  {
   "cell_type": "code",
   "execution_count": 173,
   "metadata": {},
   "outputs": [
    {
     "data": {
      "text/plain": [
       "str"
      ]
     },
     "execution_count": 173,
     "metadata": {},
     "output_type": "execute_result"
    }
   ],
   "source": [
    "type(x)"
   ]
  },
  {
   "cell_type": "code",
   "execution_count": 175,
   "metadata": {},
   "outputs": [
    {
     "data": {
      "text/plain": [
       "['__call__',\n",
       " '__class__',\n",
       " '__delattr__',\n",
       " '__dir__',\n",
       " '__doc__',\n",
       " '__eq__',\n",
       " '__format__',\n",
       " '__ge__',\n",
       " '__getattribute__',\n",
       " '__gt__',\n",
       " '__hash__',\n",
       " '__init__',\n",
       " '__init_subclass__',\n",
       " '__le__',\n",
       " '__lt__',\n",
       " '__module__',\n",
       " '__name__',\n",
       " '__ne__',\n",
       " '__new__',\n",
       " '__qualname__',\n",
       " '__reduce__',\n",
       " '__reduce_ex__',\n",
       " '__repr__',\n",
       " '__self__',\n",
       " '__setattr__',\n",
       " '__sizeof__',\n",
       " '__str__',\n",
       " '__subclasshook__',\n",
       " '__text_signature__']"
      ]
     },
     "execution_count": 175,
     "metadata": {},
     "output_type": "execute_result"
    }
   ],
   "source": [
    "dir(format)"
   ]
  },
  {
   "cell_type": "code",
   "execution_count": 176,
   "metadata": {},
   "outputs": [
    {
     "ename": "NameError",
     "evalue": "name 'foo' is not defined",
     "output_type": "error",
     "traceback": [
      "\u001b[0;31m---------------------------------------------------------------------------\u001b[0m",
      "\u001b[0;31mNameError\u001b[0m                                 Traceback (most recent call last)",
      "\u001b[0;32m<ipython-input-176-63b9664d1c03>\u001b[0m in \u001b[0;36m<module>\u001b[0;34m\u001b[0m\n\u001b[0;32m----> 1\u001b[0;31m \u001b[0mf\u001b[0m \u001b[0;34m=\u001b[0m \u001b[0mfoo\u001b[0m\u001b[0;34m(\u001b[0m\u001b[0;34m)\u001b[0m\u001b[0;34m\u001b[0m\u001b[0;34m\u001b[0m\u001b[0m\n\u001b[0m",
      "\u001b[0;31mNameError\u001b[0m: name 'foo' is not defined"
     ]
    }
   ],
   "source": [
    "f = foo()"
   ]
  },
  {
   "cell_type": "code",
   "execution_count": 177,
   "metadata": {},
   "outputs": [
    {
     "ename": "SyntaxError",
     "evalue": "invalid syntax (<ipython-input-177-669ac78c3fca>, line 1)",
     "output_type": "error",
     "traceback": [
      "\u001b[0;36m  File \u001b[0;32m\"<ipython-input-177-669ac78c3fca>\"\u001b[0;36m, line \u001b[0;32m1\u001b[0m\n\u001b[0;31m    'str'==='str'\u001b[0m\n\u001b[0m           ^\u001b[0m\n\u001b[0;31mSyntaxError\u001b[0m\u001b[0;31m:\u001b[0m invalid syntax\n"
     ]
    }
   ],
   "source": [
    "'str'==='str'"
   ]
  },
  {
   "cell_type": "code",
   "execution_count": 178,
   "metadata": {},
   "outputs": [
    {
     "name": "stdout",
     "output_type": "stream",
     "text": [
      "\n"
     ]
    },
    {
     "data": {
      "text/plain": [
       "NoneType"
      ]
     },
     "execution_count": 178,
     "metadata": {},
     "output_type": "execute_result"
    }
   ],
   "source": [
    "type(print())"
   ]
  },
  {
   "cell_type": "code",
   "execution_count": 210,
   "metadata": {},
   "outputs": [
    {
     "name": "stdout",
     "output_type": "stream",
     "text": [
      "0\n",
      "9281696\n",
      "9282336\n"
     ]
    }
   ],
   "source": [
    "class foo:\n",
    "    def __init__(self):\n",
    "        self.abc = 0\n",
    "        #print(id(self.abc))\n",
    "        self.display1(self.abc)\n",
    "    def display1(self,val):\n",
    "        #print(id(val))\n",
    "        self.val = 20\n",
    "        print(val)\n",
    "        #print(id(val))\n",
    "obj = foo()    \n",
    "print(id(obj.abc))\n",
    "print(id(obj.val))"
   ]
  },
  {
   "cell_type": "code",
   "execution_count": 221,
   "metadata": {},
   "outputs": [
    {
     "name": "stdout",
     "output_type": "stream",
     "text": [
      "7\n"
     ]
    }
   ],
   "source": [
    "#  start                                            end\n",
    "#    a     b     a     b     c     b     a     b     d\n",
    "\n",
    "#   max(2+1,0)                abad     (aba)d   a(bad)\n",
    "#                           /      \\\n",
    "# since a == a  (2+(b))   aba        bad    (since a != d)\n",
    "# so aba = >a(b)a         |         /   \\\n",
    "# (return 1)              b        ba    ad   (return 0)\n",
    "#\n",
    "\n",
    "\n",
    "def longestPalindrome(start,end,s):\n",
    "    if(start<=end and end-start == 0):  #all string of length 1 are palindromes of length = 1\n",
    "        return 1\n",
    "    elif(start<=end and end-start == 1):  #if only two elements remained after recurring say: bb the it is palindrome of length = 2 \n",
    "        if(s[start] == s[end]):\n",
    "            return 2\n",
    "        else:\n",
    "            return 0  #if 2 elements remained and both are not equal the string of length 2 is not palindrome \n",
    "    else:\n",
    "        if(s[start] == s[end]):\n",
    "            return 2+longestPalindrome(start+1,end-1,s)\n",
    "        else:\n",
    "            return max(longestPalindrome(start,end-1,s), longestPalindrome(start+1,end,s))\n",
    "    #return max(x,y)\n",
    "s = \"ababcbabd\"\n",
    "x=0\n",
    "y=0\n",
    "print(longestPalindrome(0,len(s)-1,s,0,0))"
   ]
  },
  {
   "cell_type": "code",
   "execution_count": 40,
   "metadata": {},
   "outputs": [
    {
     "name": "stdout",
     "output_type": "stream",
     "text": [
      "1963\n",
      "False\n"
     ]
    }
   ],
   "source": [
    "#Return true if a subset can be partisioned into two subsets of a equal length\n",
    "#This proble is same as sum of subset problem\n",
    "#idea:if sum of elements is odd then we cannot partision the array into two parts of equal length\n",
    "#if sum is even then we have to check if we can partision the array into two halves of sum = sum/2\n",
    "#   1   5    11    5     sum = 22 half = 11\n",
    "#we keep on adding each element and subtract that element from half ie = half = half - arr[n-1](adding each element)\n",
    "#if half == 0 or half == arr[n-1] it means it is possible because a + b = 22 => if a ==11 then b must be 11\n",
    "#The below program is implemented using recursion\n",
    "#time complexity is O(2^n)\n",
    "#The below solution can be bettered using dynamic programming\n",
    "def partisionProblem(arr,n,summ,half):\n",
    "    if(summ%2!=0):\n",
    "        return False\n",
    "    else:\n",
    "        if(n==0 or arr[n-1]>half):\n",
    "            return False\n",
    "        elif(half==0 or arr[n-1]==half):\n",
    "            return True\n",
    "        else:\n",
    "            return partisionProblem(arr,n-1,summ,half) or partisionProblem(arr,n-1,summ,half-arr[n-1])\n",
    "arr = [1,5,5,21]\n",
    "arr1 = [1,5,11,5]\n",
    "arr2 = [12,6,1,7]\n",
    "arr3 = [6,2,3,4,5]\n",
    "arr4 = [478,757,314,471,729,100,459,618]\n",
    "summ = 0\n",
    "for i in range(len(arr4)):\n",
    "    summ = summ + arr4[i]\n",
    "print((int)(summ/2))\n",
    "print(partisionProblem(arr4,len(arr4),summ,int(summ/2)))"
   ]
  },
  {
   "cell_type": "code",
   "execution_count": 44,
   "metadata": {},
   "outputs": [
    {
     "name": "stdout",
     "output_type": "stream",
     "text": [
      "1\n",
      "4\n",
      "12 6 1 7\n",
      "YES\n"
     ]
    }
   ],
   "source": [
    "#The below code is the partisionProblem using dynamic programming\n",
    "#!/bin/python3\n",
    "\n",
    "import os\n",
    "import sys\n",
    "\n",
    "#\n",
    "# Complete the subsetSum function below.\n",
    "#\n",
    "def subsetSum(arr,n):\n",
    "    summ = sum(arr)\n",
    "    half = summ // 2\n",
    "    dp = [[ 1 for j in range(half + 1)] \n",
    "                for i in range(n + 1)] \n",
    "    if(summ%2!=0):\n",
    "        return 0\n",
    "    for j in range(half+1):\n",
    "        dp[0][j] = 0;\n",
    "    for i in range(n+1):\n",
    "        dp[i][0] = 1\n",
    "    \n",
    "    for i in range(1,n+1):\n",
    "        for j in range(1,half+1):\n",
    "            #if(j<arr[i-1]):\n",
    "            dp[i][j] = dp[i-1][j]\n",
    "            if(j>=arr[i-1]):\n",
    "                dp[i][j] =  dp[i][j] or dp[i-1][j-arr[i-1]]\n",
    "        \n",
    "    return dp[n][half]\n",
    "        \n",
    "    \n",
    "if __name__ == '__main__':\n",
    "    #fptr = open(os.environ['OUTPUT_PATH'], 'w')\n",
    "\n",
    "    t = int(input())\n",
    "    while(t):\n",
    "        n = int(input())\n",
    "        arr = list(map(int, input().rstrip().split()))\n",
    "        result = subsetSum(arr,n)\n",
    "        if(result == 0):\n",
    "            print(\"NO\")\n",
    "        else:\n",
    "            print(\"YES\")\n",
    "        t = t-1\n",
    "#Overall complexity:\n",
    "#                    Time complexity:  O(n*half)\n",
    "#                    Space complexity: O(n*half)\n",
    "#space complexity can be reduced by taking 2 arrays of length half instead of n arrays of length half then space complexity = O(2*half)"
   ]
  },
  {
   "cell_type": "code",
   "execution_count": 55,
   "metadata": {},
   "outputs": [
    {
     "name": "stdout",
     "output_type": "stream",
     "text": [
      "1\n",
      "4\n",
      "12 6 1 7\n",
      "[1, 0, 0, 0, 0, 0, 0, 0, 0, 0, 0, 0, 1, 0]\n",
      "[1, 0, 0, 0, 0, 0, 1, 0, 0, 0, 0, 0, 1, 0]\n",
      "[1, 1, 0, 0, 0, 0, 1, 1, 0, 0, 0, 0, 1, 1]\n",
      "[1, 1, 0, 0, 0, 0, 1, 1, 1, 0, 0, 0, 1, 1]\n",
      "[[1, 0, 0, 0, 0, 0, 0, 0, 0, 0, 0, 0, 0, 0], [1, 0, 0, 0, 0, 0, 0, 0, 0, 0, 0, 0, 1, 0], [1, 0, 0, 0, 0, 0, 1, 0, 0, 0, 0, 0, 1, 0], [1, 1, 0, 0, 0, 0, 1, 1, 0, 0, 0, 0, 1, 1], [1, 1, 0, 0, 0, 0, 1, 1, 1, 0, 0, 0, 1, 1]]\n",
      "YES\n"
     ]
    }
   ],
   "source": [
    "#!/bin/python3\n",
    "\n",
    "import os\n",
    "import sys\n",
    "\n",
    "#\n",
    "# Complete the subsetSum function below.\n",
    "#\n",
    "def subsetSum(arr,n):\n",
    "    summ = sum(arr)\n",
    "    half = summ // 2\n",
    "    dp = [[ 0 for j in range(half + 1)] \n",
    "                for i in range(n + 1)] \n",
    "    if(summ%2!=0):\n",
    "        return 0\n",
    "    for j in range(half+1):\n",
    "        dp[0][j] = 0;\n",
    "    for i in range(n+1):\n",
    "        dp[i][0] = 1\n",
    "    #print(dp)\n",
    "    #print(dp[0][12-arr[0]])\n",
    "    for i in range(1,n+1):\n",
    "        for j in range(1,half+1):\n",
    "            if(j<arr[i-1]):\n",
    "                dp[i][j] = dp[i-1][j]\n",
    "            else:\n",
    "                dp[i][j] =  dp[i-1][j] or dp[i-1][j-arr[i-1]]\n",
    "        print(dp[i])\n",
    "    print(dp)\n",
    "    return dp[n][half]\n",
    "        \n",
    "    \n",
    "if __name__ == '__main__':\n",
    "    #fptr = open(os.environ['OUTPUT_PATH'], 'w')\n",
    "\n",
    "    t = int(input())\n",
    "    while(t):\n",
    "        n = int(input())\n",
    "        arr = list(map(int, input().rstrip().split()))\n",
    "        result = subsetSum(arr,n)\n",
    "        if(result == 0):\n",
    "            print(\"NO\")\n",
    "        else:\n",
    "            print(\"YES\")\n",
    "        t = t-1"
   ]
  },
  {
   "cell_type": "code",
   "execution_count": 13,
   "metadata": {},
   "outputs": [
    {
     "name": "stdout",
     "output_type": "stream",
     "text": [
      "2 3 4 5 6\n"
     ]
    }
   ],
   "source": [
    "arr = list(map(int, input().rstrip().split()))"
   ]
  },
  {
   "cell_type": "code",
   "execution_count": 15,
   "metadata": {},
   "outputs": [
    {
     "data": {
      "text/plain": [
       "20"
      ]
     },
     "execution_count": 15,
     "metadata": {},
     "output_type": "execute_result"
    }
   ],
   "source": [
    "sum(arr)"
   ]
  },
  {
   "cell_type": "code",
   "execution_count": 64,
   "metadata": {},
   "outputs": [
    {
     "name": "stdout",
     "output_type": "stream",
     "text": [
      "2\n"
     ]
    }
   ],
   "source": [
    "#Return minimum difference of two subsets of the given set\n",
    "#This proble is same as sum of subset problem\n",
    "#The below program is implemented using recursion\n",
    "#time complexity is O(2^n)\n",
    "#The below solution can be bettered using dynamic programming\n",
    "def partisionProblem(arr,n,summ,changingSum):\n",
    "    if(n==0):\n",
    "        return abs(changingSum - (summ - changingSum))\n",
    "    else:\n",
    "        return min(partisionProblem(arr,n-1,summ,changingSum),partisionProblem(arr,n-1,summ,changingSum-arr[n-1]))\n",
    "    #return result\n",
    "arr = [1,5,5,21]\n",
    "arr1 = [1,5,11,5]\n",
    "arr2 = [12,6,1,7]\n",
    "arr3 = [6,2,3,4,5]\n",
    "arr4 = [478,757,314,471,729,100,459,618]\n",
    "summ = 0\n",
    "for i in range(len(arr4)):\n",
    "    summ = summ + arr4[i]\n",
    "print(partisionProblem(arr4,len(arr4),summ,summ))"
   ]
  },
  {
   "cell_type": "code",
   "execution_count": 81,
   "metadata": {},
   "outputs": [
    {
     "name": "stdout",
     "output_type": "stream",
     "text": [
      "6\n",
      "5\n"
     ]
    }
   ],
   "source": [
    "#Returns no of subsets that would give sum = sum(arr)//k\n",
    "#This problem is same as sum of subset problem\n",
    "#The below program is implemented using recursion\n",
    "#time complexity is O(2^n)\n",
    "#The below solution can be bettered using dynamic programming\n",
    "def noOfSubsetsWithSumK(arr,n,summ,remainingSum):\n",
    "    if(remainingSum == 0):\n",
    "        #print(n)\n",
    "        return 1\n",
    "    elif(remainingSum<0 or n==0):\n",
    "        return 0\n",
    "    else:\n",
    "        return noOfSubsetsWithSumK(arr,n-1,summ,remainingSum) + noOfSubsetsWithSumK(arr,n-1,summ,remainingSum-arr[n-1])\n",
    "arr = [1,5,5,21]\n",
    "arr1 = [1,5,11,5]\n",
    "arr2 = [12,6,1,7]\n",
    "k2 = 2\n",
    "arr3 = [6,2,3,4,5]\n",
    "arr4 = [478,757,314,471,729,100,459,618]\n",
    "arr6 = [4,3,2,3,5,2,1]\n",
    "k6 = 4\n",
    "arr7 = [2, 1, 4, 5, 3, 3]\n",
    "k7 = 3\n",
    "summ = sum(arr7)//k7\n",
    "print(summ)\n",
    "print(noOfSubsetsWithSumK(arr7,len(arr7),summ,summ))"
   ]
  },
  {
   "cell_type": "code",
   "execution_count": null,
   "metadata": {},
   "outputs": [],
   "source": [
    "'''\n",
    "Introduction\n",
    "\n",
    "Dynamic programming (usually referred to as DP ) is a very powerful technique to solve a particular class of \n",
    "problems. It demands very elegant formulation of the approach and simple thinking and the coding part is very easy.\n",
    "The idea is very simple, If you have solved a problem with the given input, then save the result for future \n",
    "reference, so as to avoid solving the same problem again.. shortly 'Remember your Past' :) .  \n",
    "If the given problem can be broken up in to smaller sub-problems and these smaller subproblems are in turn \n",
    "divided in to still-smaller ones, and in this process, if you observe some over-lapping subproblems, \n",
    "then its a big hint for DP. Also, the optimal solutions to the subproblems contribute to the optimal solution \n",
    "of the given problem ( referred to as the Optimal Substructure Property ).\n",
    "\n",
    "There are two ways of doing this.\n",
    "\n",
    "1.) Top-Down : Start solving the given problem by breaking it down. If you see that the problem has been solved \n",
    "               already, then just return the saved answer. If it has not been solved,solve it and save the answer.\n",
    "               This is usually easy to think of and very intuitive. This is referred to as Memoization.\n",
    "\n",
    "2.) Bottom-Up : Analyze the problem and see the order in which the sub-problems are solved and start solving from \n",
    "                the trivial subproblem, up towards the given problem. In this process, it is guaranteed that the \n",
    "                subproblems are solved before solving the problem. This is referred to as Dynamic Programming.\n",
    "\n",
    "Note:\n",
    "    divide and conquer is slightly a different technique. In that, we divide the problem in to non-overlapping \n",
    "    subproblems and solve them independently, like in mergesort and quick sort.\n",
    "\n",
    "\n",
    "Complementary to Dynamic Programming are Greedy Algorithms which make a decision once and for all every time \n",
    "they need to make a choice, in such a way that it leads to a near-optimal solution. A Dynamic Programming \n",
    "solution is based on the principal of Mathematical Induction greedy algorithms require other kinds of proof.\n",
    "\n",
    "\n",
    "Below is counting number of ways to cover a distance:\n",
    "Given a distance ‘dist, count total number of ways to cover the distance with 1, 2 and 3 steps.\n",
    "\n",
    "Examples :\n",
    "Input:  n = 3\n",
    "Output: 4\n",
    "Below are the four ways\n",
    " 1 step + 1 step + 1 step\n",
    " 1 step + 2 step\n",
    " 2 step + 1 step\n",
    " 3 step\n",
    "\n",
    "Input:  n = 4\n",
    "Output: 7\n",
    "\n",
    "The above problem is solved in the next sections: \n",
    "    1.Using recursion\n",
    "    2.Using memoization\n",
    "    3.Using Dynamic Programming\n",
    "'''"
   ]
  },
  {
   "cell_type": "code",
   "execution_count": 90,
   "metadata": {},
   "outputs": [
    {
     "name": "stdout",
     "output_type": "stream",
     "text": [
      "7\n"
     ]
    }
   ],
   "source": [
    "#No of ways to cover a distance n using 1,2,3 steps\n",
    "#below code is the recursion solution which takes O(3^n) time\n",
    "def coverDistance(n):\n",
    "    if(n==0):\n",
    "        return 1\n",
    "    elif(n<0):\n",
    "        return 0\n",
    "    else:\n",
    "        return coverDistance(n-1) + coverDistance(n-2) + coverDistance(n-3)\n",
    "print(coverDistance(4))"
   ]
  },
  {
   "cell_type": "code",
   "execution_count": 114,
   "metadata": {},
   "outputs": [
    {
     "name": "stdout",
     "output_type": "stream",
     "text": [
      "[0, 0, 0, 0, 0]\n",
      "7\n",
      "[0, 1, 2, 4, 7]\n"
     ]
    }
   ],
   "source": [
    "#No of ways to cover a distance n using 1,2,3 steps\n",
    "#below code is implemented using memoization \n",
    "#Memoization is top down approach but here everytime we reach a solution we store it so that recomputation if same \n",
    "#thing isnt required\n",
    "def coverDistance(n,arr):\n",
    "    if(n==0):\n",
    "        return 1\n",
    "    elif(n<0):\n",
    "        return 0\n",
    "    elif(arr[n]):      #if already computed just return the value \n",
    "        return arr[n]\n",
    "    else:              #if not computed arr[n] value then compute\n",
    "        arr[n] =  coverDistance(n-1,arr) + coverDistance(n-2,arr) + coverDistance(n-3,arr)\n",
    "    return arr[n]\n",
    "n = 4\n",
    "arr = []\n",
    "arr[0:n+1] = [0] * (n+1)\n",
    "print(arr)\n",
    "print(coverDistance(n,arr))\n",
    "print(arr)"
   ]
  },
  {
   "cell_type": "code",
   "execution_count": 122,
   "metadata": {},
   "outputs": [
    {
     "name": "stdout",
     "output_type": "stream",
     "text": [
      "[0, 0, 0, 0, 0]\n",
      "[1, 1, 2, 4, 7]\n",
      "7\n"
     ]
    }
   ],
   "source": [
    "#No of ways to cover a distance n using 1,2,3 steps\n",
    "#below code is implemented using dynamic programming that is using bottom up approach\n",
    "def coverDistance(n):\n",
    "    dp = []\n",
    "    dp[0:n+1] = [0] * (n+1)\n",
    "    print(dp)\n",
    "    dp[0] = 1\n",
    "    dp[1] = 1\n",
    "    dp[2] = 2\n",
    "    #print(dp)\n",
    "    for i in range(3,n+1):\n",
    "        dp[i] = dp[i-1] + dp[i-2] + dp[i-3]\n",
    "    print(dp)\n",
    "    return dp[n]\n",
    "n = 4\n",
    "print(coverDistance(n))\n",
    "#print(arr)"
   ]
  },
  {
   "cell_type": "code",
   "execution_count": 2,
   "metadata": {},
   "outputs": [
    {
     "name": "stdout",
     "output_type": "stream",
     "text": [
      "14\n"
     ]
    }
   ],
   "source": [
    "def minSteps(a,b,n):\n",
    "    if(n<0):\n",
    "        return 0\n",
    "    elif(n-a==0 or n-b==0):\n",
    "        return 1\n",
    "    else:\n",
    "        return 1+ min(minSteps(a,b,n-a),minSteps(a,b,n-b))\n",
    "print(minSteps(5,4,67))"
   ]
  },
  {
   "cell_type": "code",
   "execution_count": 26,
   "metadata": {},
   "outputs": [
    {
     "name": "stdout",
     "output_type": "stream",
     "text": [
      "[0, 0, 0, 0, 0, 0, 0, 0, 0, 0, 0, 0, 0, 0, 0]\n",
      "3\n",
      "13\n"
     ]
    }
   ],
   "source": [
    "incr = 0\n",
    "def minSteps(a,b,n,arr):\n",
    "    global incr\n",
    "    incr = incr+1\n",
    "    if(n<0):\n",
    "        return 0\n",
    "    elif(n-a==0 or n-b==0):\n",
    "        return 1\n",
    "    elif(arr[n]):\n",
    "        return arr[n]\n",
    "    else:\n",
    "        arr[n] =  1+ min(minSteps(a,b,n-a,arr),minSteps(a,b,n-b,arr))\n",
    "    return arr[n]\n",
    "c= 14\n",
    "\n",
    "arr = [0]*(c+1)\n",
    "print(arr)\n",
    "print(minSteps(5,4,c,arr))\n",
    "print(incr)"
   ]
  },
  {
   "cell_type": "code",
   "execution_count": 35,
   "metadata": {},
   "outputs": [
    {
     "name": "stdout",
     "output_type": "stream",
     "text": [
      "yes\n",
      "{'a': 0, 'b': 1, 'ba': 2, 'bca': 3, 'bda': 4, 'bdca': 5}\n"
     ]
    }
   ],
   "source": [
    "def longestChain(words):\n",
    "    # Write your code here\n",
    "    d ={}\n",
    "    presentChainLength = 0\n",
    "    maxchainLength = 0\n",
    "    for i in range(0,len(words)):\n",
    "        d[words[i]] = i\n",
    "    for i in range(0,len(words)):\n",
    "        if(len(words[i])>1):\n",
    "            y = words[i]\n",
    "            for j in range(0,len(y)):\n",
    "                s = \"\"\n",
    "                s = words[i][0:j]+words[i][j+1:]\n",
    "                if s in d.keys():\n",
    "                    presentChainLength = presentChainLength+1\n",
    "                    \n",
    "    if 'a' in d.keys():\n",
    "        print(\"yes\")\n",
    "    return d\n",
    "words = ['a', 'b', 'ba', 'bca', 'bda', 'bdca']\n",
    "print(longestChain(words))"
   ]
  },
  {
   "cell_type": "code",
   "execution_count": 37,
   "metadata": {},
   "outputs": [
    {
     "ename": "RecursionError",
     "evalue": "maximum recursion depth exceeded while calling a Python object",
     "output_type": "error",
     "traceback": [
      "\u001b[0;31m---------------------------------------------------------------------------\u001b[0m",
      "\u001b[0;31mRecursionError\u001b[0m                            Traceback (most recent call last)",
      "\u001b[0;32m<ipython-input-37-fe8a80fbafeb>\u001b[0m in \u001b[0;36m<module>\u001b[0;34m\u001b[0m\n\u001b[1;32m      9\u001b[0m \u001b[0md\u001b[0m \u001b[0;34m=\u001b[0m \u001b[0;34m{\u001b[0m\u001b[0;34m'a'\u001b[0m\u001b[0;34m:\u001b[0m \u001b[0;36m0\u001b[0m\u001b[0;34m,\u001b[0m \u001b[0;34m'b'\u001b[0m\u001b[0;34m:\u001b[0m \u001b[0;36m1\u001b[0m\u001b[0;34m,\u001b[0m \u001b[0;34m'ba'\u001b[0m\u001b[0;34m:\u001b[0m \u001b[0;36m2\u001b[0m\u001b[0;34m,\u001b[0m \u001b[0;34m'bca'\u001b[0m\u001b[0;34m:\u001b[0m \u001b[0;36m3\u001b[0m\u001b[0;34m,\u001b[0m \u001b[0;34m'bda'\u001b[0m\u001b[0;34m:\u001b[0m \u001b[0;36m4\u001b[0m\u001b[0;34m,\u001b[0m \u001b[0;34m'bdca'\u001b[0m\u001b[0;34m:\u001b[0m \u001b[0;36m5\u001b[0m\u001b[0;34m}\u001b[0m\u001b[0;34m\u001b[0m\u001b[0;34m\u001b[0m\u001b[0m\n\u001b[1;32m     10\u001b[0m \u001b[0ms\u001b[0m \u001b[0;34m=\u001b[0m \u001b[0;34m'bda'\u001b[0m\u001b[0;34m\u001b[0m\u001b[0;34m\u001b[0m\u001b[0m\n\u001b[0;32m---> 11\u001b[0;31m \u001b[0mprint\u001b[0m\u001b[0;34m(\u001b[0m\u001b[0mfunc\u001b[0m\u001b[0;34m(\u001b[0m\u001b[0ms\u001b[0m\u001b[0;34m,\u001b[0m\u001b[0md\u001b[0m\u001b[0;34m,\u001b[0m\u001b[0;36m0\u001b[0m\u001b[0;34m,\u001b[0m\u001b[0mlen\u001b[0m\u001b[0;34m(\u001b[0m\u001b[0ms\u001b[0m\u001b[0;34m)\u001b[0m\u001b[0;34m-\u001b[0m\u001b[0;36m1\u001b[0m\u001b[0;34m,\u001b[0m\u001b[0mlen\u001b[0m\u001b[0;34m(\u001b[0m\u001b[0ms\u001b[0m\u001b[0;34m)\u001b[0m\u001b[0;34m-\u001b[0m\u001b[0;36m1\u001b[0m\u001b[0;34m)\u001b[0m\u001b[0;34m)\u001b[0m\u001b[0;34m\u001b[0m\u001b[0;34m\u001b[0m\u001b[0m\n\u001b[0m",
      "\u001b[0;32m<ipython-input-37-fe8a80fbafeb>\u001b[0m in \u001b[0;36mfunc\u001b[0;34m(s, d, start, end, n)\u001b[0m\n\u001b[1;32m      3\u001b[0m         \u001b[0;32mreturn\u001b[0m \u001b[0;36m0\u001b[0m\u001b[0;34m\u001b[0m\u001b[0;34m\u001b[0m\u001b[0m\n\u001b[1;32m      4\u001b[0m     \u001b[0;32melif\u001b[0m \u001b[0ms\u001b[0m \u001b[0;32min\u001b[0m \u001b[0md\u001b[0m\u001b[0;34m.\u001b[0m\u001b[0mkeys\u001b[0m\u001b[0;34m(\u001b[0m\u001b[0;34m)\u001b[0m\u001b[0;34m:\u001b[0m\u001b[0;34m\u001b[0m\u001b[0;34m\u001b[0m\u001b[0m\n\u001b[0;32m----> 5\u001b[0;31m         \u001b[0;32mreturn\u001b[0m \u001b[0;36m1\u001b[0m\u001b[0;34m+\u001b[0m\u001b[0mmax\u001b[0m\u001b[0;34m(\u001b[0m\u001b[0mfunc\u001b[0m\u001b[0;34m(\u001b[0m\u001b[0ms\u001b[0m\u001b[0;34m,\u001b[0m\u001b[0md\u001b[0m\u001b[0;34m,\u001b[0m\u001b[0mstart\u001b[0m\u001b[0;34m,\u001b[0m\u001b[0mend\u001b[0m\u001b[0;34m-\u001b[0m\u001b[0;36m1\u001b[0m\u001b[0;34m,\u001b[0m\u001b[0mn\u001b[0m\u001b[0;34m)\u001b[0m\u001b[0;34m,\u001b[0m\u001b[0mfunc\u001b[0m\u001b[0;34m(\u001b[0m\u001b[0ms\u001b[0m\u001b[0;34m,\u001b[0m\u001b[0md\u001b[0m\u001b[0;34m,\u001b[0m\u001b[0mstart\u001b[0m\u001b[0;34m+\u001b[0m\u001b[0;36m1\u001b[0m\u001b[0;34m,\u001b[0m\u001b[0mend\u001b[0m\u001b[0;34m,\u001b[0m\u001b[0mn\u001b[0m\u001b[0;34m)\u001b[0m\u001b[0;34m)\u001b[0m\u001b[0;34m\u001b[0m\u001b[0;34m\u001b[0m\u001b[0m\n\u001b[0m\u001b[1;32m      6\u001b[0m     \u001b[0;32melse\u001b[0m\u001b[0;34m:\u001b[0m\u001b[0;34m\u001b[0m\u001b[0;34m\u001b[0m\u001b[0m\n\u001b[1;32m      7\u001b[0m         \u001b[0ms\u001b[0m \u001b[0;34m=\u001b[0m \u001b[0ms\u001b[0m\u001b[0;34m[\u001b[0m\u001b[0;36m0\u001b[0m\u001b[0;34m,\u001b[0m\u001b[0mstart\u001b[0m\u001b[0;34m+\u001b[0m\u001b[0;36m1\u001b[0m\u001b[0;34m]\u001b[0m\u001b[0;34m+\u001b[0m\u001b[0ms\u001b[0m\u001b[0;34m[\u001b[0m\u001b[0mstart\u001b[0m\u001b[0;34m+\u001b[0m\u001b[0;36m1\u001b[0m\u001b[0;34m:\u001b[0m\u001b[0mend\u001b[0m\u001b[0;34m]\u001b[0m\u001b[0;34m\u001b[0m\u001b[0;34m\u001b[0m\u001b[0m\n",
      "... last 1 frames repeated, from the frame below ...\n",
      "\u001b[0;32m<ipython-input-37-fe8a80fbafeb>\u001b[0m in \u001b[0;36mfunc\u001b[0;34m(s, d, start, end, n)\u001b[0m\n\u001b[1;32m      3\u001b[0m         \u001b[0;32mreturn\u001b[0m \u001b[0;36m0\u001b[0m\u001b[0;34m\u001b[0m\u001b[0;34m\u001b[0m\u001b[0m\n\u001b[1;32m      4\u001b[0m     \u001b[0;32melif\u001b[0m \u001b[0ms\u001b[0m \u001b[0;32min\u001b[0m \u001b[0md\u001b[0m\u001b[0;34m.\u001b[0m\u001b[0mkeys\u001b[0m\u001b[0;34m(\u001b[0m\u001b[0;34m)\u001b[0m\u001b[0;34m:\u001b[0m\u001b[0;34m\u001b[0m\u001b[0;34m\u001b[0m\u001b[0m\n\u001b[0;32m----> 5\u001b[0;31m         \u001b[0;32mreturn\u001b[0m \u001b[0;36m1\u001b[0m\u001b[0;34m+\u001b[0m\u001b[0mmax\u001b[0m\u001b[0;34m(\u001b[0m\u001b[0mfunc\u001b[0m\u001b[0;34m(\u001b[0m\u001b[0ms\u001b[0m\u001b[0;34m,\u001b[0m\u001b[0md\u001b[0m\u001b[0;34m,\u001b[0m\u001b[0mstart\u001b[0m\u001b[0;34m,\u001b[0m\u001b[0mend\u001b[0m\u001b[0;34m-\u001b[0m\u001b[0;36m1\u001b[0m\u001b[0;34m,\u001b[0m\u001b[0mn\u001b[0m\u001b[0;34m)\u001b[0m\u001b[0;34m,\u001b[0m\u001b[0mfunc\u001b[0m\u001b[0;34m(\u001b[0m\u001b[0ms\u001b[0m\u001b[0;34m,\u001b[0m\u001b[0md\u001b[0m\u001b[0;34m,\u001b[0m\u001b[0mstart\u001b[0m\u001b[0;34m+\u001b[0m\u001b[0;36m1\u001b[0m\u001b[0;34m,\u001b[0m\u001b[0mend\u001b[0m\u001b[0;34m,\u001b[0m\u001b[0mn\u001b[0m\u001b[0;34m)\u001b[0m\u001b[0;34m)\u001b[0m\u001b[0;34m\u001b[0m\u001b[0;34m\u001b[0m\u001b[0m\n\u001b[0m\u001b[1;32m      6\u001b[0m     \u001b[0;32melse\u001b[0m\u001b[0;34m:\u001b[0m\u001b[0;34m\u001b[0m\u001b[0;34m\u001b[0m\u001b[0m\n\u001b[1;32m      7\u001b[0m         \u001b[0ms\u001b[0m \u001b[0;34m=\u001b[0m \u001b[0ms\u001b[0m\u001b[0;34m[\u001b[0m\u001b[0;36m0\u001b[0m\u001b[0;34m,\u001b[0m\u001b[0mstart\u001b[0m\u001b[0;34m+\u001b[0m\u001b[0;36m1\u001b[0m\u001b[0;34m]\u001b[0m\u001b[0;34m+\u001b[0m\u001b[0ms\u001b[0m\u001b[0;34m[\u001b[0m\u001b[0mstart\u001b[0m\u001b[0;34m+\u001b[0m\u001b[0;36m1\u001b[0m\u001b[0;34m:\u001b[0m\u001b[0mend\u001b[0m\u001b[0;34m]\u001b[0m\u001b[0;34m\u001b[0m\u001b[0;34m\u001b[0m\u001b[0m\n",
      "\u001b[0;31mRecursionError\u001b[0m: maximum recursion depth exceeded while calling a Python object"
     ]
    }
   ],
   "source": [
    "def func(s,d,start,end,n):\n",
    "    if(len(s)==0):\n",
    "        return 0\n",
    "    elif s in d.keys():\n",
    "        return 1+max(func(s,d,start,end-1,n),func(s,d,start+1,end,n))\n",
    "    else:\n",
    "        s = s[0,start+1]+s[start+1:end]\n",
    "        return func(s,d,0,len(s)-1,len(s)-1)\n",
    "d = {'a': 0, 'b': 1, 'ba': 2, 'bca': 3, 'bda': 4, 'bdca': 5}\n",
    "s = 'bda'\n",
    "print(func(s,d,0,len(s)-1,len(s)-1))"
   ]
  },
  {
   "cell_type": "code",
   "execution_count": 62,
   "metadata": {},
   "outputs": [
    {
     "name": "stdout",
     "output_type": "stream",
     "text": [
      "{'1234': 'a', '4567': 'b', '5678': '[newline]'}\n"
     ]
    }
   ],
   "source": [
    "l = ['a\\t1234','b\\t4567','[newline]\\t5678']\n",
    "d = {}\n",
    "x = []\n",
    "for i in range(0,len(l)):\n",
    "    #m.append(''.join(l[i].strip('\\t')))\n",
    "    x = l[i].split('\\t')\n",
    "    d[x[1]] = x[0]\n",
    "print(d)"
   ]
  },
  {
   "cell_type": "code",
   "execution_count": 40,
   "metadata": {},
   "outputs": [
    {
     "name": "stdout",
     "output_type": "stream",
     "text": [
      "['1234\\t', '45\\t67']\n"
     ]
    }
   ],
   "source": [
    "print(l)"
   ]
  },
  {
   "cell_type": "code",
   "execution_count": 264,
   "metadata": {},
   "outputs": [
    {
     "name": "stdout",
     "output_type": "stream",
     "text": [
      "42\n",
      "pqa\n",
      "bcp\n"
     ]
    }
   ],
   "source": [
    "def decode(codes,encoded):\n",
    "    s = encoded\n",
    "    print(len(encoded))\n",
    "    d = {}\n",
    "    x = []\n",
    "    l = \"\"\n",
    "    length = 0\n",
    "    for i in range(0,len(codes)):\n",
    "        x = codes[i].split('\\t')\n",
    "        if(x[0]=='[newline]'):\n",
    "            x[0]='\\n'\n",
    "        d[x[1]] = x[0]\n",
    "    #length = len(d[])\n",
    "    #print(d)\n",
    "    a=0\n",
    "    for i in range(1,len(encoded)+1):\n",
    "        if encoded[a:i] in d.keys():\n",
    "            #print(encoded[a:i],d[encoded[a:i]])\n",
    "            #print(s)\n",
    "            #s[a:i] = d[encoded[a:i]]\n",
    "            s = s.replace(encoded[a:i],d[encoded[a:i]],1)\n",
    "            a = i\n",
    "    #print(encoded[a:i])\n",
    "    print(s)\n",
    "codes = ['a\\t1234','b\\t4567','[newline]\\t546','d\\t90']\n",
    "encoded = '12349054645674567546123490'\n",
    "codes1 = ['a\\t100100','b\\t100101','c\\t110001','d\\t100000','[newline]\\t111111','p\\t111110','q\\t000001']\n",
    "encoded1 = '111110000001100100111111100101110001111110'\n",
    "#codes=['' '\\t' ]\n",
    "#print(len(encoded1))\n",
    "decode(codes1,encoded1)"
   ]
  },
  {
   "cell_type": "code",
   "execution_count": 150,
   "metadata": {},
   "outputs": [
    {
     "data": {
      "text/plain": [
       "'0004908'"
      ]
     },
     "execution_count": 150,
     "metadata": {},
     "output_type": "execute_result"
    }
   ],
   "source": [
    "#codes1 = ['[newline]\\t000010', '(\\t000011', ')\\t000100', '3\\t000101', ':\\t000110', 'G\\t000111', 'K\\t001000', 'U\\t001001', '[\\t001010', ']\\t001011', 'x\\t001100', '4\\t001101', '7\\t001110', 'D\\t001111', 'F\\t010000', 'J\\t010001', 'R\\t010010', '8\\t010011', 'O\\t010100', 'k\\t010101', '5\\t010110', '6\\t010111', 'B\\t011000', 'M\\t011001', 'N\\t011010', 'T\\t011011', 'W\\t011100', \"'\\t011101\", '0\\t011110', '9\\t011111', 'C\\t100000', '-\\t100001', '2\\t100010', 'P\\t100011', 'E\\t100100', '1\\t100101', 'I\\t100110', 'A\\t100111', 'b\\t101000', '.\\t101001', 'w\\t101010', 'v\\t101011', 'S\\t101100', ',\\t101101', 'y\\t101110', 'u\\t101111', 'g\\t110000', 'f\\t110001', 'm\\t110010', 'c\\t110011', 'p\\t110100', 'd\\t110101', 'h\\t110110', 'l\\t110111', 's\\t111000', 'r\\t111001', 'o\\t111010', 'a\\t111011', 't\\t111100', 'n\\t111101', 'i\\t111110', 'e\\t111111', ' \\t00000']\n",
    "s = \"1234908\"\n",
    "s.replace('123','000')s\n",
    "#encoded1 = '10001111101111100111110000000111010110001000001010111110111110011111101110101011111110000000011011111101011001111101111011100000111111110010110100111110111001111111111000000001110001111101111011100111111110000010100011111111111011110111000000000111000111111111100111100110111111111110101000001111101111010000011110011011011111100000111000111111110011111010111101110101000001100111111111111011111001011111110011011100000010011100111110110100000110010111010110101111111111001111101000001011001111101111011100001110111101001110101110011111110000010101011101111100000000110001111010101111111101110101111111110101000001111101111010000010010101001110010101111100000101000101110000001011001111101110010000010110011110011101111001011000111101011100111010100000010010111011110001110001110111111111111000000001110111110000000011101100000111100111001111011110101111110111101110000000001101001110101110001111000000011101011000100000111100110110111111000001001001110111110001111000000010011011110111010111111011101100000100000111010110010110100111011111101101110000001010101111101111001101100000011110011011011111100000110100111111111001110010111110111000111000111110111010111101000001110101100010000011110011011011111100000010001111010110110111010111001000001011001011111101111111001110111111011110111111001111111010010000001101111011011111100000011000111001111110111100111110111000110110000001110101010001111001110111111101111011111111101010000011100011101010101111111111100111111111111011000011110111110010111000000111010101011111111111001000001111001101101111110000011111011100011011111101111110111010100000111110111101000001001010100111000100011011011010000011101111110111010100000101100111110111101110000111011110100111010111001111111000001010001111111100111110111100101111110000011101011110111111100000111010110001000001111001101101111110000001100011100111111011110011111011100011011000000101100111100111001111011111110111100111000000001011001111111111001111001101111111111100101111111111011111001110000000011111011110100000100101010011100010010111101001000000101001100111100111011111101001111101111111101010000010100010111000000111100110110111111000000100011110111101001110111111011111111110001111110000011010110111111100111111011110111000000000011100111010111001110111110101000000111001110111110010000010011010011010110100000101100111110111101110000111011110100111010111001111111000001101011111111100111101111110111110011111111101010000011111011110111010111111111010011111111110111010111111111110111001111111100000110001111001111010110010000001111001101101111110000000100111110111111011110011111111010100000001000111110111101110000110101111010110010000001111101111010000010010101111101011100010100000111011111101110101000001011111111011111101111001111111101010000010101011111011110011011000000111010111100110110111111111001000001100011110101110011100101111111110010000001100011100111111011110011111011100011011000000111100111111111001111001111110111100111010111001111110111111111000000001111001110100000011000111101011100111001000000011001111011110111111011101110111000111110111011101101000001100011110011110101100100000010101011011011111011001111011000000111110111100000001101011111111101001110111110011111001111111101010000011110010101011101000000101110111111111011111001111000000001101111110111111001111111110011010010000010110011111011110111001111111100000111100110110111111111101101101000001111101111000000011011011101111100000000110101111111101011111111110111111010110100111111110101000001110011110111101001111101101011101111011101011010000011111111101111100111110111111011110111000000000111001111111110011111010110000111101111110111100111110111010111101000001110111110000000011101011110111111100000111010110001000000100001110101011111110010000010011111100011111011101111110100000011011111110110000111111111001111000101001000001011001111101111011100001110111101001110101110011111110000011111011100000000111010111101111111000001110101100010000011110011011011111100000101010111010111001110111110101011101111000000001101111111111110111101011111101111011100000000011001111101011001011001011111111100111001111111011101111011100000110110101111101000111000101101000001010101111101111001101100000011110011011011111100000110001111010101111111001111100110110100001101000111110110000110000111111111000111100000001100011111101111011110111111011100111111101110111101110000011001111111111110111110011100111111100000111011111101110101000001110101111011111110000011101011000100000111100110110111111000001100011111101010111111110000010100010111111100011111011111111100011110000000110100111010111001111100111000101001000001001101111001110000000011000011011111101010100011101111011111111011100011111111010100000111011111101110101000001101011111101010111111111110011110001111101100011111101111111101010000011111111001111101011110111101011001010111000000110101111111110100111111111101110101111000000001101101111111110111010111111101101111011100000011101011110100000111100111001111011110101111111101101000001111111110001101001111111100111111101110111101111101111011100000011111011110100000110010111011111101101111110001111011110011111100101111111001111110111101110000101101000001010101101101111101100111101100000011001111101011110111100011110011111011110010111111110011111111010100000100010010111000001101001111111110011100111111111111011111000000011101011000100000101100111110111101110000111011110100111010111001111111011101111000000000001110011111000110000011111011110100000100010011110011110010110101001000001001101111010000011110011111111100111001011100000000111010110001000001101001011111110011100111101101110111110001111101111011100000000011010011101010101011111111100100000110100111011111001111110111100101110101101000001011001111101111011100001110111101001110101110011111110000011011011101111100000000111100110110111111000001111001101101111101110011101011000011101101111101100001101101111111110001111000000011010011111111100100000110011111011110100111110111100111011000001111101111011100111110101100101111110000011111011110100000111100110110111111000001010101110101110011101111101011010010000010011011110000000111001111011111101010101111000000001101101111101100001101100000011111011110100000111110111101111100111111111001111101111011111100111110111010111101111011110111000001110011110111111010101011111101111011100001110000000011101011000100000111111110101101111110011111011111100111110111010111101101101000001101101111111110111101111111001101101100111110111110011111111011010000011000011101010101111111111100111110111001011111111110111110000000111100111001111011111101111000110100111011111001111111111101110011101110101101000001110111111011101010000011111111001111101011110111101011001011111011001100000110011111010110010110100111111111100111110111100111110101011111111111101111111111000111000101001000001011001111101111011100001110111101001110101110011111110000011111011100000000111101111010110010111110111101111011110111110111101110000001110110000010111111110111111011110011101111100110111000000110010101111110111111100111110110100111011111001111100101110000001101001110111110011101111111101110111100101111111111011111001110111110011011100000011100111111111010010111110100011011111111011001100000101010111110111100110110000001110110000001110011111111100011110011001011111011110111100011110011111111100100000111000101110111000111100111111110010000001110101100010000010111111110111111011001111101111001011111111100111101111011100000110100111011111001110111111110111011110010111111111101111100111011111001101110000001100001110101010111111111110011111011100101111111111011111001011010000010100010111111110000000111100110110111111000001000111111111110101101001101111111110111011110000000010011111001111110011111011101011110100000100011111011111001111100101110000001101101110111110000000010101011101011110100000111111101011111111111001101110000001111111101111111111100111111001111101110101111010000011100011111011110111001111111100000111000111111110111110001100001110000111010101011111111111001111101110010111111111101111100000001111101111010000010010101111101011001111110100100000011010111010000001111111101111111111100111111001111101110101111010000011011011101111100000000111111101011111111111001000001110011111111110001011111101111111001111111101010000011111011110100000111011000001101011111111100101110101100111110011110111111001111101100110000011011011101111110111010111101010101111111111100100000111010110001000001101001110101010101111111110011010010000001001011111111010011101011100111110011111111100111100000000011100111110111100110110111010101111111100000000110001110101110011101011111111110011110000000011100111101111110101010111111111010100000101100111110111101110000111011110100111010111001111111000001001010011010111101111001101100000011101010111111110000000111010110001000001001010101110011100000011001111101010111111110111110011100111111011111111100000000111110111101000001111101111001110000000010001001111001111001011000000100011111001111111111000111000000000100001110011111111111111101011110101100100000010011011110111010111111100110010100100101001111100101100000010100110100110100111010111000111110111100111110111010111101000001101111111111110111101011111111110011110000000011001111101011110111100011111011010111111111100100000101100111110111101110000111011110100111010111001111111000001110110000011101011110111111110000111010011101111100111110010111000000111000111100111011111100111111101001000001011001101111'"
   ]
  },
  {
   "cell_type": "code",
   "execution_count": 213,
   "metadata": {},
   "outputs": [
    {
     "name": "stdout",
     "output_type": "stream",
     "text": [
      "1\n",
      "[2]\n",
      "2\n",
      "[2, 19]\n",
      "5\n",
      "[2, 10, 19]\n",
      "6\n",
      "[1, 2, 10, 19]\n",
      "11\n",
      "[1, 2, 6, 10, 19]\n",
      "14\n",
      "[1, 2, 6, 10, 13, 19]\n",
      "19\n",
      "[1, 2, 6, 6, 10, 13, 19]\n",
      "24\n",
      "[1, 2, 6, 6, 6, 10, 13, 19]\n",
      "27\n",
      "[1, 2, 6, 6, 6, 10, 13, 15, 19]\n",
      "34\n",
      "[1, 2, 6, 6, 6, 10, 12, 13, 15, 19]\n",
      "34\n"
     ]
    }
   ],
   "source": [
    "def minimumOperations(numbers):\n",
    "    # Write your code here\n",
    "    l1 = [790, 851, 728, 113, 844, 982, 769, 372, 165, 663, 734, 879, 652, 574, 848, 717, 593, 508, 124, 496, 858, 1, 793, 32, 474, 617, 817, 562, 612, 515, 783, 844, 792, 938, 757, 537, 726, 419, 957, 507, 609, 879, 867, 206, 823, 441, 627, 722, 375, 786, 623, 267, 889, 860, 192, 190, 121, 848, 703, 829, 130, 144, 322, 329, 999, 796, 786, 716, 509, 512, 689, 322, 667, 151, 581, 643, 866, 986, 143, 821, 633, 719, 648, 396, 502, 980, 750, 610, 824, 533, 986, 871, 196, 503, 518, 291, 934, 563, 526, 986, 995, 713, 689, 654, 950, 910, 603, 379, 883, 816, 852, 799, 789, 194, 758, 590, 555, 990, 867, 4, 823, 998, 356, 300, 556, 716, 956, 940, 877, 559, 890, 633, 946, 249, 758, 316, 830, 746, 639, 830, 710, 597, 561, 910, 829, 565, 857, 211, 559, 607, 416, 382, 592, 600, 832, 49, 462, 471, 793, 714, 570, 194, 61, 976, 67, 333, 557, 907, 609, 628, 930, 976, 558, 366, 784, 349, 666, 773, 149, 656, 578, 49, 720, 284, 820, 9, 954, 894, 666, 856, 279, 796, 611, 167, 563, 982, 904, 770, 963, 953, 961, 771, 706, 665, 985, 814, 834, 489, 65, 580, 730, 109, 704, 466, 69, 687, 218, 551, 621, 986, 215, 543, 386, 753, 674, 798, 264, 491, 803, 130, 733, 886, 889, 763, 900, 608, 787, 452, 753, 999, 763, 577, 961, 736, 431, 750, 911, 767, 565, 801, 517, 585, 800, 732, 706, 725, 131, 613, 662, 475, 575, 671, 867, 530, 961, 889, 109, 775, 743, 584, 75, 910, 357, 733, 312, 259, 959, 925, 921, 502, 531, 477, 611, 542, 873, 541, 682, 856, 720, 135, 485, 444, 606, 366, 902, 647, 979, 690, 611, 936, 404, 831, 920, 826, 767, 723, 1000, 432, 693, 464, 507, 237, 765, 567, 935, 605, 972, 485, 285, 777, 520, 704, 739, 873, 495, 766, 517, 692, 412, 476, 239, 956, 684, 294, 919, 927, 151, 706, 662, 544, 823, 330, 589, 419, 517, 988, 513, 992, 964, 996, 982, 238, 799, 975, 598, 822, 575, 169, 469, 736, 185, 360, 238, 582, 521, 758, 745, 611, 846, 998, 206, 384, 961, 590, 491, 441, 795, 975, 895, 582, 626, 920, 658, 908, 863, 355, 313, 885, 493, 543, 547, 9, 796, 796, 973, 853, 710, 963, 358, 375, 249, 409, 22, 665, 723, 497, 528, 192, 196, 507, 779, 369, 632, 602, 611, 364, 521, 867, 950, 614, 732, 690, 523, 824, 697, 934, 482, 471, 715, 439, 523, 703, 73, 350, 840, 637, 734, 825, 869, 996, 725, 787, 469, 233, 801, 683, 325, 607, 325, 770, 525, 853, 726, 136, 175, 906, 933, 242, 681, 684, 497, 798, 288, 69, 660, 975, 911, 429, 750, 136, 950, 609, 223, 956, 738, 731, 753, 255, 369, 932, 802, 273, 726, 126, 656, 536, 957, 988, 705, 527, 830, 334, 781, 821, 411, 794, 158, 685, 523, 80]\n",
    "    l2 = [982, 405, 517, 442, 416, 869, 622, 809, 992, 410, 532, 987, 595, 336, 590, 42, 972, 656, 690, 533, 670, 966, 634, 758, 655, 894, 328, 118, 877, 772, 509, 393, 644, 292, 947, 580, 643, 51, 137, 648, 340, 901, 914, 869, 802, 502, 732, 784, 972, 957, 173, 325, 576, 205, 41, 437, 833, 788, 911, 528, 542, 762, 809, 61, 783, 944, 159, 77, 904, 594, 833, 620, 948, 461, 428, 76, 957, 872, 90, 545, 869, 32, 959, 958, 828, 596, 742, 571, 870, 786, 298, 530, 664, 386, 424, 291, 90, 530, 847, 708, 778, 317, 767, 701, 867, 562, 580, 219, 988, 508, 647, 930, 716, 642, 92, 729, 8, 466, 481, 796, 410, 579, 349, 380, 138, 828, 646, 445, 51, 260, 857, 614, 954, 271, 775, 965, 808, 931, 211, 673, 165, 508, 505, 642, 634, 865, 958, 740, 823, 557, 598, 783, 812, 227, 618, 731, 823, 539, 234, 245, 741, 731, 886, 849, 611, 552, 674, 861, 318, 538, 831, 150, 749, 974, 471, 435, 246, 817, 543, 756, 488, 864, 396, 724, 981, 589, 378, 396, 492, 628, 938, 961, 803, 366, 944, 501, 190, 746, 493, 771, 444, 259, 612, 761, 998, 904, 332, 16, 642, 425, 840, 90, 620, 638, 546, 511, 514, 51, 953, 65, 902, 163, 703, 674, 602, 166, 690, 987, 585, 512, 459, 896, 278, 218, 666, 795, 82, 239, 41, 983, 683, 629, 653, 683, 734, 863, 711, 141, 905, 702, 491, 39, 447, 27, 960, 694, 778, 514, 932, 662, 631, 926, 466, 313, 460, 751, 890, 772, 594, 178, 217, 695, 566, 998, 646, 910, 930, 612, 561, 893, 697, 514, 525, 636, 497, 476, 434, 564, 390, 995, 713, 731, 732, 601, 893, 795, 124, 668, 842, 336, 744, 16, 552, 677, 390, 405, 491, 134, 77, 192, 587, 617, 935, 264, 8, 181, 263, 754, 932, 737, 848, 688, 858, 961, 490, 362, 54, 382, 677, 881, 96, 587, 780, 765, 518, 789, 806, 130, 478, 657, 533, 802, 576, 561, 814, 180, 149, 528, 928, 612, 540, 550, 870, 757, 813, 707, 845, 493, 3, 914, 790, 573, 506, 23, 83, 490, 408, 521, 994, 960, 684, 644, 921, 468, 541, 395, 175, 741, 656, 702, 27, 42, 149, 735, 509, 526, 606, 968, 856, 820, 154, 974, 614, 379, 519, 254, 165, 542, 517, 328, 964, 245, 265, 138, 589, 713, 715, 866, 894, 198, 136, 907, 937, 754, 973, 981, 390, 752, 189, 847, 158, 555, 473, 200, 828, 792, 51, 414, 341, 469, 225, 801, 851, 120, 893, 203, 957, 849, 662, 820, 109, 966, 810, 781, 590, 568, 45, 573, 98, 291, 27, 693, 481, 918, 15, 523, 849, 745, 632, 855, 986, 769, 786, 817, 719, 108, 639, 969, 982, 545, 386, 597, 550, 193, 614, 651, 438, 176, 508, 619, 774, 967, 566, 204, 814, 262, 278, 895, 633, 501, 465, 593, 819, 159, 807, 266, 780, 14, 950, 193, 473, 693, 459, 706, 29, 1, 606, 687, 634, 999, 883, 767, 813, 463, 315, 772, 461, 891, 544, 463, 40, 953, 682, 829, 862, 756, 250, 906, 389, 429, 540, 672, 207, 846, 906, 486, 532, 158, 932, 776, 41, 536, 153, 811, 842, 721, 435, 635, 281, 588, 474, 810, 974, 657, 383, 281, 958, 987, 916, 810, 132, 886, 669, 625, 749, 971, 888, 407, 944, 511, 180, 648, 930, 334, 670, 602, 283, 960, 118, 524, 790, 670, 401, 353, 550, 745, 744, 12, 134, 518, 775, 164, 601, 243, 221, 50, 932, 353, 809, 895, 474, 860, 444, 347, 575, 11, 516, 864, 984, 335, 975, 892, 852, 213, 720, 518, 622, 67, 331, 271, 440, 487, 308, 388, 945, 257, 459, 198, 874, 494, 890, 528, 753, 204, 968, 846, 754, 600, 811, 830, 693, 920, 611, 373, 214, 817, 746, 331, 773, 193, 360, 261, 625, 827, 899, 938, 680, 635, 586, 768, 210, 752, 43, 743, 318, 173, 172, 347, 800, 655, 995, 782, 379, 114, 271, 503, 811, 534, 536, 930, 649, 742, 675, 324, 592, 665, 962, 506, 856, 679, 691, 350, 932, 477, 243, 963, 522, 893, 704, 665, 983, 628, 523, 847, 37, 779, 153, 785, 694, 159, 677, 130, 106, 635, 837, 506, 630, 387, 762, 778, 628, 255, 48, 322, 132, 908, 59, 803, 716, 827, 738, 237, 960, 513, 976, 830, 425, 679, 642, 258, 943, 237, 973, 916, 177, 286, 274, 292, 497, 501, 568, 306, 798, 776, 475, 515, 145, 242, 691, 997, 747, 521, 468, 847, 569, 419, 672, 339, 741, 909, 916, 634, 432, 557, 729, 109, 46, 789, 979, 896, 978, 677, 650, 866, 219, 728, 691, 248, 332, 618, 552, 791, 724, 929, 500, 110, 949, 581, 139, 13, 967, 609, 330, 90, 803, 94, 208, 930, 582, 213, 929, 976, 942, 969, 749, 254, 901, 234, 894, 870, 655, 797, 838, 606, 585, 84, 317, 637, 18, 677, 161, 944, 246, 907, 633, 389, 290, 378, 868, 191, 546, 960, 243, 814, 254, 694, 903, 924, 939, 805, 846, 327, 537, 884, 809, 89, 292, 486, 652, 146, 339, 820, 560, 918, 339, 181, 271, 44, 814, 807, 720, 723, 494, 529, 899, 415, 689, 765, 512, 740, 898, 47, 72, 918, 819, 643, 449, 789, 890, 951, 363, 328, 923, 247, 731, 505, 197, 637, 451, 252, 525, 665, 209, 986, 518, 15, 476, 5, 794, 932, 87, 432, 917, 887, 460, 866, 821, 755, 731, 758, 670, 836, 943, 750, 157, 753, 611, 515, 681, 506, 804, 144, 272, 715, 242, 102, 441, 523, 1, 842, 948, 802, 739, 578, 406, 677, 270, 879, 666, 724, 558, 221, 794, 586, 843, 266, 769, 308, 347, 921, 750, 927, 93, 797, 219, 574, 430, 669, 944, 297, 930, 568, 282, 945, 820, 707, 956, 514, 677, 643, 577, 762, 838, 586, 932, 456, 847, 466, 535, 964, 181, 918, 488, 645, 990, 292, 229, 995, 484, 862]\n",
    "    \n",
    "    final=[]\n",
    "    leftLength = 0\n",
    "    rightLength = 0\n",
    "    operations=0\n",
    "    pos = 0\n",
    "    check1 = 0\n",
    "    check2 = 0\n",
    "    sett1 = 0\n",
    "    sett2 = 0\n",
    "    for i in range(0,len(numbers)):\n",
    "        #print(final)\n",
    "        if(len(final)==0):\n",
    "            final.append(numbers[i])\n",
    "            operations = operations+1\n",
    "        else:\n",
    "            if(numbers[i]>=final[len(final)-1]):\n",
    "                pos = len(final)\n",
    "            elif(numbers[i]<=final[0]):\n",
    "                pos = 0\n",
    "            else:\n",
    "                sett1 = 0\n",
    "                sett2 = 0\n",
    "                for j in range(1,len(final)-1):\n",
    "                    if(numbers[i]==final[j] and sett2==0):\n",
    "                        #print(numbers[i])\n",
    "                        #print(\"j\",j)\n",
    "                        check2 = j\n",
    "                        sett2 = 1\n",
    "                        #pos = j\n",
    "                        #break\n",
    "                    if(numbers[i]<final[j]):\n",
    "                        check1 = j\n",
    "                        sett1 = 1\n",
    "                        pos = j\n",
    "                        break\n",
    "                    else:\n",
    "                        pos = j+1\n",
    "                if(sett1==1 and sett2==1):\n",
    "                    pos = min(min(len(final)-check1,check1),min(len(final)-check2,check2))\n",
    "            #pos = j\n",
    "            #print(\"pos\",j)\n",
    "            #print(pos)\n",
    "            if(pos==0):\n",
    "                operations = operations+1\n",
    "                dump = final[0:]\n",
    "                final = []\n",
    "                #print(\"dump\",dump)\n",
    "                final.append(numbers[i])\n",
    "                final = final + dump\n",
    "                #print(final)\n",
    "            elif(pos==len(final)):\n",
    "                operations = operations+1\n",
    "                final.append(numbers[i])\n",
    "                #print(final)\n",
    "            else:\n",
    "                leftLength = pos\n",
    "                rightLength = len(final)-pos\n",
    "                if(rightLength>=leftLength):\n",
    "                    #print(\"inside\")\n",
    "                    dump = final[0:pos]\n",
    "                    dump1 = final[pos:]\n",
    "                    final = []\n",
    "                    final = dump\n",
    "                    final.append(numbers[i])\n",
    "                    final = final + dump1\n",
    "                    #print(final)\n",
    "                    operations = operations+(2*leftLength)+1 \n",
    "                elif(rightLength<leftLength):\n",
    "                    #print(\"here\")\n",
    "                    dump = final[0:pos]\n",
    "                    dump1 = final[pos:]\n",
    "                    final = []\n",
    "                    final = dump\n",
    "                    final.append(numbers[i])\n",
    "                    final = final + dump1\n",
    "                    #print(final)\n",
    "                    operations = operations+(2*rightLength)+1\n",
    "        print(operations)\n",
    "        print(final)\n",
    "    #print(final)\n",
    "    return operations          \n",
    "                \n",
    "numbers = [10, 6, 2, 3, 7, 1, 2]\n",
    "numbers1 = [2,19,10,1,6,13,6,6,15,12]\n",
    "numbers2 = [9,8,4,9,28,21,24,18,29,25,9,3,19,5,3]\n",
    "print(minimumOperations(numbers1))"
   ]
  },
  {
   "cell_type": "code",
   "execution_count": 114,
   "metadata": {},
   "outputs": [
    {
     "name": "stdout",
     "output_type": "stream",
     "text": [
      "[1, 5, 6, 7, 34]\n"
     ]
    }
   ],
   "source": [
    "a = [1,5,6,7]\n",
    "b=[2,3,4]\n",
    "x= []\n",
    "x = a\n",
    "b = b+a\n",
    "x.append(34)\n",
    "print(x)"
   ]
  },
  {
   "cell_type": "code",
   "execution_count": 116,
   "metadata": {},
   "outputs": [
    {
     "name": "stdout",
     "output_type": "stream",
     "text": [
      "0\n",
      "1\n",
      "2\n",
      "3\n",
      "3\n"
     ]
    }
   ],
   "source": [
    "for i in range(0,4):\n",
    "    print(i)\n",
    "print(i)"
   ]
  },
  {
   "cell_type": "code",
   "execution_count": 221,
   "metadata": {},
   "outputs": [
    {
     "name": "stdout",
     "output_type": "stream",
     "text": [
      "[1000, 982, 405, 517, 442, 416, 869, 622, 809, 992, 410, 532, 987, 595, 336, 590, 42, 972, 656, 690, 533, 670, 966, 634, 758, 655, 894, 328, 118, 877, 772, 509, 393, 644, 292, 947, 580, 643, 51, 137, 648, 340, 901, 914, 869, 802, 502, 732, 784, 972, 957, 173, 325, 576, 205, 41, 437, 833, 788, 911, 528, 542, 762, 809, 61, 783, 944, 159, 77, 904, 594, 833, 620, 948, 461, 428, 76, 957, 872, 90, 545, 869, 32, 959, 958, 828, 596, 742, 571, 870, 786, 298, 530, 664, 386, 424, 291, 90, 530, 847, 708, 778, 317, 767, 701, 867, 562, 580, 219, 988, 508, 647, 930, 716, 642, 92, 729, 8, 466, 481, 796, 410, 579, 349, 380, 138, 828, 646, 445, 51, 260, 857, 614, 954, 271, 775, 965, 808, 931, 211, 673, 165, 508, 505, 642, 634, 865, 958, 740, 823, 557, 598, 783, 812, 227, 618, 731, 823, 539, 234, 245, 741, 731, 886, 849, 611, 552, 674, 861, 318, 538, 831, 150, 749, 974, 471, 435, 246, 817, 543, 756, 488, 864, 396, 724, 981, 589, 378, 396, 492, 628, 938, 961, 803, 366, 944, 501, 190, 746, 493, 771, 444, 259, 612, 761, 998, 904, 332, 16, 642, 425, 840, 90, 620, 638, 546, 511, 514, 51, 953, 65, 902, 163, 703, 674, 602, 166, 690, 987, 585, 512, 459, 896, 278, 218, 666, 795, 82, 239, 41, 983, 683, 629, 653, 683, 734, 863, 711, 141, 905, 702, 491, 39, 447, 27, 960, 694, 778, 514, 932, 662, 631, 926, 466, 313, 460, 751, 890, 772, 594, 178, 217, 695, 566, 998, 646, 910, 930, 612, 561, 893, 697, 514, 525, 636, 497, 476, 434, 564, 390, 995, 713, 731, 732, 601, 893, 795, 124, 668, 842, 336, 744, 16, 552, 677, 390, 405, 491, 134, 77, 192, 587, 617, 935, 264, 8, 181, 263, 754, 932, 737, 848, 688, 858, 961, 490, 362, 54, 382, 677, 881, 96, 587, 780, 765, 518, 789, 806, 130, 478, 657, 533, 802, 576, 561, 814, 180, 149, 528, 928, 612, 540, 550, 870, 757, 813, 707, 845, 493, 3, 914, 790, 573, 506, 23, 83, 490, 408, 521, 994, 960, 684, 644, 921, 468, 541, 395, 175, 741, 656, 702, 27, 42, 149, 735, 509, 526, 606, 968, 856, 820, 154, 974, 614, 379, 519, 254, 165, 542, 517, 328, 964, 245, 265, 138, 589, 713, 715, 866, 894, 198, 136, 907, 937, 754, 973, 981, 390, 752, 189, 847, 158, 555, 473, 200, 828, 792, 51, 414, 341, 469, 225, 801, 851, 120, 893, 203, 957, 849, 662, 820, 109, 966, 810, 781, 590, 568, 45, 573, 98, 291, 27, 693, 481, 918, 15, 523, 849, 745, 632, 855, 986, 769, 786, 817, 719, 108, 639, 969, 982, 545, 386, 597, 550, 193, 614, 651, 438, 176, 508, 619, 774, 967, 566, 204, 814, 262, 278, 895, 633, 501, 465, 593, 819, 159, 807, 266, 780, 14, 950, 193, 473, 693, 459, 706, 29, 1, 606, 687, 634, 999, 883, 767, 813, 463, 315, 772, 461, 891, 544, 463, 40, 953, 682, 829, 862, 756, 250, 906, 389, 429, 540, 672, 207, 846, 906, 486, 532, 158, 932, 776, 41, 536, 153, 811, 842, 721, 435, 635, 281, 588, 474, 810, 974, 657, 383, 281, 958, 987, 916, 810, 132, 886, 669, 625, 749, 971, 888, 407, 944, 511, 180, 648, 930, 334, 670, 602, 283, 960, 118, 524, 790, 670, 401, 353, 550, 745, 744, 12, 134, 518, 775, 164, 601, 243, 221, 50, 932, 353, 809, 895, 474, 860, 444, 347, 575, 11, 516, 864, 984, 335, 975, 892, 852, 213, 720, 518, 622, 67, 331, 271, 440, 487, 308, 388, 945, 257, 459, 198, 874, 494, 890, 528, 753, 204, 968, 846, 754, 600, 811, 830, 693, 920, 611, 373, 214, 817, 746, 331, 773, 193, 360, 261, 625, 827, 899, 938, 680, 635, 586, 768, 210, 752, 43, 743, 318, 173, 172, 347, 800, 655, 995, 782, 379, 114, 271, 503, 811, 534, 536, 930, 649, 742, 675, 324, 592, 665, 962, 506, 856, 679, 691, 350, 932, 477, 243, 963, 522, 893, 704, 665, 983, 628, 523, 847, 37, 779, 153, 785, 694, 159, 677, 130, 106, 635, 837, 506, 630, 387, 762, 778, 628, 255, 48, 322, 132, 908, 59, 803, 716, 827, 738, 237, 960, 513, 976, 830, 425, 679, 642, 258, 943, 237, 973, 916, 177, 286, 274, 292, 497, 501, 568, 306, 798, 776, 475, 515, 145, 242, 691, 997, 747, 521, 468, 847, 569, 419, 672, 339, 741, 909, 916, 634, 432, 557, 729, 109, 46, 789, 979, 896, 978, 677, 650, 866, 219, 728, 691, 248, 332, 618, 552, 791, 724, 929, 500, 110, 949, 581, 139, 13, 967, 609, 330, 90, 803, 94, 208, 930, 582, 213, 929, 976, 942, 969, 749, 254, 901, 234, 894, 870, 655, 797, 838, 606, 585, 84, 317, 637, 18, 677, 161, 944, 246, 907, 633, 389, 290, 378, 868, 191, 546, 960, 243, 814, 254, 694, 903, 924, 939, 805, 846, 327, 537, 884, 809, 89, 292, 486, 652, 146, 339, 820, 560, 918, 339, 181, 271, 44, 814, 807, 720, 723, 494, 529, 899, 415, 689, 765, 512, 740, 898, 47, 72, 918, 819, 643, 449, 789, 890, 951, 363, 328, 923, 247, 731, 505, 197, 637, 451, 252, 525, 665, 209, 986, 518, 15, 476, 5, 794, 932, 87, 432, 917, 887, 460, 866, 821, 755, 731, 758, 670, 836, 943, 750, 157, 753, 611, 515, 681, 506, 804, 144, 272, 715, 242, 102, 441, 523, 1, 842, 948, 802, 739, 578, 406, 677, 270, 879, 666, 724, 558, 221, 794, 586, 843, 266, 769, 308, 347, 921, 750, 927, 93, 797, 219, 574, 430, 669, 944, 297, 930, 568, 282, 945, 820, 707, 956, 514, 677, 643, 577, 762, 838, 586, 932, 456, 847, 466, 535, 964, 181, 918, 488, 645, 990, 292, 229, 995, 484, 862]\n"
     ]
    }
   ],
   "source": [
    "myfile = open('/home/rocky/Downloads/input004.txt');\n",
    "myfile.seek(0)\n",
    "l = list(myfile.read().split('\\n'))\n",
    "for i in range(len(l)):\n",
    "    l[i] = int(l[i])\n",
    "print(l)"
   ]
  },
  {
   "cell_type": "code",
   "execution_count": 238,
   "metadata": {},
   "outputs": [
    {
     "data": {
      "text/plain": [
       "5"
      ]
     },
     "execution_count": 238,
     "metadata": {},
     "output_type": "execute_result"
    }
   ],
   "source": [
    "d = {'name1':['iash','raj'],'book':'kites'}\n",
    "d.get('name',5)"
   ]
  },
  {
   "cell_type": "code",
   "execution_count": 239,
   "metadata": {},
   "outputs": [
    {
     "ename": "TypeError",
     "evalue": "'int' object is not iterable",
     "output_type": "error",
     "traceback": [
      "\u001b[0;31m---------------------------------------------------------------------------\u001b[0m",
      "\u001b[0;31mTypeError\u001b[0m                                 Traceback (most recent call last)",
      "\u001b[0;32m<ipython-input-239-8ad321547689>\u001b[0m in \u001b[0;36m<module>\u001b[0;34m\u001b[0m\n\u001b[1;32m      6\u001b[0m     \u001b[0;32mreturn\u001b[0m \u001b[0mmax\u001b[0m\u001b[0;34m(\u001b[0m\u001b[0mdp\u001b[0m\u001b[0;34m.\u001b[0m\u001b[0mvalues\u001b[0m\u001b[0;34m(\u001b[0m\u001b[0;34m)\u001b[0m\u001b[0;34m)\u001b[0m\u001b[0;34m\u001b[0m\u001b[0;34m\u001b[0m\u001b[0m\n\u001b[1;32m      7\u001b[0m \u001b[0mwords\u001b[0m \u001b[0;34m=\u001b[0m \u001b[0;34m[\u001b[0m\u001b[0;34m'a'\u001b[0m\u001b[0;34m,\u001b[0m\u001b[0;34m'b'\u001b[0m\u001b[0;34m,\u001b[0m\u001b[0;34m'ba'\u001b[0m\u001b[0;34m,\u001b[0m\u001b[0;34m'bca'\u001b[0m\u001b[0;34m,\u001b[0m\u001b[0;34m'bda'\u001b[0m\u001b[0;34m,\u001b[0m\u001b[0;34m'bdca'\u001b[0m\u001b[0;34m]\u001b[0m\u001b[0;34m\u001b[0m\u001b[0;34m\u001b[0m\u001b[0m\n\u001b[0;32m----> 8\u001b[0;31m \u001b[0mprint\u001b[0m\u001b[0;34m(\u001b[0m\u001b[0mlongestStrChain\u001b[0m\u001b[0;34m(\u001b[0m\u001b[0mwords\u001b[0m\u001b[0;34m)\u001b[0m\u001b[0;34m)\u001b[0m\u001b[0;34m\u001b[0m\u001b[0;34m\u001b[0m\u001b[0m\n\u001b[0m",
      "\u001b[0;32m<ipython-input-239-8ad321547689>\u001b[0m in \u001b[0;36mlongestStrChain\u001b[0;34m(words)\u001b[0m\n\u001b[1;32m      3\u001b[0m     \u001b[0;32mfor\u001b[0m \u001b[0mw\u001b[0m \u001b[0;32min\u001b[0m \u001b[0msorted\u001b[0m\u001b[0;34m(\u001b[0m\u001b[0mwords\u001b[0m\u001b[0;34m,\u001b[0m \u001b[0mkey\u001b[0m\u001b[0;34m=\u001b[0m\u001b[0mlen\u001b[0m\u001b[0;34m)\u001b[0m\u001b[0;34m:\u001b[0m\u001b[0;34m\u001b[0m\u001b[0;34m\u001b[0m\u001b[0m\n\u001b[1;32m      4\u001b[0m         \u001b[0;32mfor\u001b[0m \u001b[0mi\u001b[0m \u001b[0;32min\u001b[0m \u001b[0mrange\u001b[0m\u001b[0;34m(\u001b[0m\u001b[0mlen\u001b[0m\u001b[0;34m(\u001b[0m\u001b[0mw\u001b[0m\u001b[0;34m)\u001b[0m\u001b[0;34m)\u001b[0m\u001b[0;34m:\u001b[0m\u001b[0;34m\u001b[0m\u001b[0;34m\u001b[0m\u001b[0m\n\u001b[0;32m----> 5\u001b[0;31m             \u001b[0mdp\u001b[0m\u001b[0;34m[\u001b[0m\u001b[0mw\u001b[0m\u001b[0;34m]\u001b[0m \u001b[0;34m=\u001b[0m \u001b[0mmax\u001b[0m\u001b[0;34m(\u001b[0m\u001b[0mdp\u001b[0m\u001b[0;34m.\u001b[0m\u001b[0mget\u001b[0m\u001b[0;34m(\u001b[0m\u001b[0mw\u001b[0m\u001b[0;34m[\u001b[0m\u001b[0;34m:\u001b[0m\u001b[0mi\u001b[0m\u001b[0;34m]\u001b[0m \u001b[0;34m+\u001b[0m \u001b[0mw\u001b[0m\u001b[0;34m[\u001b[0m\u001b[0mi\u001b[0m \u001b[0;34m+\u001b[0m \u001b[0;36m1\u001b[0m\u001b[0;34m:\u001b[0m\u001b[0;34m]\u001b[0m\u001b[0;34m,\u001b[0m\u001b[0;36m0\u001b[0m\u001b[0;34m)\u001b[0m \u001b[0;34m+\u001b[0m \u001b[0;36m1\u001b[0m\u001b[0;34m)\u001b[0m\u001b[0;34m\u001b[0m\u001b[0;34m\u001b[0m\u001b[0m\n\u001b[0m\u001b[1;32m      6\u001b[0m     \u001b[0;32mreturn\u001b[0m \u001b[0mmax\u001b[0m\u001b[0;34m(\u001b[0m\u001b[0mdp\u001b[0m\u001b[0;34m.\u001b[0m\u001b[0mvalues\u001b[0m\u001b[0;34m(\u001b[0m\u001b[0;34m)\u001b[0m\u001b[0;34m)\u001b[0m\u001b[0;34m\u001b[0m\u001b[0;34m\u001b[0m\u001b[0m\n\u001b[1;32m      7\u001b[0m \u001b[0mwords\u001b[0m \u001b[0;34m=\u001b[0m \u001b[0;34m[\u001b[0m\u001b[0;34m'a'\u001b[0m\u001b[0;34m,\u001b[0m\u001b[0;34m'b'\u001b[0m\u001b[0;34m,\u001b[0m\u001b[0;34m'ba'\u001b[0m\u001b[0;34m,\u001b[0m\u001b[0;34m'bca'\u001b[0m\u001b[0;34m,\u001b[0m\u001b[0;34m'bda'\u001b[0m\u001b[0;34m,\u001b[0m\u001b[0;34m'bdca'\u001b[0m\u001b[0;34m]\u001b[0m\u001b[0;34m\u001b[0m\u001b[0;34m\u001b[0m\u001b[0m\n",
      "\u001b[0;31mTypeError\u001b[0m: 'int' object is not iterable"
     ]
    }
   ],
   "source": [
    "def longestStrChain(words):\n",
    "    dp = {}\n",
    "    for w in sorted(words, key=len):\n",
    "        dp[w] = max(dp.get(w[:i] + w[i + 1:], 0) + 1 for i in range(len(w)))\n",
    "    return max(dp.values())\n",
    "words = ['a','b','ba','bca','bda','bdca']\n",
    "print(longestStrChain(words))"
   ]
  },
  {
   "cell_type": "code",
   "execution_count": 260,
   "metadata": {},
   "outputs": [
    {
     "name": "stdout",
     "output_type": "stream",
     "text": [
      "4\n",
      "EMPTY\n",
      "3\n",
      "5\n",
      "2\n",
      "3\n",
      "6\n",
      "2\n",
      "3\n",
      "6\n",
      "3\n",
      "8\n"
     ]
    }
   ],
   "source": [
    "def superStack(operations):\n",
    "    l = []\n",
    "    top = -1\n",
    "    s = 0\n",
    "    summ = 0\n",
    "    ivalue = 0\n",
    "    for i in range(len(operations)):\n",
    "        #print(l)\n",
    "        if(operations[i].split(\" \")[0] == 'push'):\n",
    "            value = int(operations[i].split(\" \")[1])\n",
    "            l.append(value)\n",
    "            #top = len(l)-1\n",
    "            #print(l[top])\n",
    "        elif(operations[i] == 'pop'):\n",
    "            l.pop()\n",
    "            ivalue = ivalue-1\n",
    "        elif(operations[i].split(\" \")[0] == 'inc'):\n",
    "            s = s+1\n",
    "            if(s==2):\n",
    "                s = s-1                \n",
    "                for j in range(0,ivalue):\n",
    "                    l[j] = l[j] + summ\n",
    "            ivalue = int(operations[i].split(\" \")[1])\n",
    "            summ = int(operations[i].split(\" \")[2])\n",
    "\n",
    "        top = len(l)-1\n",
    "        if(top==-1):\n",
    "            print(\"EMPTY\")\n",
    "        else:\n",
    "            print(l[top]+summ)\n",
    "l1 = ['push 4', 'pop', 'push 3', 'push 5', 'push 2', 'inc 3 1', \n",
    "     'pop', 'push 1', 'inc 2 2', 'push 4', 'pop', 'pop']    \n",
    "superStack(l1)"
   ]
  },
  {
   "cell_type": "code",
   "execution_count": 250,
   "metadata": {},
   "outputs": [
    {
     "name": "stdout",
     "output_type": "stream",
     "text": [
      "[1, 2]\n",
      "4\n"
     ]
    }
   ],
   "source": [
    "l=[1,2,3]\n",
    "l.pop()\n",
    "print(l)\n",
    "s = \"push 4\"\n",
    "if(s.find('push')==0):\n",
    "    a = int(s.split(\" \")[1])\n",
    "print(a)"
   ]
  },
  {
   "cell_type": "code",
   "execution_count": 29,
   "metadata": {},
   "outputs": [
    {
     "name": "stdout",
     "output_type": "stream",
     "text": [
      "1\n",
      "4 5\n",
      "p q r s\n",
      "addincircle p q\n",
      "addincircle q r\n",
      "addincircle q s\n",
      "arewefriends p s\n",
      "arewefriends p r\n",
      "[0, 1, 2, 3, 4]\n",
      "['addincircle p q', 'addincircle q r', 'addincircle q s', 'arewefriends p s', 'arewefriends p r']\n",
      "{'0': 0, 'p': 1, 'q': 2, 'r': 3, 's': 4}\n",
      "finalParent: [0, 1, 1, 1, 1]\n",
      "1\n",
      "1\n"
     ]
    }
   ],
   "source": [
    "import os\n",
    "import sys\n",
    "\n",
    "def find_set(parent,v):\n",
    "    if (v == parent[v]):\n",
    "        return v;\n",
    "    parent[v] = find_set(parent,parent[v])\n",
    "    return parent[v]\n",
    "\n",
    "def make_set(parent,v):\n",
    "    parent[v] = v\n",
    "    #size[v] = 1;\n",
    "\n",
    "def arewefriends(parent,a,b):\n",
    "    if(parent[a] == parent[b]):\n",
    "        return 1\n",
    "    else:\n",
    "        return 0\n",
    "def firstCall(parent,queries,d):\n",
    "    result = 0\n",
    "    lis = []\n",
    "    for i in range(len(queries)):\n",
    "        op = queries[i].split(\" \")\n",
    "        if(op[0] == 'addincircle'):\n",
    "            a = d[op[1]]\n",
    "            b = d[op[2]]\n",
    "            a = find_set(parent,a)\n",
    "            b = find_set(parent,b)\n",
    "            if (a != b):\n",
    "                #if (size[a] < size[b])\n",
    "                 #   swap(a, b);\n",
    "                parent[b] = a\n",
    "                #size[a] += size[b];\n",
    "        elif(op[0]=='arewefriends'):\n",
    "            result = arewefriends(parent,d[op[1]],d[op[2]])\n",
    "            lis.append(result)\n",
    "    return lis\n",
    "\n",
    "if __name__ == '__main__':\n",
    "    #fptr = open(os.environ['OUTPUT_PATH'], 'w')\n",
    "\n",
    "    t = int(input())\n",
    "    while(t):\n",
    "        d = {}\n",
    "        n = list(map(int,input().split()))\n",
    "        nodes = list(map(str,input().rstrip().split()))\n",
    "        queries = []\n",
    "        parent = [0]* (n[0]+1)\n",
    "        for i in range(n[1]):\n",
    "            s = input()\n",
    "            queries.append(s)\n",
    "        d['0'] = 0;\n",
    "        for i in range(1,len(nodes)+1):\n",
    "            d[nodes[i-1]] = i\n",
    "        for i in range(1,len(nodes)+1):\n",
    "            parent[i] = d[nodes[i-1]]\n",
    "        print(parent)\n",
    "        print(queries)\n",
    "        print(d)\n",
    "        final = firstCall(parent,queries,d)\n",
    "        print(\"finalParent:\",parent)\n",
    "        for i in range(len(final)):\n",
    "            print(final[i])\n",
    "        #print(final)\n",
    "        t = t-1"
   ]
  },
  {
   "cell_type": "code",
   "execution_count": 14,
   "metadata": {},
   "outputs": [
    {
     "name": "stdout",
     "output_type": "stream",
     "text": [
      "[0, 0, 0]\n",
      "3\n",
      "3\n",
      "3\n",
      "['3', '3', '3']\n"
     ]
    }
   ],
   "source": [
    "x = []\n",
    "a = [0] * 3\n",
    "print(a)\n",
    "for i in range(3):\n",
    "    s = input()\n",
    "    x.append(s)\n",
    "print(x)"
   ]
  },
  {
   "cell_type": "code",
   "execution_count": 46,
   "metadata": {},
   "outputs": [
    {
     "name": "stdout",
     "output_type": "stream",
     "text": [
      "1\n",
      "15\n",
      "1 1 1 1 1 1 1 1 1 1 1 1 1 0 0 \n",
      "2\n"
     ]
    }
   ],
   "source": [
    "#counting number of zeroes in the arr containing all 1's at \n",
    "#starting and then followed by all 0's eg 1111111000\n",
    "#time complexity = O(logn)\n",
    "import math\n",
    "def countZeroes(arr,start,end):\n",
    "    if(arr[start]==0):\n",
    "        return 0\n",
    "    if(start<end):\n",
    "        mid = start + math.ceil((end-start)/2)\n",
    "        if(arr[mid]==1 and arr[mid+1]==0):\n",
    "            pos = mid+1\n",
    "            return pos\n",
    "        elif(arr[mid]==0 and arr[mid-1]==1):\n",
    "            pos = mid\n",
    "            return pos\n",
    "        elif(arr[mid]==1):\n",
    "            pos = countZeroes(arr,mid+1,end)\n",
    "        elif(arr[mid]==0):\n",
    "            pos = countZeroes(arr,start,mid-1)\n",
    "    return pos\n",
    "if __name__ == '__main__':\n",
    "    #fptr = open(os.environ['OUTPUT_PATH'], 'w')\n",
    "\n",
    "    t = int(input())\n",
    "    while(t):\n",
    "        n = int(input())\n",
    "        arr = list(map(int,input().rstrip().split()))\n",
    "        print(n-countZeroes(arr,0,n-1))\n",
    "        t = t-1"
   ]
  },
  {
   "cell_type": "code",
   "execution_count": 36,
   "metadata": {},
   "outputs": [
    {
     "name": "stdout",
     "output_type": "stream",
     "text": [
      "2\n"
     ]
    }
   ],
   "source": [
    "x = int(11/4)\n",
    "print(x)"
   ]
  },
  {
   "cell_type": "code",
   "execution_count": null,
   "metadata": {},
   "outputs": [],
   "source": []
  }
 ],
 "metadata": {
  "kernelspec": {
   "display_name": "Python 3",
   "language": "python",
   "name": "python3"
  },
  "language_info": {
   "codemirror_mode": {
    "name": "ipython",
    "version": 3
   },
   "file_extension": ".py",
   "mimetype": "text/x-python",
   "name": "python",
   "nbconvert_exporter": "python",
   "pygments_lexer": "ipython3",
   "version": "3.7.5rc1"
  }
 },
 "nbformat": 4,
 "nbformat_minor": 2
}
