{
 "cells": [
  {
   "cell_type": "code",
   "execution_count": 55,
   "metadata": {},
   "outputs": [
    {
     "name": "stdout",
     "output_type": "stream",
     "text": [
      "{0, 10, 5} {0, 10, 5}\n",
      "False False\n",
      "False\n"
     ]
    }
   ],
   "source": [
    "#check if the coordinates form a square or not\n",
    "coordinates1 = [[0,1],[1,0],[-1,0],[0,-1]]\n",
    "coordinates = [[0,5],[5,10],[5,0],[10,5]]\n",
    "def isSquare(coordinates):\n",
    "    x = set()\n",
    "    y = set()\n",
    "    for coordinate in coordinates:\n",
    "        if coordinate[0] not in x:\n",
    "            x.add(coordinate[0])\n",
    "        if coordinate[1] not in y:\n",
    "            y.add(coordinate[1])\n",
    "    side1 = len(x) == 2\n",
    "    side2 = len(y) == 2\n",
    "    print(x,y)\n",
    "    print(side1,side2)\n",
    "    return side1 and side2\n",
    "print(isSquare(coordinates))"
   ]
  },
  {
   "cell_type": "code",
   "execution_count": 19,
   "metadata": {},
   "outputs": [
    {
     "name": "stdout",
     "output_type": "stream",
     "text": [
      "Max Subsequence sum= 20\n",
      "Max subarrayn sum= 16\n"
     ]
    }
   ],
   "source": [
    "#find the max subarray sum and max subsequence sum\n",
    "\n",
    "def maxSubarray(arr):\n",
    "    sum1=0;\n",
    "    sum2=0; #holds max subsequence sum\n",
    "    max1=0; #holds max subarray sum \n",
    "    count1=0; #for checking whether entire array contains negative numbers \n",
    "    for j in range(0,len(arr)):\n",
    "            if(arr[j]<0):\n",
    "                count1+=1;\n",
    "    #print(count1);\n",
    "    for i in range(0,len(arr)):\n",
    "        #if all elements are negative maxSubarraySum =max(arr) and maxSubsequenceSum = max(arr)\n",
    "        if(count1==len(arr)):\n",
    "            max1=max(arr);\n",
    "            sum2=max(arr);\n",
    "        else:\n",
    "            #subsequence sum takes only positive numbers not necessarily continuous\n",
    "            if(arr[i]>0):\n",
    "                sum2+=arr[i];\n",
    "            #[3,-2,6]:in this case since 3+(-2)>0 hence we can consider 3,-2,6 in the max subarray sum  \n",
    "            if(sum1+arr[i]>0):\n",
    "                sum1+=arr[i];\n",
    "            else:\n",
    "            #[3,-4,6]:in this case 3+(-4)<0 hence we start finding maxSubarray sum from 6 i.e by making sum1=0 and exclusing 3,-4 in the subarray sum    \n",
    "                sum1=0;\n",
    "            if(sum1>max1):\n",
    "                max1=sum1;\n",
    "    result=[max1,sum2];\n",
    "    return result;\n",
    "\n",
    "arr = [-1,2,3,-4,5,10]\n",
    "result = maxSubarray(arr)\n",
    "print(\"Max Subsequence sum=\",result[1])\n",
    "print(\"Max subarrayn sum=\",result[0])"
   ]
  },
  {
   "cell_type": "code",
   "execution_count": 21,
   "metadata": {},
   "outputs": [
    {
     "name": "stdout",
     "output_type": "stream",
     "text": [
      "24\n"
     ]
    }
   ],
   "source": [
    "#Max product value wrong code\n",
    "#arr[i]>maxValue and \n",
    "def maxProduct(arr):\n",
    "    maxValue = arr[0]\n",
    "    product = maxValue\n",
    "    for i in range(1,len(arr)):\n",
    "        product = product*arr[i] \n",
    "        if(product > maxValue):\n",
    "            maxValue = product\n",
    "        elif((maxValue>0 and arr[i]>0)):\n",
    "            maxValue = maxValue * arr[i]\n",
    "        elif(arr[i]>maxValue):\n",
    "            maxValue = arr[i]\n",
    "    return maxValue    \n",
    "arr1 = [-1,-4,-3,-6,-7,-2,-5]\n",
    "arr2 = [-4,1,3,2]\n",
    "arr3 = [-4,1,3,2,-1,-7]\n",
    "arr = [1,-4,3,-6,7,0]\n",
    "print(maxProduct(arr3))"
   ]
  },
  {
   "cell_type": "code",
   "execution_count": 3,
   "metadata": {},
   "outputs": [
    {
     "name": "stdout",
     "output_type": "stream",
     "text": [
      "16\n"
     ]
    }
   ],
   "source": [
    "#max subarray sum\n",
    "def max_sum_subarray(a, n):\n",
    "    f = a[0]\n",
    "    ans = f\n",
    "    for i in range(1,n):\n",
    "        f = max(a[i], f + a[i])\n",
    "        ans = max(ans, f)\n",
    "        #print(ans,end=\" \")\n",
    "    return ans\n",
    "arr = [-1,2,3,-4,5,10]\n",
    "arr1 = [11,-10]\n",
    "print(max_sum_subarray(arr,len(arr)))"
   ]
  },
  {
   "cell_type": "code",
   "execution_count": 81,
   "metadata": {},
   "outputs": [
    {
     "name": "stdout",
     "output_type": "stream",
     "text": [
      "42\n"
     ]
    }
   ],
   "source": [
    "def maxProduct(a,n):\n",
    "    f = a[0]\n",
    "    z = 1\n",
    "    ans = f\n",
    "    currentMax = 0\n",
    "    maxx = a[0]\n",
    "    for i in range(1,n):\n",
    "        if(f==0):\n",
    "            f=1\n",
    "        f = f*a[i]\n",
    "        maxx = max(a[i],maxx)\n",
    "        z = z*a[i]\n",
    "        if(z>currentMax):\n",
    "            currentMax = z\n",
    "        ans = max(f,maxx,ans,currentMax)\n",
    "    return ans\n",
    "arr = [1,-4,3,-6,7,0]\n",
    "arr1 = [-8,-4,-3,-6,-7,-2,-5]\n",
    "arr2 = [-4,1,3,2]\n",
    "arr3 = [-4,1,3,2,-1,-7]\n",
    "arr4 = [-1,0,3,3,-2,4,-5]\n",
    "arr5 = [-1,-4,-3,0]\n",
    "arr6 = [-5,0]\n",
    "arr7 = [0,-9]\n",
    "arr8 = [1,-3,5,6,9]\n",
    "print(maxProduct(arr3,len(arr3)))"
   ]
  },
  {
   "cell_type": "code",
   "execution_count": 14,
   "metadata": {},
   "outputs": [
    {
     "name": "stdout",
     "output_type": "stream",
     "text": [
      "42\n"
     ]
    }
   ],
   "source": [
    "#max subarray product correct code\n",
    "#at every iteration we keep localMaxValue,localMinValue until ith iteration and the final maxProduct at the end of every ith iteration\n",
    "def maxProduct(arr,n):\n",
    "    maxx = arr[0]  #local maximum value\n",
    "    minn = arr[0]  #local minimum value\n",
    "    result = arr[0] #maxProduct value\n",
    "    for i in range(1,n):\n",
    "        if(arr[i]<0):\n",
    "            temp = maxx\n",
    "            maxx = max(arr[i],minn*arr[i])\n",
    "            minn = min(arr[i],temp*arr[i])\n",
    "        else:\n",
    "            maxx = max(arr[i],maxx*arr[i])\n",
    "            minn = min(arr[i],minn*arr[i])\n",
    "            \n",
    "        result = max(maxx,result)\n",
    "    return result\n",
    "\n",
    "arr = [1,-4,3,-6,7,0]\n",
    "arr1 = [-8,-4,-3,-6,-7,-2,-5]\n",
    "arr2 = [-4,1,3,2]\n",
    "arr3 = [-4,1,3,2,-1,-7]\n",
    "arr4 = [-1,0,3,3,-2,4,-5]\n",
    "arr5 = [-1,-4,-3,0]\n",
    "arr6 = [-5,0]\n",
    "arr7 = [0,-9]\n",
    "arr8 = [1,-3,5,6,9]\n",
    "print(maxProduct(arr3,len(arr3)))"
   ]
  },
  {
   "cell_type": "code",
   "execution_count": 77,
   "metadata": {},
   "outputs": [
    {
     "name": "stdout",
     "output_type": "stream",
     "text": [
      "42\n"
     ]
    }
   ],
   "source": [
    "def maxProduct(a,n):\n",
    "    currentMax = a[0]\n",
    "    currentMin = a[0]\n",
    "    finalMax = a[0]\n",
    "    for i in range(1,n):\n",
    "        temp = currentMax;\n",
    "        currentMax = max(max(currentMax * a[i],currentMin * a[i]),a[i])\n",
    "        currentMin = min(min(temp * a[i],currentMin * a[i]),a[i])\n",
    "        if(currentMax > finalMax):\n",
    "            finalMax = currentMax \n",
    "    return finalMax\n",
    "arr = [1,-4,3,-6,7,0]\n",
    "arr1 = [-8,-4,-3,-6,-7,-2,-5]\n",
    "arr2 = [-4,1,3,2]\n",
    "arr3 = [-4,1,3,2,-1,-7]\n",
    "arr4 = [-1,0,3,3,-2,4,-5]\n",
    "arr5 = [-1,-4,-3,0]\n",
    "arr6 = [-5,0]\n",
    "arr7 = [0,-9]\n",
    "arr8 = [1,-3,5,6,9]\n",
    "print(maxProduct(arr3,len(arr3)))"
   ]
  },
  {
   "cell_type": "code",
   "execution_count": 17,
   "metadata": {},
   "outputs": [
    {
     "name": "stdout",
     "output_type": "stream",
     "text": [
      "5\n"
     ]
    }
   ],
   "source": [
    "#longest increasing subsequence\n",
    "#   j  i\n",
    "#  10 20 9 33 21 50 41 60\n",
    "#result is : 10,20,33,50,61 or 10,20,33,41,60 i.e:5\n",
    "def lis(a,n,newArr):\n",
    "    for i in range(1,n):\n",
    "        for j in range(0,i):\n",
    "            if(a[i]>a[j]):\n",
    "                newArr[i] = max(newArr[j]+1,newArr[i])\n",
    "                #print(newArr[i])\n",
    "    newArr.sort(reverse=True)\n",
    "    return newArr[0]\n",
    "\n",
    "arr1 = [10,22,9,33]\n",
    "arr = [10,22,9,33,21,50,41,60]\n",
    "newArr = [1,1,1,1,1,1,1,1]\n",
    "newArr1 = [1,1,1,1]\n",
    "print(lis(arr,len(arr),newArr))                "
   ]
  },
  {
   "cell_type": "code",
   "execution_count": 35,
   "metadata": {},
   "outputs": [
    {
     "name": "stdout",
     "output_type": "stream",
     "text": [
      "{1, 11234, 1123, 2, 3, 34, 4, 234, 11, 12, 112, 1234, 23, 123}\n",
      "[1, 11, 112, 1123, 11234, 1, 12, 123, 1234, 2, 23, 234, 3, 34, 4]\n",
      "Max subArray Sum: 11\n",
      "Max SubArray Product: 24\n"
     ]
    }
   ],
   "source": [
    "#generate all subArrays using recursion and find max subArray sum and maxSubarray product\n",
    "#[1,2,3]:here [1,3] is not the sub array of [1,2,3] since 1,3 is not continuous\n",
    "count = 0\n",
    "maxSum=0\n",
    "maxProduct = 0\n",
    "myset = set()\n",
    "l = []\n",
    "def allSubArrays(arr,start,end):\n",
    "    global maxSum\n",
    "    global maxProduct\n",
    "    #print(end)\n",
    "    s = \"\"\n",
    "    if(start==len(arr)):\n",
    "        return\n",
    "    elif(end==len(arr)+1):\n",
    "        ++count\n",
    "        allSubArrays(arr,start+1,count+1)\n",
    "        return\n",
    "    elif(start < end):\n",
    "        #print(\"here\")\n",
    "        summ=0\n",
    "        product = 1\n",
    "        #print(\"[\",end=\"\")\n",
    "        for i in range(start,end):\n",
    "            summ = summ+arr[i]\n",
    "            product = product * arr[i]\n",
    "            #print(summ)\n",
    "            #myset.add(arr[i])\n",
    "            s = s+str(arr[i])\n",
    "            #print(arr[i],end=\"\")\n",
    "        l.append(int(s))\n",
    "        myset.add(int(s))\n",
    "        #print(l)\n",
    "        if(summ>maxSum):\n",
    "            maxSum=summ\n",
    "        if(product>maxProduct):\n",
    "            maxProduct=product\n",
    "        #print(\"]\")\n",
    "        #print(maxi)\n",
    "        allSubArrays(arr,start,end+1)\n",
    "    else:\n",
    "        allSubArrays(arr,start,end+1)\n",
    "arr = [1,1,2,3,4]\n",
    "arr1 = [3,2,0,-1]\n",
    "arr2 = [-8,-4,-3,-6,-7,-2,-5]\n",
    "arr3 = [-4,1,3,2]\n",
    "arr4 = [-4,1,3,2,-1,-7]\n",
    "arr5 = [1,-4,3,-6,7,0]\n",
    "allSubArrays(arr,0,0)\n",
    "print(myset);\n",
    "print(l)\n",
    "print(\"Max subArray Sum:\",maxSum)\n",
    "print(\"Max SubArray Product:\",maxProduct)"
   ]
  },
  {
   "cell_type": "code",
   "execution_count": 148,
   "metadata": {},
   "outputs": [
    {
     "name": "stdout",
     "output_type": "stream",
     "text": [
      "[[1, 3, 4, 5, 7]]\n"
     ]
    }
   ],
   "source": [
    "my ={4,3,1,5,7,1}\n",
    "l = []\n",
    "l.append(list(my))\n",
    "print(l)"
   ]
  },
  {
   "cell_type": "code",
   "execution_count": 152,
   "metadata": {},
   "outputs": [
    {
     "name": "stdout",
     "output_type": "stream",
     "text": [
      "['ins', 'si', 'ns', 's', 'k', 'insi', 'kin', 'kins', 'in', 'n', 'kinsi', 'nsi', 'i', 'ki']\n",
      "14\n",
      "Max subArray Sum: 0\n",
      "Max SubArray Product: 0\n"
     ]
    }
   ],
   "source": [
    "count = 0\n",
    "maxSum=0\n",
    "maxProduct = 0\n",
    "myset = set()\n",
    "l = []\n",
    "def allSubArrays(arr,start,end):\n",
    "    global maxSum\n",
    "    global maxProduct\n",
    "    global l\n",
    "    #print(end)\n",
    "    s = \"\"\n",
    "    if(start==len(arr)):\n",
    "        return\n",
    "    elif(end==len(arr)+1):\n",
    "        #++count\n",
    "        allSubArrays(arr,start+1,count+1)\n",
    "        return\n",
    "    elif(start < end):\n",
    "        #print(\"here\")\n",
    "        #summ=0\n",
    "        #product = 1\n",
    "        #print(\"[\",end=\"\")\n",
    "        for i in range(start,end):\n",
    "            #summ = summ+arr[i]\n",
    "            #product = product * arr[i]\n",
    "            #print(summ)\n",
    "            #myset.add(arr[i])\n",
    "            s = s+arr[i]\n",
    "            #print(arr[i],end=\"\")\n",
    "        #l.append(s)\n",
    "        myset.add(s)\n",
    "        l = list(myset)\n",
    "        #l.append(myset)\n",
    "        #print(l)\n",
    "        \n",
    "        allSubArrays(arr,start,end+1)\n",
    "    else:\n",
    "        allSubArrays(arr,start,end+1)\n",
    "    \n",
    "arrr = []\n",
    "s=\"ghaqjdrmnegmrlrlfpjmnnngpwalzknsencuzwsnhfltwohdgbmvfuwtquosrnyerucntxxkfqehjqygcarxogvcfkljzbzutxphpyykapncjfclnhndzxghelyvzpylazhuutmcquusexzbhsfsmbnlvnlemzvfqbfzwquairhpylnbvyhiyamztlhfchhbwrqddmuzsprfdwuqqchcpeakkexackwwzihkfenwzwckynymgqydvjtovaoezkjjurylqcuonsujycziobnfnmuwnoxcdtahpituykvgpyyshvukrstcbmnsqtjseflwywnslmvnqrtnzkyaddkjamrezprqgoenzsdryygbkeahfiduozpwkrgmatszaxmwodsqiocvagbvxyqotpaujnqvqgjmfxnxhfbwqjpgodlxdrxpjpmzeabpgqrzpxomniknjkdiwtfgyvwvekrnoupwkcbtmpcfamzrghgrznuedkybmfwctdghcfawajlxfkzhdamuygjbcwnyglkjlfmpxfdtovkqbshhrfrnyjrgxgiozsuuncnwofkqzsypwgeikpfbhryhpszegdfajzvqlwwqlnvdtdiuckcvvosrdweohnmawqonjbxyjjhlccuteeshfrxxdhzgakwjqbymnaeudcmibsytyajsgdpfvrutcpglzxdevenevmkgalcrpknuvcrnkuboennhyzirfwvtozzijujsckbxqpocakzrbwgpqgjjmsrtwmvhwyraukbuxfvebeylfpipzwjdzlmgslbtwzataxgqpasrssnfwndldwkdutdqcmcpyanrbdsxrvcvpsywjambtbzlcrvzesuhvyvwwuwwdznigxjxknfajpknqutfvvqynkpvkzgypasevrpxofbymdzcitoqolwqegocuyqsexhumzmckzuuwkamolbltlifongpvkcnrnnuplftqbxpdnegdqlymftqyrxcnzmu\"\n",
    "for i in range(0,len(s)):\n",
    "    arrr.append(s[i])\n",
    "#print(l)\n",
    "arr0 = ['a','b','c','d','e']\n",
    "arr = ['k','i','n','s','i']\n",
    "arr1 = [3,2,0,-1]\n",
    "arr2 = [-8,-4,-3,-6,-7,-2,-5]\n",
    "arr3 = [-4,1,3,2]\n",
    "arr4 = [-4,1,3,2,-1,-7]\n",
    "arr5 = [1,-4,3,-6,7,0]\n",
    "allSubArrays(arr,0,0)\n",
    "#print(myset);\n",
    "print(l)\n",
    "print(len(l))\n",
    "print(\"Max subArray Sum:\",maxSum)\n",
    "print(\"Max SubArray Product:\",maxProduct)"
   ]
  },
  {
   "cell_type": "code",
   "execution_count": 30,
   "metadata": {},
   "outputs": [
    {
     "name": "stdout",
     "output_type": "stream",
     "text": [
      "[]\n",
      "[2]\n",
      "[3]\n",
      "[32]\n",
      "[1]\n",
      "[12]\n",
      "[13]\n",
      "[132]\n",
      "['000', '001', '010', '011', '100', '101', '110', '111']\n"
     ]
    }
   ],
   "source": [
    "#generate the power set of a set\n",
    "def powerSet(a,n):\n",
    "    b = []\n",
    "    for x in range(0,pow(2,n)):\n",
    "        b.append(bin(x))\n",
    "    for i in range(0,len(b)):\n",
    "        b[i] = b[i][2::]\n",
    "        length = len(b[i])\n",
    "        b[i] = '0'*(3-length) + b[i]\n",
    "        print(\"[\",end=\"\")\n",
    "        for j in range(0,len(b[i])):\n",
    "            #print(b[j])\n",
    "            if(b[i][j]=='1'):\n",
    "                print(a[j],end=\"\")\n",
    "        print(\"]\")\n",
    "    print(b)\n",
    "arr = [1,3,2]\n",
    "powerSet(arr,len(arr))"
   ]
  },
  {
   "cell_type": "code",
   "execution_count": 15,
   "metadata": {},
   "outputs": [
    {
     "name": "stdout",
     "output_type": "stream",
     "text": [
      "9 8 7 6 5 4 3 2 1 "
     ]
    }
   ],
   "source": [
    "for x in range(9,0,-1):\n",
    "    print(x,end=\" \")"
   ]
  },
  {
   "cell_type": "code",
   "execution_count": 41,
   "metadata": {},
   "outputs": [
    {
     "name": "stdout",
     "output_type": "stream",
     "text": [
      "maxPerimeter: 3 sides: [1, 1, 1]\n"
     ]
    }
   ],
   "source": [
    "#max perimeter sum subarray\n",
    "def maxPerimeterSumSubarray(arr,n):\n",
    "    flag = 0\n",
    "    ls = []\n",
    "    maxPerimeter = 0\n",
    "    for i in range(2,n):\n",
    "        if(arr[i]+arr[i-1]>arr[i-2] and arr[i]+arr[i-2]>arr[i-1] and arr[i-1]+arr[i-2]>arr[i]):\n",
    "            flag = 1\n",
    "            perimeter = arr[i]+arr[i-1]+arr[i-2]\n",
    "            if(perimeter > maxPerimeter):\n",
    "                maxPerimeter = perimeter\n",
    "                ls.clear()\n",
    "                ls.append(arr[i-2])\n",
    "                ls.append(arr[i-1])\n",
    "                ls.append(arr[i])\n",
    "    if(flag == 0):\n",
    "        return (0,-1)\n",
    "    else:\n",
    "        return (maxPerimeter,ls)\n",
    "arr = [1,2,3,4,5,10]\n",
    "arr1 = [1,1,1,3,3]\n",
    "arr2 = [1,1,1,2,3,5]\n",
    "arr3 = [1,2,3]\n",
    "result = maxPerimeterSumSubarray(arr2,len(arr2))\n",
    "print(\"maxPerimeter:\",result[0],\"sides:\",result[1])"
   ]
  },
  {
   "cell_type": "code",
   "execution_count": 32,
   "metadata": {},
   "outputs": [
    {
     "name": "stdout",
     "output_type": "stream",
     "text": [
      "[3, 2]\n"
     ]
    }
   ],
   "source": [
    "x= []\n",
    "x.append(3)\n",
    "x.append(2)\n",
    "print(x)"
   ]
  },
  {
   "cell_type": "code",
   "execution_count": 33,
   "metadata": {},
   "outputs": [],
   "source": [
    "x.sort()"
   ]
  },
  {
   "cell_type": "code",
   "execution_count": 34,
   "metadata": {},
   "outputs": [
    {
     "data": {
      "text/plain": [
       "[2, 3]"
      ]
     },
     "execution_count": 34,
     "metadata": {},
     "output_type": "execute_result"
    }
   ],
   "source": [
    "x"
   ]
  },
  {
   "cell_type": "code",
   "execution_count": 66,
   "metadata": {},
   "outputs": [
    {
     "name": "stdout",
     "output_type": "stream",
     "text": [
      "24\n"
     ]
    }
   ],
   "source": [
    "#candies greedy problem taken from hacker rank\n",
    "def candies(arr,n,b):\n",
    "    for i in range(1,n):   #looping from left to right\n",
    "        if(arr[i]>arr[i-1]):\n",
    "            b[i] = b[i-1] + 1\n",
    "    for i in range(n-2,-1,-1): #looping from right to left\n",
    "        if(arr[i]>arr[i+1] and b[i]<=b[i+1]):\n",
    "            b[i] = b[i+1] + 1\n",
    "    return sum(b)\n",
    "arr = [1,2,4,3,9,8,7,6,5,10]\n",
    "b = [1,1,1,1,1,1,1,1,1,1]\n",
    "arr1 = [4,6,4,5,6,2]\n",
    "b1 = [1,1,1,1,1,1]\n",
    "arr2 = [2,4,2,6,1,7,8,9,2,1]\n",
    "b3 = [1,1,1,1,1,1,1,1,1,1]\n",
    "c = []\n",
    "c = candies(arr,len(arr),b)\n",
    "print(sum(c))"
   ]
  },
  {
   "cell_type": "code",
   "execution_count": 67,
   "metadata": {},
   "outputs": [
    {
     "name": "stdout",
     "output_type": "stream",
     "text": [
      "[1, 5]\n"
     ]
    }
   ],
   "source": [
    "#return first subarray indices from left whose sum equals to summ\n",
    "#idea:keep on adding elements from left(f holds sum) and if f>summ then keep on deleting elements from left until k==j-1(j-1 current position)\n",
    "def equalSum(a, n, summ):\n",
    "    f = a[0]\n",
    "    k=0\n",
    "    for j in range(1,n+1):\n",
    "        while(f>summ and k<j-1):\n",
    "            f = f-a[k]\n",
    "            k=k+1\n",
    "        if(f==summ):\n",
    "            return [k+1,j]\n",
    "        if(j<n):\n",
    "            f = f+a[j]\n",
    "    return [-1]\n",
    "arr = [1,2,3,4,5,6,7,8,9,10]\n",
    "print(equalSum(arr,len(arr),15))"
   ]
  },
  {
   "cell_type": "code",
   "execution_count": 40,
   "metadata": {},
   "outputs": [
    {
     "name": "stdout",
     "output_type": "stream",
     "text": [
      "3\n"
     ]
    }
   ],
   "source": [
    "#count no of subarrays whose sum equals to summ\n",
    "def equalSum(a, n, summ):\n",
    "    f = a[0]\n",
    "    k=0\n",
    "    count = 0\n",
    "    for j in range(1,n+1):\n",
    "        while(f>summ and k<j-1):\n",
    "            f = f-a[k]\n",
    "            k=k+1\n",
    "        if(f==summ):\n",
    "            count = count+1\n",
    "            #return [k+1,j]\n",
    "        if(j<n):\n",
    "            f = f+a[j]\n",
    "    if(count==0):\n",
    "        return [-1]\n",
    "    else:\n",
    "        return count\n",
    "arr = [1,2,10,3,7,2,1,20]\n",
    "print(equalSum(arr,len(arr),10))"
   ]
  },
  {
   "cell_type": "code",
   "execution_count": 75,
   "metadata": {},
   "outputs": [
    {
     "name": "stdout",
     "output_type": "stream",
     "text": [
      "12\n",
      "1\n"
     ]
    }
   ],
   "source": [
    "#equal dynammic programming hackerrank\n",
    "#https://www.hackerrank.com/challenges/equal/problem\n",
    "def equal(a,n):\n",
    "    maxx = a[0]\n",
    "    minOperations = 0\n",
    "    for i in range(1,n):\n",
    "        if(a[i]>maxx):\n",
    "            maxx = a[i]\n",
    "    print(maxx)\n",
    "    for i in range(n-1,-1,-1):\n",
    "        count = 0\n",
    "        if(a[i]==maxx):\n",
    "            continue\n",
    "        else:\n",
    "            while(a[i]!=maxx):\n",
    "                if(a[i]+5>maxx):\n",
    "                    if(a[i]+2>maxx):\n",
    "                        a[i] = a[i]+1\n",
    "                    else:\n",
    "                        a[i] = a[i]+2\n",
    "                else:\n",
    "                    a[i] = a[i] + 5\n",
    "                count = count+1\n",
    "        minOperations = max(minOperations,count)\n",
    "    return minOperations\n",
    "arr = [2,2,3,7]\n",
    "arr1 = [10,7,12]\n",
    "print(equal(arr1,len(arr1)))"
   ]
  },
  {
   "cell_type": "code",
   "execution_count": 10,
   "metadata": {},
   "outputs": [
    {
     "name": "stdout",
     "output_type": "stream",
     "text": [
      "i=:1:5:1   i=:2:5:6   i=:3:6:10   \n",
      "Max sum is 10\n"
     ]
    }
   ],
   "source": [
    "#https://www.geeksforgeeks.org/maximum-sum-such-that-no-two-elements-are-adjacent/\n",
    "#Maximum sum such that no two elements are adjacent\n",
    "'''\n",
    "incl = max sum including previous element\n",
    "excl = max sum excluding previous element\n",
    "idea:\n",
    "find 1,2 at every i value\n",
    "1.Find Max sum excluding current element\n",
    "  If current element is excluded we have two cases ie; \n",
    "     i)either include the previous element\n",
    "        here calculate: incl\n",
    "     ii)not include the previous element\n",
    "        here calculate: excl\n",
    "2.Find Max sum including current element\n",
    "  If current element is included we have one case ie:\n",
    "     i)we cannot include previous element since selected elements should not be adjacent\n",
    "        hence here we calculate: excl\n",
    "So for each iteration i from 1 we find incl,excl,excl\n",
    "'''\n",
    "def maxNonAdjacentSum(arr):\n",
    "    incl = 0\n",
    "    excl = arr[0]\n",
    "    for i in range(1,len(arr)):\n",
    "        temp = incl\n",
    "        incl = max(incl,excl)\n",
    "        excl = temp\n",
    "        excl = excl + arr[i]\n",
    "        print(\"i=\",i,incl,excl,end=\"   \",sep=\":\")\n",
    "    return max(incl,excl)\n",
    "arr = [0,1,0,-10,7]\n",
    "arr1 = [5,1,1,5]\n",
    "result = maxNonAdjacentSum(arr1)\n",
    "print(end=\"\\n\")\n",
    "print(\"Max sum is\",result) "
   ]
  },
  {
   "cell_type": "code",
   "execution_count": 37,
   "metadata": {},
   "outputs": [
    {
     "name": "stdout",
     "output_type": "stream",
     "text": [
      "32\n"
     ]
    }
   ],
   "source": [
    "def maxi(n):\n",
    "    if(n==12):\n",
    "        return 13\n",
    "    elif n%12!=0 and n<12:\n",
    "        return n\n",
    "    else:\n",
    "        return(maxi(int(n/2))+maxi(int(n/3))+maxi(int(n/4)))\n",
    "    #return result\n",
    "print(maxi(30))"
   ]
  },
  {
   "cell_type": "code",
   "execution_count": 51,
   "metadata": {},
   "outputs": [
    {
     "name": "stdout",
     "output_type": "stream",
     "text": [
      "0b1101\n",
      "1101\n",
      "1101\n"
     ]
    }
   ],
   "source": [
    "x = bin(13)\n",
    "print(x)\n",
    "print(x[2::])\n",
    "x = x[2::]\n",
    "print(x)"
   ]
  },
  {
   "cell_type": "code",
   "execution_count": 68,
   "metadata": {},
   "outputs": [
    {
     "name": "stdout",
     "output_type": "stream",
     "text": [
      "5\n"
     ]
    }
   ],
   "source": [
    "#square of a number using binary serach technique\n",
    "def squareroot(start,end,n):\n",
    "    while(start<=end):\n",
    "        mid = int((start+end)/2)\n",
    "        if(mid*mid == n):\n",
    "            return mid\n",
    "        elif(mid*mid<n):\n",
    "            start = mid+1\n",
    "            result = mid\n",
    "        else:\n",
    "            end = mid-1\n",
    "    return result\n",
    "n=25\n",
    "print(squareroot(0,int(n/2),n))"
   ]
  },
  {
   "cell_type": "code",
   "execution_count": 9,
   "metadata": {},
   "outputs": [
    {
     "name": "stdout",
     "output_type": "stream",
     "text": [
      "False\n"
     ]
    }
   ],
   "source": [
    "#https://leetcode.com/problems/jump-game/\n",
    "'''\n",
    "idea:\n",
    "i:  0       1       2       3       4       5\n",
    "    4       0       3       3       0       0\n",
    "if we start with i=0 then we can reach a maximum distance of 4 it means starting at i=0 we can go throught \n",
    "i=0,1,2,3,4\n",
    "On reaching i=1 the maximum distance we can travel is still 4 that is obtained from i=0 because at i=1 value is 0.\n",
    "so max(1+0,4) = 4\n",
    "On reaching i=2 tyhe maximum distance we can cover is max(i+arr[i],earlierMaxDistance) i.e:max(2+3,4)=5 this is so\n",
    "because using i=0 value i.e:4 we can reach i=2 and now using value at i=2 ie 3 we can reach till i=2+3=>5\n",
    "''' \n",
    "def jumpGame(arr):\n",
    "    i = 0\n",
    "    reach = 0\n",
    "    while(i<len(arr) and i<=reach):\n",
    "        #i<=reach is the important step\n",
    "        reach = max(i+arr[i],reach)\n",
    "        #print(reach)\n",
    "        i=i+1\n",
    "        if(reach>=len(arr)-1):\n",
    "            return True\n",
    "    return False\n",
    "arr = [4,0,3,0,0,0,1,0]\n",
    "arr1 = [4,0,3,3,0,0]\n",
    "print(jumpGame(arr))"
   ]
  },
  {
   "cell_type": "code",
   "execution_count": 3,
   "metadata": {},
   "outputs": [
    {
     "name": "stdout",
     "output_type": "stream",
     "text": [
      "True\n"
     ]
    }
   ],
   "source": [
    "print(True)"
   ]
  },
  {
   "cell_type": "code",
   "execution_count": 3,
   "metadata": {},
   "outputs": [
    {
     "name": "stdout",
     "output_type": "stream",
     "text": [
      "3\n"
     ]
    }
   ],
   "source": [
    "#steps problem recursive solution\n",
    "def steps(n):\n",
    "    if(n==0):\n",
    "        return 1\n",
    "    elif(n<0):\n",
    "        return 0\n",
    "    else:\n",
    "        return steps(n-1) + steps(n-2)\n",
    "print(steps(3))"
   ]
  },
  {
   "cell_type": "code",
   "execution_count": 14,
   "metadata": {},
   "outputs": [
    {
     "name": "stdout",
     "output_type": "stream",
     "text": [
      "5\n"
     ]
    }
   ],
   "source": [
    "#steps problem dp solution\n",
    "#n denotes number of steps\n",
    "#this problem considers at max a man can jump 2 steps\n",
    "dp = [0,0,0,0,0]\n",
    "def steps(n):\n",
    "    dp[0] = 1\n",
    "    for i in range(1,n+1):\n",
    "        if(i-1 < 0):\n",
    "            dp[i] = 0 + dp[i-2]\n",
    "        elif(i-2 < 0):\n",
    "            dp[i] = dp[i-1] + 0\n",
    "        elif(i-1<0 and i-2<0):\n",
    "            dp[i] = 0\n",
    "        else:\n",
    "            dp[i] = dp[i-1] + dp[i-2]\n",
    "    return dp[n]\n",
    "print(steps(4))"
   ]
  },
  {
   "cell_type": "code",
   "execution_count": 40,
   "metadata": {},
   "outputs": [
    {
     "name": "stdout",
     "output_type": "stream",
     "text": [
      "4\n"
     ]
    }
   ],
   "source": [
    "s = {1,1,2,5,4}\n",
    "l = list(s)\n",
    "print(len(l))"
   ]
  },
  {
   "cell_type": "code",
   "execution_count": 41,
   "metadata": {},
   "outputs": [
    {
     "name": "stdout",
     "output_type": "stream",
     "text": [
      "1234\n"
     ]
    }
   ],
   "source": [
    "#!/bin/python3\n",
    "\n",
    "import math\n",
    "import os\n",
    "import random\n",
    "import re\n",
    "import sys\n",
    "\n",
    "\n",
    "\n",
    "#\n",
    "# Complete the 'substringCalculator' function below.\n",
    "#\n",
    "# The function is expected to return a LONG_INTEGER.\n",
    "# The function accepts STRING s as parameter.\n",
    "#\n",
    "count = 0\n",
    "#maxSum=0\n",
    "#maxProduct = 0\n",
    "myset = set()\n",
    "l = []\n",
    "def allSubArrays(arr,start,end):\n",
    "    #global maxSum\n",
    "    #global maxProduct\n",
    "    #print(end)\n",
    "    s = \"\"\n",
    "    if(start==len(arr)):\n",
    "        return\n",
    "    elif(end==len(arr)+1):\n",
    "        ++count\n",
    "        allSubArrays(arr,start+1,count+1)\n",
    "        return\n",
    "    elif(start < end):\n",
    "        #print(\"here\")\n",
    "        #summ=0\n",
    "        #product = 1\n",
    "        #print(\"[\",end=\"\")\n",
    "        for i in range(start,end):\n",
    "            #summ = summ+arr[i]\n",
    "            #product = product * arr[i]\n",
    "            #print(summ)\n",
    "            #myset.add(arr[i])\n",
    "            s = s+str(arr[i])\n",
    "            #print(arr[i],end=\"\")\n",
    "        #l.append(int(s))\n",
    "        myset.add(int(s))\n",
    "        #print(l)\n",
    "        #if(summ>maxSum):\n",
    "        #    maxSum=summ\n",
    "        #if(product>maxProduct):\n",
    "        #   maxProduct=product\n",
    "        #print(\"]\")\n",
    "        #print(maxi)\n",
    "        allSubArrays(arr,start,end+1)\n",
    "    else:\n",
    "        allSubArrays(arr,start,end+1)\n",
    "\n",
    "def substringCalculator(s):\n",
    "    allSubArrays(s,0,0)\n",
    "    l = list(myset)\n",
    "    return len(l)\n",
    "\n",
    "    # Write your code here\n",
    "\n",
    "if __name__ == '__main__':\n",
    "    #fptr = open(os.environ['OUTPUT_PATH'], 'w')\n",
    "\n",
    "    s = input()\n",
    "\n",
    "    result = substringCalculator(s)\n",
    "\n",
    "    #fptr.write(str(result) + '\\n')\n",
    "\n",
    "    \n",
    "    #fptr.close()"
   ]
  },
  {
   "cell_type": "code",
   "execution_count": 42,
   "metadata": {},
   "outputs": [
    {
     "name": "stdout",
     "output_type": "stream",
     "text": [
      "1\n"
     ]
    }
   ],
   "source": [
    "print(1)"
   ]
  },
  {
   "cell_type": "code",
   "execution_count": 47,
   "metadata": {},
   "outputs": [
    {
     "name": "stdout",
     "output_type": "stream",
     "text": [
      "['k', 'i', 'h', 'i']\n"
     ]
    }
   ],
   "source": [
    "s = \"kihi\"\n",
    "arr = []\n",
    "for i in range(0,len(s)):\n",
    "    arr.append(s[i])\n",
    "print(arr)"
   ]
  },
  {
   "cell_type": "code",
   "execution_count": 98,
   "metadata": {},
   "outputs": [
    {
     "name": "stdout",
     "output_type": "stream",
     "text": [
      "{'ins', 'si', 'ns', 's', 'k', 'insi', 'kin', 'kins', 'in', 'n', 'kinsi', 'nsi', 'i', 'ki'}\n",
      "['k', 'ki', 'kin', 'kins', 'kinsi', 'i', 'in', 'ins', 'insi', 'n', 'ns', 'nsi', 's', 'si', 'i']\n",
      "Max subArray Sum: 0\n",
      "Max SubArray Product: 0\n"
     ]
    }
   ],
   "source": [
    "myset = set()\n",
    "l = []\n",
    "def allSubArrays(arr,start,end):\n",
    "    s = \"\"\n",
    "    if(start==len(arr)):\n",
    "        return\n",
    "    elif(end==len(arr)+1):\n",
    "        ++count\n",
    "        allSubArrays(arr,start+1,count+1)\n",
    "        return\n",
    "    elif(start < end):\n",
    "        for i in range(start,end):\n",
    "            s = s+arr[i]\n",
    "        l.append(s)\n",
    "        myset.add(s)\n",
    "        allSubArrays(arr,start,end+1)\n",
    "    else:\n",
    "        allSubArrays(arr,start,end+1)\n",
    "arr = ['k','i','n','s','i']\n",
    "arr1 = [3,2,0,-1]\n",
    "arr2 = [-8,-4,-3,-6,-7,-2,-5]\n",
    "arr3 = [-4,1,3,2]\n",
    "arr4 = [-4,1,3,2,-1,-7]\n",
    "arr5 = [1,-4,3,-6,7,0]\n",
    "allSubArrays(arr,0,0)\n",
    "print(myset);\n",
    "print(l)\n",
    "print(\"Max subArray Sum:\",maxSum)\n",
    "print(\"Max SubArray Product:\",maxProduct)"
   ]
  },
  {
   "cell_type": "code",
   "execution_count": 90,
   "metadata": {},
   "outputs": [
    {
     "name": "stdout",
     "output_type": "stream",
     "text": [
      "82\n",
      "24\n",
      "2\n"
     ]
    }
   ],
   "source": [
    "def segment(size,arr):\n",
    "    l =[]\n",
    "    l1 =[]\n",
    "    final = []\n",
    "    for i in range(0,len(arr)-size+1):\n",
    "        l2 =[]\n",
    "        s = \"\"\n",
    "        for i in range(i,i+size):\n",
    "            s = s+str(arr[i])\n",
    "        print(s)\n",
    "        \n",
    "        for i in range(0,len(s)):\n",
    "            l2.append(int(s[i]))\n",
    "        l.append(l2)\n",
    "        \n",
    "    for i in range(len(l)):\n",
    "        final.append(min(l[i]))\n",
    "        #print(l1)\n",
    "    #print(l)\n",
    "    #print(final)\n",
    "    return max(final)\n",
    "    #print(l1[0])\n",
    "arr = [8,2,4]\n",
    "print(segment(2,arr))"
   ]
  },
  {
   "cell_type": "code",
   "execution_count": 101,
   "metadata": {},
   "outputs": [
    {
     "name": "stdout",
     "output_type": "stream",
     "text": [
      "[2, 4]\n"
     ]
    },
    {
     "ename": "TypeError",
     "evalue": "'int' object is not iterable",
     "output_type": "error",
     "traceback": [
      "\u001b[0;31m---------------------------------------------------------------------------\u001b[0m",
      "\u001b[0;31mTypeError\u001b[0m                                 Traceback (most recent call last)",
      "\u001b[0;32m<ipython-input-101-f052998065e2>\u001b[0m in \u001b[0;36m<module>\u001b[0;34m\u001b[0m\n\u001b[1;32m     20\u001b[0m     \u001b[0;31m#print(l1[0])\u001b[0m\u001b[0;34m\u001b[0m\u001b[0;34m\u001b[0m\u001b[0;34m\u001b[0m\u001b[0m\n\u001b[1;32m     21\u001b[0m \u001b[0marr\u001b[0m \u001b[0;34m=\u001b[0m \u001b[0;34m[\u001b[0m\u001b[0;36m8\u001b[0m\u001b[0;34m,\u001b[0m\u001b[0;36m2\u001b[0m\u001b[0;34m,\u001b[0m\u001b[0;36m4\u001b[0m\u001b[0;34m]\u001b[0m\u001b[0;34m\u001b[0m\u001b[0;34m\u001b[0m\u001b[0m\n\u001b[0;32m---> 22\u001b[0;31m \u001b[0mprint\u001b[0m\u001b[0;34m(\u001b[0m\u001b[0msegment\u001b[0m\u001b[0;34m(\u001b[0m\u001b[0;36m2\u001b[0m\u001b[0;34m,\u001b[0m\u001b[0marr\u001b[0m\u001b[0;34m)\u001b[0m\u001b[0;34m)\u001b[0m\u001b[0;34m\u001b[0m\u001b[0;34m\u001b[0m\u001b[0m\n\u001b[0m",
      "\u001b[0;32m<ipython-input-101-f052998065e2>\u001b[0m in \u001b[0;36msegment\u001b[0;34m(size, arr)\u001b[0m\n\u001b[1;32m      8\u001b[0m         \u001b[0;31m#l1.append(arr[i:i+size])\u001b[0m\u001b[0;34m\u001b[0m\u001b[0;34m\u001b[0m\u001b[0;34m\u001b[0m\u001b[0m\n\u001b[1;32m      9\u001b[0m     \u001b[0;32mfor\u001b[0m \u001b[0mi\u001b[0m \u001b[0;32min\u001b[0m \u001b[0mrange\u001b[0m\u001b[0;34m(\u001b[0m\u001b[0;36m0\u001b[0m\u001b[0;34m,\u001b[0m\u001b[0mlen\u001b[0m\u001b[0;34m(\u001b[0m\u001b[0ml1\u001b[0m\u001b[0;34m)\u001b[0m\u001b[0;34m)\u001b[0m\u001b[0;34m:\u001b[0m\u001b[0;34m\u001b[0m\u001b[0;34m\u001b[0m\u001b[0m\n\u001b[0;32m---> 10\u001b[0;31m         \u001b[0mfinal\u001b[0m \u001b[0;34m=\u001b[0m \u001b[0mlist\u001b[0m\u001b[0;34m(\u001b[0m\u001b[0mmin\u001b[0m\u001b[0;34m(\u001b[0m\u001b[0ml1\u001b[0m\u001b[0;34m[\u001b[0m\u001b[0mi\u001b[0m\u001b[0;34m]\u001b[0m\u001b[0;34m)\u001b[0m\u001b[0;34m)\u001b[0m\u001b[0;34m\u001b[0m\u001b[0;34m\u001b[0m\u001b[0m\n\u001b[0m\u001b[1;32m     11\u001b[0m         \u001b[0;31m#final.append(min(l1[i]))\u001b[0m\u001b[0;34m\u001b[0m\u001b[0;34m\u001b[0m\u001b[0;34m\u001b[0m\u001b[0m\n\u001b[1;32m     12\u001b[0m     \u001b[0mprint\u001b[0m\u001b[0;34m(\u001b[0m\u001b[0ml1\u001b[0m\u001b[0;34m)\u001b[0m\u001b[0;34m\u001b[0m\u001b[0;34m\u001b[0m\u001b[0m\n",
      "\u001b[0;31mTypeError\u001b[0m: 'int' object is not iterable"
     ]
    }
   ],
   "source": [
    "def segment(size,arr):\n",
    "    l =[]\n",
    "    #l1 =[]\n",
    "    #final = []\n",
    "    for i in range(0,len(arr)-size+1):\n",
    "        l1 = arr[i:i+size]\n",
    "    print(l1)\n",
    "        #l1.append(arr[i:i+size])\n",
    "    for i in range(0,len(l1)):\n",
    "        final = list(min(l1[i]))\n",
    "        #final.append(min(l1[i]))\n",
    "    print(l1)\n",
    "    return max(final)\n",
    "    #for i in range(len(l)):\n",
    "     #   final.append(min(l[i]))\n",
    "        #print(l1)\n",
    "    #print(l)\n",
    "    #print(final)\n",
    "    #return max(final)\n",
    "    #print(l1[0])\n",
    "arr = [8,2,4]\n",
    "print(segment(2,arr))"
   ]
  },
  {
   "cell_type": "code",
   "execution_count": 97,
   "metadata": {},
   "outputs": [
    {
     "name": "stdout",
     "output_type": "stream",
     "text": [
      "[153.93804002591, 113.09733552924001, 12.56637061436]\n",
      "21.9911\n"
     ]
    }
   ],
   "source": [
    "def largestSegment(radius,segments):\n",
    "    l = radius\n",
    "    l1 = []\n",
    "    pi = 3.14159265359\n",
    "    maxx = 0\n",
    "    s = 0\n",
    "    #print(l)\n",
    "    for i in range(0,len(l)):\n",
    "        if(radius[i]!=1):\n",
    "            result = pi*l[i]*l[i]\n",
    "            l1.append(result)\n",
    "    minn = min(l1)\n",
    "    l1.sort(reverse=True)\n",
    "    #print(minn)\n",
    "    print(l1)\n",
    "    for i in range(0,len(l1)):\n",
    "        n = l1[i]\n",
    "        #print(\"n\",n)\n",
    "        while(i!=len(l1)-1 and n>=l1[i+1]):\n",
    "            count = 0\n",
    "            for j in range(i,-1,-1):\n",
    "                count = count+(int(l1[j]/n))\n",
    "                #print(count)\n",
    "            #print(count)\n",
    "            if(count == segments):\n",
    "                s = 1\n",
    "                maxx = round(n,4)\n",
    "                #print(n)\n",
    "                break\n",
    "            elif(count < segments):\n",
    "                n = n - 0.00001\n",
    "        if(s==1):\n",
    "            break\n",
    "    #print(l2)\n",
    "    return str(maxx)\n",
    "arr = [1,1,1,2,2,3]\n",
    "arr1 = [3,4,3,3]\n",
    "arr2 = [2,6,7]\n",
    "print(largestSegment(arr2,12))"
   ]
  },
  {
   "cell_type": "code",
   "execution_count": 10,
   "metadata": {},
   "outputs": [
    {
     "name": "stdout",
     "output_type": "stream",
     "text": [
      "0\n",
      "0\n",
      "0\n",
      "0\n",
      "0\n",
      "4\n"
     ]
    }
   ],
   "source": [
    "l1 = [8,3,1]\n",
    "segments = 2\n",
    "for i in range(0,len(l1)):\n",
    "    n = l1[i]\n",
    "    #print(\"n\",n)\n",
    "    while(i!=len(l1)-1 and n>=l1[i+1]):\n",
    "        count = 0\n",
    "        for j in range(i,-1,-1):\n",
    "            print(j)\n",
    "            #print(\"arr[j]\",l1[j])\n",
    "            count = count+(int(l1[j]/n))\n",
    "        #print(count)\n",
    "        if(count == segments):\n",
    "            s=1\n",
    "            print(n)\n",
    "            break\n",
    "        elif(count < segments):\n",
    "            n = n - 1\n",
    "    if(s==1):\n",
    "        break\n"
   ]
  },
  {
   "cell_type": "code",
   "execution_count": 94,
   "metadata": {},
   "outputs": [
    {
     "name": "stdout",
     "output_type": "stream",
     "text": [
      "-1\n"
     ]
    }
   ],
   "source": [
    "def findSmallestDivisor(s,t):\n",
    "    newString = \"\"\n",
    "    count = 0\n",
    "    start = t[0]\n",
    "    end = len(t)\n",
    "    inside = 0\n",
    "    holdString = \"\"\n",
    "    if(start!=s[0]):\n",
    "        return -1\n",
    "    for i in range(0,len(t)):\n",
    "        if(t[i]==s[i]):\n",
    "            holdString = holdString+t[i]\n",
    "        else:\n",
    "            return -1\n",
    "    for i in range(1,len(t)):\n",
    "        if(start == t[i]):\n",
    "            end = i\n",
    "            break;\n",
    "    for i in range(0,end):\n",
    "        if(t[i]==s[i]):\n",
    "            count = count+1\n",
    "            newString = newString+t[i]\n",
    "        else:\n",
    "            return -1\n",
    "    v= 0 \n",
    "    u = 0\n",
    "    w = 0\n",
    "    x = 0\n",
    "    j = 1\n",
    "    i = 1\n",
    "    m = 1\n",
    "    while(u<len(t)):\n",
    "        kk = newString*i\n",
    "        u = len(kk)\n",
    "        if(kk == t):\n",
    "            inside = 1\n",
    "        else:\n",
    "            i = i+1\n",
    "    if(inside != 1):\n",
    "        #print(\"holdString\",holdString)\n",
    "        while(x<len(t)):\n",
    "            kf = holdString * m\n",
    "            x = len(kf)\n",
    "            if(kf == t):\n",
    "                #print(\"kf\",kf)\n",
    "                inside =1\n",
    "            else:\n",
    "                m = m+1\n",
    "        #print(\"inside\",inside)\n",
    "        while(w<len(s) and inside == 1):\n",
    "            kl = holdString * j\n",
    "            w = len(kl)\n",
    "            #print(\"kl\",kl)\n",
    "            if(kl == s):\n",
    "                return len(holdString)\n",
    "            else:\n",
    "                j = j+1\n",
    "        if(inside != 1):\n",
    "            return -1\n",
    "    else:\n",
    "        i = 1\n",
    "        while(v<len(s)):\n",
    "            k = newString*i\n",
    "            v = len(k)\n",
    "            if(k == s):\n",
    "                return len(newString)\n",
    "            else:\n",
    "                i = i+1\n",
    "    return -1\n",
    "        \n",
    "s = \"bcdbcdbcdbcd\"\n",
    "t = \"bcdbcd\"\n",
    "s1 = \"lrbblrbb\"\n",
    "t1 = \"lrbb\"\n",
    "s2 = \"lllllll\"\n",
    "t2 = \"llll\"\n",
    "s3 = \"lopi\"\n",
    "t3 = \"lo\"\n",
    "s4 = \"abcabc\"\n",
    "t4 = \"de\"\n",
    "\n",
    "s5 = \"abcabcabcabcabcabcabcabcabcabcabcabcabcabcabcabcabcabcabcabcabcabcabcabcabcabcabcabcabcabcabcabcabca\"\n",
    "t5 = \"abcabc\"\n",
    "\n",
    "s6 = \"abcabcabcabc\"\n",
    "t6 = \"abcbcd\"\n",
    "\n",
    "s7 = \"bcdbacbcdbac\"\n",
    "t7 = \"bcdbac\"\n",
    "\n",
    "s8 = \"bcdabcdbcdabcdbcdabcdbcdabcd\"\n",
    "t8 = \"bcdabcda\"\n",
    "print(findSmallestDivisor(s8,t8))       "
   ]
  },
  {
   "cell_type": "code",
   "execution_count": 31,
   "metadata": {},
   "outputs": [
    {
     "data": {
      "text/plain": [
       "'abcabc'"
      ]
     },
     "execution_count": 31,
     "metadata": {},
     "output_type": "execute_result"
    }
   ],
   "source": [
    "s = \"abc\"\n",
    "s*2"
   ]
  },
  {
   "cell_type": "code",
   "execution_count": 35,
   "metadata": {},
   "outputs": [
    {
     "name": "stdout",
     "output_type": "stream",
     "text": [
      "{'a'}\n",
      "1\n",
      "Wow\n"
     ]
    }
   ],
   "source": [
    "l = 'aaaa'\n",
    "print(set(l))\n",
    "print(len(list(set(l))))\n",
    "if('a'== list(set(l))[0] and len(list(set(l)))==1):\n",
    "    print(\"Wow\")"
   ]
  },
  {
   "cell_type": "code",
   "execution_count": 67,
   "metadata": {},
   "outputs": [
    {
     "name": "stdout",
     "output_type": "stream",
     "text": [
      "2\n"
     ]
    }
   ],
   "source": [
    "s7 = \"bcdbacbcdbac\"\n",
    "t7 = \"bcdbac\"\n",
    "print(s7.count(t7))"
   ]
  },
  {
   "cell_type": "code",
   "execution_count": 6,
   "metadata": {},
   "outputs": [
    {
     "name": "stdout",
     "output_type": "stream",
     "text": [
      "[1.384, 0.6962, 286.0, -0.6, 1.5673, -0.7366, 0.1303, 0.764, 0.2026, -0.6364]\n",
      "objects [161, 104, 1, 125]\n",
      "count 391\n",
      "745\n"
     ]
    }
   ],
   "source": [
    "def selectStock(saving, currentValue, futureValue):\n",
    "    weight = []\n",
    "    objects = []\n",
    "    inc = 0\n",
    "    for i in range(0,len(currentValue)):\n",
    "        weight.append(round(futureValue[i]/currentValue[i],4))\n",
    "    print(weight)\n",
    "    for i in range(0,len(weight)):\n",
    "        if(weight[i]<1):\n",
    "            inc = inc +1\n",
    "    if(inc == len(weight)):\n",
    "        return 0\n",
    "    final = []\n",
    "    for i in range(0,len(currentValue)+1):\n",
    "        new = []\n",
    "        for j in range(0,saving+1):\n",
    "            new.append(0)\n",
    "        final.append(new)\n",
    "    \n",
    "    #print(final)\n",
    "    count = 0\n",
    "    for i in range(0,len(currentValue)+1):\n",
    "        for j in range(0,saving+1):\n",
    "            if(i==0 or j==0):\n",
    "                final[i][j] = 0\n",
    "            elif(currentValue[i-1]<=j):\n",
    "                #count = count + j\n",
    "                final[i][j] = max(futureValue[i-1]+final[i-1][j-currentValue[i-1]],final[i-1][j])\n",
    "            else:\n",
    "                final[i][j] = final[i-1][j]\n",
    "    #print(final)\n",
    "    result = final[len(currentValue)][saving]\n",
    "    res = final[len(currentValue)][saving]\n",
    "\n",
    "    w = saving\n",
    "    for i in range(len(currentValue),0,-1):\n",
    "        if(result<=0):\n",
    "            break\n",
    "        if(result == final[i-1][w]):\n",
    "            continue\n",
    "        else:\n",
    "            count = count + currentValue[i-1]\n",
    "            objects.append(currentValue[i-1])\n",
    "            result = result - futureValue[i-1]\n",
    "            w = w - currentValue[i-1]\n",
    "    print(\"objects\",objects)\n",
    "    print(\"count\",count)\n",
    "    \n",
    "    return res\n",
    "    #return final[len(currentValue)][saving]-count\n",
    "                                                              \n",
    "saving = 250\n",
    "cV = [175,133,109,210,97]\n",
    "fV = [200,125,128,228,133]\n",
    "saving1 = 500\n",
    "cV1 = [150,199,200,168,153]\n",
    "fV1 = [140,175,199,121,111]\n",
    "saving2 = 449\n",
    "cV2 = [125,158,1,210,104,243,238,161,227,264]\n",
    "profits = [173,110,286,-126,163,-179,31,123,46,-168]\n",
    "fV2 = [298,268,287,84,267,64,269,284,273,96]\n",
    "\n",
    "\n",
    "print(selectStock(saving2,cV2,profits))"
   ]
  },
  {
   "cell_type": "code",
   "execution_count": 114,
   "metadata": {},
   "outputs": [
    {
     "name": "stdout",
     "output_type": "stream",
     "text": [
      "[[0, 0, 0], [0, 0, 0], [0, 0, 0]]\n",
      "[[0, 0, 0], [0, 0, 0], [0, 0, 0]]\n"
     ]
    }
   ],
   "source": [
    "final = []\n",
    "for i in range(0,3):\n",
    "    new = []\n",
    "    for j in range(0,3):\n",
    "        new.append(0)\n",
    "    final.append(new)\n",
    "print(final)\n",
    "result = final\n",
    "print(result)"
   ]
  },
  {
   "cell_type": "code",
   "execution_count": 102,
   "metadata": {},
   "outputs": [
    {
     "name": "stdout",
     "output_type": "stream",
     "text": [
      "[[0, 0, 0, 0, 0, 0, 0, 0], [0, 1, 0, 1, 0, 0, 0, 1], [0, 1, 0, 1, 0, 0, 0, 1], [0, 1, 0, 1, 2, 0, 0, 1], [0, 1, 0, 1, 2, 0, 0, 1], [0, 1, 0, 1, 2, 0, 3, 1], [0, 1, 0, 1, 2, 3, 3, 1]]\n",
      "adh\n",
      "3\n"
     ]
    }
   ],
   "source": [
    "def lcsDp(str1,str2):\n",
    "    smallStr = len(str2)\n",
    "    bigStr = len(str1)\n",
    "    final=[]\n",
    "    for i in range(0,smallStr+1):\n",
    "        new=[]\n",
    "        for j in range(0,bigStr+1):\n",
    "            new.append(0)\n",
    "        final.append(new)\n",
    "    #print(final)\n",
    "    \n",
    "    for i in range(0,smallStr+1):\n",
    "        for j in range(0,bigStr+1):\n",
    "            #print(\"i,j\",i,j)\n",
    "            if(i==0 or j==0):\n",
    "                final[i][j] = 0\n",
    "            elif(str2[i-1] != str1[j-1]):\n",
    "                final[i][j] = final[i-1][j]\n",
    "            elif(str2[i-1] == str1[j-1]):\n",
    "                final[i][j] = max(final[i-1][0:j])+1\n",
    "    print(final)\n",
    "    \n",
    "    #for finding the longest subsequence \n",
    "    k=1\n",
    "    subsequenceStr = \"\"\n",
    "    b = \"\"\n",
    "    previousK = 0 \n",
    "    #to remember the k value before updating it  as  k = k+1\n",
    "    for j in range(1,bigStr+1):\n",
    "        if(final[smallStr][j]==k):\n",
    "            subsequenceStr = subsequenceStr + str1[j-1]\n",
    "            previousK = k\n",
    "            k = k+1\n",
    "        elif(k-1!=0 and final[smallStr][j]== previousK):\n",
    "            #b = subsequenceStr[len(subsequenceStr)-1]\n",
    "            #print(b)\n",
    "            subsequenceStr = subsequenceStr[0:len(subsequenceStr)-1] + str1[j-1]\n",
    "    print(subsequenceStr)\n",
    "    return max(final[smallStr][0:bigStr+1])\n",
    "str1 = \"abcdefghij\"\n",
    "strr1 = \"ecdgi\"\n",
    "str2 = \"abcd\"\n",
    "strr2 = \"bd\"\n",
    "str3 = \"abcdgh\"\n",
    "strr3 = \"aedfhg\"\n",
    "str4 = \"abadgha\"\n",
    "strr4 = \"aedfhg\"\n",
    "str5 = \"gekek\"\n",
    "strr5 = \"geek\"\n",
    "print(lcsDp(str4,strr4))"
   ]
  },
  {
   "cell_type": "code",
   "execution_count": 45,
   "metadata": {},
   "outputs": [
    {
     "name": "stdout",
     "output_type": "stream",
     "text": [
      "abce\n"
     ]
    }
   ],
   "source": [
    "a = \"abcd\"\n",
    "a = a[0:3]+\"e\"\n",
    "print(a)"
   ]
  },
  {
   "cell_type": "code",
   "execution_count": 50,
   "metadata": {},
   "outputs": [
    {
     "name": "stdout",
     "output_type": "stream",
     "text": [
      "adg\n"
     ]
    }
   ],
   "source": [
    "def func(s,str1,arr,k,r,i):\n",
    "    if(i==len(str1)):\n",
    "        print(s)\n",
    "    elif(arr[i] == k):\n",
    "        s = s+str1[i]\n",
    "        func(s,str1,arr,k+1,i,i+1)\n",
    "    elif(k-1!=0 and arr[i]==k-1):\n",
    "        if(arr[r]!=arr[i]):\n",
    "            s = s[0:len(s)-1]+str1[i]\n",
    "            func(s,str1,arr,k,i,i+1)\n",
    "        else:\n",
    "            func(s,str1,arr,k,r,i+1)\n",
    "    else:\n",
    "        func(s,str1,arr,k,r,i+1)\n",
    "\n",
    "str1 = \"abadgh\"\n",
    "arr = [1,0,1,2,3,3]\n",
    "s=\"\"\n",
    "func(s,str1,arr,1,0,0)"
   ]
  },
  {
   "cell_type": "code",
   "execution_count": 82,
   "metadata": {},
   "outputs": [
    {
     "name": "stdout",
     "output_type": "stream",
     "text": [
      "[1, 2, 3, 4, 5, 6, 8] \n",
      " 7 th ugly number is: 8\n"
     ]
    }
   ],
   "source": [
    "#Finding the nth ugly number\n",
    "#ugly number is a number that is divisible by 2 or 3 or 5 only\n",
    "# note: 1 is added by default\n",
    "def uglyNumbers(n):\n",
    "    l = [1]\n",
    "    x=1\n",
    "    y=1\n",
    "    z=1\n",
    "    s=0   #to track whether multiple of 2 or 3 or 5 is included at each iteration\n",
    "    i=1\n",
    "    while(i<n):                   #O(n)\n",
    "        minn = min(2*x,3*y,5*z)\n",
    "        if(minn/2 == x):\n",
    "            x = x+1\n",
    "            s=1\n",
    "        elif(minn/3 == y):\n",
    "            y = y+1\n",
    "            s=2\n",
    "        elif(minn/5 == z):\n",
    "            z = z+1\n",
    "            s=3\n",
    "        #print(\"i\",i)\n",
    "\n",
    "        if(l[i-1]!=minn):    #to avoid repeated elements ie:2*3 = 6  and 3*2 = 6  (In this case only one 6 is to be considered)\n",
    "            l.append(minn)\n",
    "            i = i+1          #only increment if the element is added\n",
    "        #print(l)\n",
    "    return [l,minn]\n",
    "#overall complexity:  Time complexity is: O(n)\n",
    "#                     Space complexity:   O(n)\n",
    "n = 7\n",
    "arr = uglyNumbers(n)\n",
    "print(arr[0],\"\\n\",n,\"th ugly number is:\",arr[1])"
   ]
  },
  {
   "cell_type": "code",
   "execution_count": 103,
   "metadata": {},
   "outputs": [],
   "source": [
    "#edit diatance \n",
    "#https://www.geeksforgeeks.org/edit-distance-dp-5/\n",
    "#Find the longest common subsequence length\n",
    "#let lcsLength = 4\n",
    "#let str1 = gekek str2 = geek\n",
    "#To find the editing distance do len(str1) - lecLength"
   ]
  },
  {
   "cell_type": "code",
   "execution_count": 107,
   "metadata": {},
   "outputs": [
    {
     "name": "stdout",
     "output_type": "stream",
     "text": [
      "5\n",
      "23\n",
      "119\n"
     ]
    }
   ],
   "source": [
    "#1,2 = > 1+2+(1*2)\n",
    "#1,2,3 = > 1+2+3+(1*2)+(1*3)+(2*3)+(1*2*3)\n",
    "def subsetsPattern(arr):\n",
    "    a = arr[0]\n",
    "    b = arr[1]\n",
    "    x = a+b+(a*b)\n",
    "    #return x\n",
    "    for i in range(2,len(arr)):\n",
    "        print(x)\n",
    "        x = x+arr[i]+(x*arr[i])\n",
    "    return x\n",
    "arr = [1,2,3,4]\n",
    "print(subsetsPattern(arr))"
   ]
  },
  {
   "cell_type": "code",
   "execution_count": 116,
   "metadata": {},
   "outputs": [
    {
     "name": "stdout",
     "output_type": "stream",
     "text": [
      "1 2\n",
      "2 0\n",
      "4 3\n",
      "5 1\n"
     ]
    }
   ],
   "source": [
    "#-------------------------------------very important--------------------------------------------------\n",
    "#sort values along with its index\n",
    "d = {2:0,5:1,1:2,4:3}\n",
    "for i in sorted(d):\n",
    "    print(i,d[i])"
   ]
  },
  {
   "cell_type": "code",
   "execution_count": 122,
   "metadata": {},
   "outputs": [
    {
     "name": "stdout",
     "output_type": "stream",
     "text": [
      "210 1\n",
      "310 0\n",
      "{310: 0, 210: 1}\n"
     ]
    }
   ],
   "source": [
    "def binaryStorage(arr):\n",
    "    d = {}\n",
    "    for i in range(0,len(arr)):\n",
    "        #print(arr[i])\n",
    "        d[arr[i][0]] = i\n",
    "    for i in sorted(d):\n",
    "        print(i,d[i])\n",
    "    print(d)\n",
    "arr = [[0,1,2],[3,1,0]]\n",
    "arr1 = [[310],[210]]\n",
    "binaryStorage(arr1)"
   ]
  },
  {
   "cell_type": "code",
   "execution_count": 171,
   "metadata": {},
   "outputs": [
    {
     "name": "stdout",
     "output_type": "stream",
     "text": [
      "[2, 3]\n"
     ]
    }
   ],
   "source": [
    "#given an array and k value we have to find the minimum of all subarrays of length k\n",
    "#if arr =   2     8     4     3     5\n",
    "# [2,8,4,3],[8,4,3,3]     max = [2,3]\n",
    "#The time complexity of this prolem can be further reduced to O(n) if we use --------Deque--------\n",
    "def serialSegments(arr,k):\n",
    "    l = []\n",
    "    n = len(arr)\n",
    "    x = arr[0:k] #O(k)\n",
    "    x.sort() # O(klog k)\n",
    "    minn1 = x[0]\n",
    "    minn2 = x[1]\n",
    "    l.append(minn1)\n",
    "    for i in range(k,n): #O(n)\n",
    "        x = []\n",
    "        x = arr[i-(k-1):i+1]\n",
    "        x.sort()  #O(klog k)\n",
    "        minn1 = x[0]\n",
    "        minn2 = x[1]\n",
    "        l.append(minn1)\n",
    "    print(l)\n",
    "    #overall complexity = (n*k)log k\n",
    "arr = [2,8,4,3,5]\n",
    "arr1 = [2,3,8,4,5]\n",
    "arr2 = [8,1,4,5,2]\n",
    "arr3 = [1,2,3,4,5]\n",
    "serialSegments(arr,4)"
   ]
  },
  {
   "cell_type": "code",
   "execution_count": 172,
   "metadata": {},
   "outputs": [
    {
     "name": "stdout",
     "output_type": "stream",
     "text": [
      "1\n"
     ]
    }
   ],
   "source": [
    "x = format(1)\n",
    "print(x)"
   ]
  },
  {
   "cell_type": "code",
   "execution_count": 173,
   "metadata": {},
   "outputs": [
    {
     "data": {
      "text/plain": [
       "str"
      ]
     },
     "execution_count": 173,
     "metadata": {},
     "output_type": "execute_result"
    }
   ],
   "source": [
    "type(x)"
   ]
  },
  {
   "cell_type": "code",
   "execution_count": 175,
   "metadata": {},
   "outputs": [
    {
     "data": {
      "text/plain": [
       "['__call__',\n",
       " '__class__',\n",
       " '__delattr__',\n",
       " '__dir__',\n",
       " '__doc__',\n",
       " '__eq__',\n",
       " '__format__',\n",
       " '__ge__',\n",
       " '__getattribute__',\n",
       " '__gt__',\n",
       " '__hash__',\n",
       " '__init__',\n",
       " '__init_subclass__',\n",
       " '__le__',\n",
       " '__lt__',\n",
       " '__module__',\n",
       " '__name__',\n",
       " '__ne__',\n",
       " '__new__',\n",
       " '__qualname__',\n",
       " '__reduce__',\n",
       " '__reduce_ex__',\n",
       " '__repr__',\n",
       " '__self__',\n",
       " '__setattr__',\n",
       " '__sizeof__',\n",
       " '__str__',\n",
       " '__subclasshook__',\n",
       " '__text_signature__']"
      ]
     },
     "execution_count": 175,
     "metadata": {},
     "output_type": "execute_result"
    }
   ],
   "source": [
    "dir(format)"
   ]
  },
  {
   "cell_type": "code",
   "execution_count": 176,
   "metadata": {},
   "outputs": [
    {
     "ename": "NameError",
     "evalue": "name 'foo' is not defined",
     "output_type": "error",
     "traceback": [
      "\u001b[0;31m---------------------------------------------------------------------------\u001b[0m",
      "\u001b[0;31mNameError\u001b[0m                                 Traceback (most recent call last)",
      "\u001b[0;32m<ipython-input-176-63b9664d1c03>\u001b[0m in \u001b[0;36m<module>\u001b[0;34m\u001b[0m\n\u001b[0;32m----> 1\u001b[0;31m \u001b[0mf\u001b[0m \u001b[0;34m=\u001b[0m \u001b[0mfoo\u001b[0m\u001b[0;34m(\u001b[0m\u001b[0;34m)\u001b[0m\u001b[0;34m\u001b[0m\u001b[0;34m\u001b[0m\u001b[0m\n\u001b[0m",
      "\u001b[0;31mNameError\u001b[0m: name 'foo' is not defined"
     ]
    }
   ],
   "source": [
    "f = foo()"
   ]
  },
  {
   "cell_type": "code",
   "execution_count": 177,
   "metadata": {},
   "outputs": [
    {
     "ename": "SyntaxError",
     "evalue": "invalid syntax (<ipython-input-177-669ac78c3fca>, line 1)",
     "output_type": "error",
     "traceback": [
      "\u001b[0;36m  File \u001b[0;32m\"<ipython-input-177-669ac78c3fca>\"\u001b[0;36m, line \u001b[0;32m1\u001b[0m\n\u001b[0;31m    'str'==='str'\u001b[0m\n\u001b[0m           ^\u001b[0m\n\u001b[0;31mSyntaxError\u001b[0m\u001b[0;31m:\u001b[0m invalid syntax\n"
     ]
    }
   ],
   "source": [
    "'str'==='str'"
   ]
  },
  {
   "cell_type": "code",
   "execution_count": 178,
   "metadata": {},
   "outputs": [
    {
     "name": "stdout",
     "output_type": "stream",
     "text": [
      "\n"
     ]
    },
    {
     "data": {
      "text/plain": [
       "NoneType"
      ]
     },
     "execution_count": 178,
     "metadata": {},
     "output_type": "execute_result"
    }
   ],
   "source": [
    "type(print())"
   ]
  },
  {
   "cell_type": "code",
   "execution_count": 210,
   "metadata": {},
   "outputs": [
    {
     "name": "stdout",
     "output_type": "stream",
     "text": [
      "0\n",
      "9281696\n",
      "9282336\n"
     ]
    }
   ],
   "source": [
    "class foo:\n",
    "    def __init__(self):\n",
    "        self.abc = 0\n",
    "        #print(id(self.abc))\n",
    "        self.display1(self.abc)\n",
    "    def display1(self,val):\n",
    "        #print(id(val))\n",
    "        self.val = 20\n",
    "        print(val)\n",
    "        #print(id(val))\n",
    "obj = foo()    \n",
    "print(id(obj.abc))\n",
    "print(id(obj.val))"
   ]
  },
  {
   "cell_type": "code",
   "execution_count": 221,
   "metadata": {},
   "outputs": [
    {
     "name": "stdout",
     "output_type": "stream",
     "text": [
      "7\n"
     ]
    }
   ],
   "source": [
    "#  start                                            end\n",
    "#    a     b     a     b     c     b     a     b     d\n",
    "\n",
    "#   max(2+1,0)                abad     (aba)d   a(bad)\n",
    "#                           /      \\\n",
    "# since a == a  (2+(b))   aba        bad    (since a != d)\n",
    "# so aba = >a(b)a         |         /   \\\n",
    "# (return 1)              b        ba    ad   (return 0)\n",
    "#\n",
    "\n",
    "\n",
    "def longestPalindrome(start,end,s):\n",
    "    if(start<=end and end-start == 0):  #all string of length 1 are palindromes of length = 1\n",
    "        return 1\n",
    "    elif(start<=end and end-start == 1):  #if only two elements remained after recurring say: bb the it is palindrome of length = 2 \n",
    "        if(s[start] == s[end]):\n",
    "            return 2\n",
    "        else:\n",
    "            return 0  #if 2 elements remained and both are not equal the string of length 2 is not palindrome \n",
    "    else:\n",
    "        if(s[start] == s[end]):\n",
    "            return 2+longestPalindrome(start+1,end-1,s)\n",
    "        else:\n",
    "            return max(longestPalindrome(start,end-1,s), longestPalindrome(start+1,end,s))\n",
    "    #return max(x,y)\n",
    "s = \"ababcbabd\"\n",
    "x=0\n",
    "y=0\n",
    "print(longestPalindrome(0,len(s)-1,s,0,0))"
   ]
  },
  {
   "cell_type": "code",
   "execution_count": 40,
   "metadata": {},
   "outputs": [
    {
     "name": "stdout",
     "output_type": "stream",
     "text": [
      "1963\n",
      "False\n"
     ]
    }
   ],
   "source": [
    "#Return true if a subset can be partisioned into two subsets of a equal length\n",
    "#This proble is same as sum of subset problem\n",
    "#idea:if sum of elements is odd then we cannot partision the array into two parts of equal length\n",
    "#if sum is even then we have to check if we can partision the array into two halves of sum = sum/2\n",
    "#   1   5    11    5     sum = 22 half = 11\n",
    "#we keep on adding each element and subtract that element from half ie = half = half - arr[n-1](adding each element)\n",
    "#if half == 0 or half == arr[n-1] it means it is possible because a + b = 22 => if a ==11 then b must be 11\n",
    "#The below program is implemented using recursion\n",
    "#time complexity is O(2^n)\n",
    "#The below solution can be bettered using dynamic programming\n",
    "def partisionProblem(arr,n,summ,half):\n",
    "    if(summ%2!=0):\n",
    "        return False\n",
    "    else:\n",
    "        if(n==0 or arr[n-1]>half):\n",
    "            return False\n",
    "        elif(half==0 or arr[n-1]==half):\n",
    "            return True\n",
    "        else:\n",
    "            return partisionProblem(arr,n-1,summ,half) or partisionProblem(arr,n-1,summ,half-arr[n-1])\n",
    "arr = [1,5,5,21]\n",
    "arr1 = [1,5,11,5]\n",
    "arr2 = [12,6,1,7]\n",
    "arr3 = [6,2,3,4,5]\n",
    "arr4 = [478,757,314,471,729,100,459,618]\n",
    "summ = 0\n",
    "for i in range(len(arr4)):\n",
    "    summ = summ + arr4[i]\n",
    "print((int)(summ/2))\n",
    "print(partisionProblem(arr4,len(arr4),summ,int(summ/2)))"
   ]
  },
  {
   "cell_type": "code",
   "execution_count": 44,
   "metadata": {},
   "outputs": [
    {
     "name": "stdout",
     "output_type": "stream",
     "text": [
      "1\n",
      "4\n",
      "12 6 1 7\n",
      "YES\n"
     ]
    }
   ],
   "source": [
    "#The below code is the partisionProblem using dynamic programming\n",
    "#!/bin/python3\n",
    "\n",
    "import os\n",
    "import sys\n",
    "\n",
    "#\n",
    "# Complete the subsetSum function below.\n",
    "#\n",
    "def subsetSum(arr,n):\n",
    "    summ = sum(arr)\n",
    "    half = summ // 2\n",
    "    dp = [[ 1 for j in range(half + 1)] \n",
    "                for i in range(n + 1)] \n",
    "    if(summ%2!=0):\n",
    "        return 0\n",
    "    for j in range(half+1):\n",
    "        dp[0][j] = 0;\n",
    "    for i in range(n+1):\n",
    "        dp[i][0] = 1\n",
    "    \n",
    "    for i in range(1,n+1):\n",
    "        for j in range(1,half+1):\n",
    "            #if(j<arr[i-1]):\n",
    "            dp[i][j] = dp[i-1][j]\n",
    "            if(j>=arr[i-1]):\n",
    "                dp[i][j] =  dp[i][j] or dp[i-1][j-arr[i-1]]\n",
    "        \n",
    "    return dp[n][half]\n",
    "        \n",
    "    \n",
    "if __name__ == '__main__':\n",
    "    #fptr = open(os.environ['OUTPUT_PATH'], 'w')\n",
    "\n",
    "    t = int(input())\n",
    "    while(t):\n",
    "        n = int(input())\n",
    "        arr = list(map(int, input().rstrip().split()))\n",
    "        result = subsetSum(arr,n)\n",
    "        if(result == 0):\n",
    "            print(\"NO\")\n",
    "        else:\n",
    "            print(\"YES\")\n",
    "        t = t-1\n",
    "#Overall complexity:\n",
    "#                    Time complexity:  O(n*half)\n",
    "#                    Space complexity: O(n*half)\n",
    "#space complexity can be reduced by taking 2 arrays of length half instead of n arrays of length half then space complexity = O(2*half)"
   ]
  },
  {
   "cell_type": "code",
   "execution_count": 55,
   "metadata": {},
   "outputs": [
    {
     "name": "stdout",
     "output_type": "stream",
     "text": [
      "1\n",
      "4\n",
      "12 6 1 7\n",
      "[1, 0, 0, 0, 0, 0, 0, 0, 0, 0, 0, 0, 1, 0]\n",
      "[1, 0, 0, 0, 0, 0, 1, 0, 0, 0, 0, 0, 1, 0]\n",
      "[1, 1, 0, 0, 0, 0, 1, 1, 0, 0, 0, 0, 1, 1]\n",
      "[1, 1, 0, 0, 0, 0, 1, 1, 1, 0, 0, 0, 1, 1]\n",
      "[[1, 0, 0, 0, 0, 0, 0, 0, 0, 0, 0, 0, 0, 0], [1, 0, 0, 0, 0, 0, 0, 0, 0, 0, 0, 0, 1, 0], [1, 0, 0, 0, 0, 0, 1, 0, 0, 0, 0, 0, 1, 0], [1, 1, 0, 0, 0, 0, 1, 1, 0, 0, 0, 0, 1, 1], [1, 1, 0, 0, 0, 0, 1, 1, 1, 0, 0, 0, 1, 1]]\n",
      "YES\n"
     ]
    }
   ],
   "source": [
    "#!/bin/python3\n",
    "\n",
    "import os\n",
    "import sys\n",
    "\n",
    "#\n",
    "# Complete the subsetSum function below.\n",
    "#\n",
    "def subsetSum(arr,n):\n",
    "    summ = sum(arr)\n",
    "    half = summ // 2\n",
    "    dp = [[ 0 for j in range(half + 1)] \n",
    "                for i in range(n + 1)] \n",
    "    if(summ%2!=0):\n",
    "        return 0\n",
    "    for j in range(half+1):\n",
    "        dp[0][j] = 0;\n",
    "    for i in range(n+1):\n",
    "        dp[i][0] = 1\n",
    "    #print(dp)\n",
    "    #print(dp[0][12-arr[0]])\n",
    "    for i in range(1,n+1):\n",
    "        for j in range(1,half+1):\n",
    "            if(j<arr[i-1]):\n",
    "                dp[i][j] = dp[i-1][j]\n",
    "            else:\n",
    "                dp[i][j] =  dp[i-1][j] or dp[i-1][j-arr[i-1]]\n",
    "        print(dp[i])\n",
    "    print(dp)\n",
    "    return dp[n][half]\n",
    "        \n",
    "    \n",
    "if __name__ == '__main__':\n",
    "    #fptr = open(os.environ['OUTPUT_PATH'], 'w')\n",
    "\n",
    "    t = int(input())\n",
    "    while(t):\n",
    "        n = int(input())\n",
    "        arr = list(map(int, input().rstrip().split()))\n",
    "        result = subsetSum(arr,n)\n",
    "        if(result == 0):\n",
    "            print(\"NO\")\n",
    "        else:\n",
    "            print(\"YES\")\n",
    "        t = t-1"
   ]
  },
  {
   "cell_type": "code",
   "execution_count": 13,
   "metadata": {},
   "outputs": [
    {
     "name": "stdout",
     "output_type": "stream",
     "text": [
      "2 3 4 5 6\n"
     ]
    }
   ],
   "source": [
    "arr = list(map(int, input().rstrip().split()))"
   ]
  },
  {
   "cell_type": "code",
   "execution_count": 15,
   "metadata": {},
   "outputs": [
    {
     "data": {
      "text/plain": [
       "20"
      ]
     },
     "execution_count": 15,
     "metadata": {},
     "output_type": "execute_result"
    }
   ],
   "source": [
    "sum(arr)"
   ]
  },
  {
   "cell_type": "code",
   "execution_count": 64,
   "metadata": {},
   "outputs": [
    {
     "name": "stdout",
     "output_type": "stream",
     "text": [
      "2\n"
     ]
    }
   ],
   "source": [
    "#Return minimum difference of two subsets of the given set\n",
    "#This proble is same as sum of subset problem\n",
    "#The below program is implemented using recursion\n",
    "#time complexity is O(2^n)\n",
    "#The below solution can be bettered using dynamic programming\n",
    "def partisionProblem(arr,n,summ,changingSum):\n",
    "    if(n==0):\n",
    "        return abs(changingSum - (summ - changingSum))\n",
    "    else:\n",
    "        return min(partisionProblem(arr,n-1,summ,changingSum),partisionProblem(arr,n-1,summ,changingSum-arr[n-1]))\n",
    "    #return result\n",
    "arr = [1,5,5,21]\n",
    "arr1 = [1,5,11,5]\n",
    "arr2 = [12,6,1,7]\n",
    "arr3 = [6,2,3,4,5]\n",
    "arr4 = [478,757,314,471,729,100,459,618]\n",
    "summ = 0\n",
    "for i in range(len(arr4)):\n",
    "    summ = summ + arr4[i]\n",
    "print(partisionProblem(arr4,len(arr4),summ,summ))"
   ]
  },
  {
   "cell_type": "code",
   "execution_count": 81,
   "metadata": {},
   "outputs": [
    {
     "name": "stdout",
     "output_type": "stream",
     "text": [
      "6\n",
      "5\n"
     ]
    }
   ],
   "source": [
    "#Returns no of subsets that would give sum = sum(arr)//k\n",
    "#This problem is same as sum of subset problem\n",
    "#The below program is implemented using recursion\n",
    "#time complexity is O(2^n)\n",
    "#The below solution can be bettered using dynamic programming\n",
    "def noOfSubsetsWithSumK(arr,n,summ,remainingSum):\n",
    "    if(remainingSum == 0):\n",
    "        #print(n)\n",
    "        return 1\n",
    "    elif(remainingSum<0 or n==0):\n",
    "        return 0\n",
    "    else:\n",
    "        return noOfSubsetsWithSumK(arr,n-1,summ,remainingSum) + noOfSubsetsWithSumK(arr,n-1,summ,remainingSum-arr[n-1])\n",
    "arr = [1,5,5,21]\n",
    "arr1 = [1,5,11,5]\n",
    "arr2 = [12,6,1,7]\n",
    "k2 = 2\n",
    "arr3 = [6,2,3,4,5]\n",
    "arr4 = [478,757,314,471,729,100,459,618]\n",
    "arr6 = [4,3,2,3,5,2,1]\n",
    "k6 = 4\n",
    "arr7 = [2, 1, 4, 5, 3, 3]\n",
    "k7 = 3\n",
    "summ = sum(arr7)//k7\n",
    "print(summ)\n",
    "print(noOfSubsetsWithSumK(arr7,len(arr7),summ,summ))"
   ]
  },
  {
   "cell_type": "code",
   "execution_count": null,
   "metadata": {},
   "outputs": [],
   "source": [
    "'''\n",
    "Introduction\n",
    "\n",
    "Dynamic programming (usually referred to as DP ) is a very powerful technique to solve a particular class of \n",
    "problems. It demands very elegant formulation of the approach and simple thinking and the coding part is very easy.\n",
    "The idea is very simple, If you have solved a problem with the given input, then save the result for future \n",
    "reference, so as to avoid solving the same problem again.. shortly 'Remember your Past' :) .  \n",
    "If the given problem can be broken up in to smaller sub-problems and these smaller subproblems are in turn \n",
    "divided in to still-smaller ones, and in this process, if you observe some over-lapping subproblems, \n",
    "then its a big hint for DP. Also, the optimal solutions to the subproblems contribute to the optimal solution \n",
    "of the given problem ( referred to as the Optimal Substructure Property ).\n",
    "\n",
    "There are two ways of doing this.\n",
    "\n",
    "1.) Top-Down : Start solving the given problem by breaking it down. If you see that the problem has been solved \n",
    "               already, then just return the saved answer. If it has not been solved,solve it and save the answer.\n",
    "               This is usually easy to think of and very intuitive. This is referred to as Memoization.\n",
    "\n",
    "2.) Bottom-Up : Analyze the problem and see the order in which the sub-problems are solved and start solving from \n",
    "                the trivial subproblem, up towards the given problem. In this process, it is guaranteed that the \n",
    "                subproblems are solved before solving the problem. This is referred to as Dynamic Programming.\n",
    "\n",
    "Note:\n",
    "    divide and conquer is slightly a different technique. In that, we divide the problem in to non-overlapping \n",
    "    subproblems and solve them independently, like in mergesort and quick sort.\n",
    "\n",
    "\n",
    "Complementary to Dynamic Programming are Greedy Algorithms which make a decision once and for all every time \n",
    "they need to make a choice, in such a way that it leads to a near-optimal solution. A Dynamic Programming \n",
    "solution is based on the principal of Mathematical Induction greedy algorithms require other kinds of proof.\n",
    "\n",
    "\n",
    "Below is counting number of ways to cover a distance:\n",
    "Given a distance ‘dist, count total number of ways to cover the distance with 1, 2 and 3 steps.\n",
    "\n",
    "Examples :\n",
    "Input:  n = 3\n",
    "Output: 4\n",
    "Below are the four ways\n",
    " 1 step + 1 step + 1 step\n",
    " 1 step + 2 step\n",
    " 2 step + 1 step\n",
    " 3 step\n",
    "\n",
    "Input:  n = 4\n",
    "Output: 7\n",
    "\n",
    "The above problem is solved in the next sections: \n",
    "    1.Using recursion\n",
    "    2.Using memoization\n",
    "    3.Using Dynamic Programming\n",
    "'''"
   ]
  },
  {
   "cell_type": "code",
   "execution_count": 90,
   "metadata": {},
   "outputs": [
    {
     "name": "stdout",
     "output_type": "stream",
     "text": [
      "7\n"
     ]
    }
   ],
   "source": [
    "#No of ways to cover a distance n using 1,2,3 steps\n",
    "#below code is the recursion solution which takes O(3^n) time\n",
    "def coverDistance(n):\n",
    "    if(n==0):\n",
    "        return 1\n",
    "    elif(n<0):\n",
    "        return 0\n",
    "    else:\n",
    "        return coverDistance(n-1) + coverDistance(n-2) + coverDistance(n-3)\n",
    "print(coverDistance(4))"
   ]
  },
  {
   "cell_type": "code",
   "execution_count": 114,
   "metadata": {},
   "outputs": [
    {
     "name": "stdout",
     "output_type": "stream",
     "text": [
      "[0, 0, 0, 0, 0]\n",
      "7\n",
      "[0, 1, 2, 4, 7]\n"
     ]
    }
   ],
   "source": [
    "#No of ways to cover a distance n using 1,2,3 steps\n",
    "#below code is implemented using memoization \n",
    "#Memoization is top down approach but here everytime we reach a solution we store it so that recomputation if same \n",
    "#thing isnt required\n",
    "def coverDistance(n,arr):\n",
    "    if(n==0):\n",
    "        return 1\n",
    "    elif(n<0):\n",
    "        return 0\n",
    "    elif(arr[n]):      #if already computed just return the value \n",
    "        return arr[n]\n",
    "    else:              #if not computed arr[n] value then compute\n",
    "        arr[n] =  coverDistance(n-1,arr) + coverDistance(n-2,arr) + coverDistance(n-3,arr)\n",
    "    return arr[n]\n",
    "n = 4\n",
    "arr = []\n",
    "arr[0:n+1] = [0] * (n+1)\n",
    "print(arr)\n",
    "print(coverDistance(n,arr))\n",
    "print(arr)"
   ]
  },
  {
   "cell_type": "code",
   "execution_count": 122,
   "metadata": {},
   "outputs": [
    {
     "name": "stdout",
     "output_type": "stream",
     "text": [
      "[0, 0, 0, 0, 0]\n",
      "[1, 1, 2, 4, 7]\n",
      "7\n"
     ]
    }
   ],
   "source": [
    "#No of ways to cover a distance n using 1,2,3 steps\n",
    "#below code is implemented using dynamic programming that is using bottom up approach\n",
    "def coverDistance(n):\n",
    "    dp = []\n",
    "    dp[0:n+1] = [0] * (n+1)\n",
    "    print(dp)\n",
    "    dp[0] = 1\n",
    "    dp[1] = 1\n",
    "    dp[2] = 2\n",
    "    #print(dp)\n",
    "    for i in range(3,n+1):\n",
    "        dp[i] = dp[i-1] + dp[i-2] + dp[i-3]\n",
    "    print(dp)\n",
    "    return dp[n]\n",
    "n = 4\n",
    "print(coverDistance(n))\n",
    "#print(arr)"
   ]
  },
  {
   "cell_type": "code",
   "execution_count": 2,
   "metadata": {},
   "outputs": [
    {
     "name": "stdout",
     "output_type": "stream",
     "text": [
      "14\n"
     ]
    }
   ],
   "source": [
    "def minSteps(a,b,n):\n",
    "    if(n<0):\n",
    "        return 0\n",
    "    elif(n-a==0 or n-b==0):\n",
    "        return 1\n",
    "    else:\n",
    "        return 1+ min(minSteps(a,b,n-a),minSteps(a,b,n-b))\n",
    "print(minSteps(5,4,67))"
   ]
  },
  {
   "cell_type": "code",
   "execution_count": 26,
   "metadata": {},
   "outputs": [
    {
     "name": "stdout",
     "output_type": "stream",
     "text": [
      "[0, 0, 0, 0, 0, 0, 0, 0, 0, 0, 0, 0, 0, 0, 0]\n",
      "3\n",
      "13\n"
     ]
    }
   ],
   "source": [
    "incr = 0\n",
    "def minSteps(a,b,n,arr):\n",
    "    global incr\n",
    "    incr = incr+1\n",
    "    if(n<0):\n",
    "        return 0\n",
    "    elif(n-a==0 or n-b==0):\n",
    "        return 1\n",
    "    elif(arr[n]):\n",
    "        return arr[n]\n",
    "    else:\n",
    "        arr[n] =  1+ min(minSteps(a,b,n-a,arr),minSteps(a,b,n-b,arr))\n",
    "    return arr[n]\n",
    "c= 14\n",
    "\n",
    "arr = [0]*(c+1)\n",
    "print(arr)\n",
    "print(minSteps(5,4,c,arr))\n",
    "print(incr)"
   ]
  },
  {
   "cell_type": "code",
   "execution_count": null,
   "metadata": {},
   "outputs": [],
   "source": []
  }
 ],
 "metadata": {
  "kernelspec": {
   "display_name": "Python 3",
   "language": "python",
   "name": "python3"
  },
  "language_info": {
   "codemirror_mode": {
    "name": "ipython",
    "version": 3
   },
   "file_extension": ".py",
   "mimetype": "text/x-python",
   "name": "python",
   "nbconvert_exporter": "python",
   "pygments_lexer": "ipython3",
   "version": "3.7.5rc1"
  }
 },
 "nbformat": 4,
 "nbformat_minor": 2
}
